{
  "nbformat": 4,
  "nbformat_minor": 0,
  "metadata": {
    "colab": {
      "provenance": [],
      "collapsed_sections": []
    },
    "kernelspec": {
      "name": "python3",
      "display_name": "Python 3"
    },
    "language_info": {
      "name": "python"
    }
  },
  "cells": [
    {
      "cell_type": "markdown",
      "source": [
        "***Exp-3: MULTI-LAYER NEURAL NETWORK WITH VARIOUS ACTIVATION AND LOSS FUNCTIONS***"
      ],
      "metadata": {
        "id": "IV0aOJK7Uycu"
      }
    },
    {
      "cell_type": "code",
      "execution_count": null,
      "metadata": {
        "id": "np_GUdKUF7bs"
      },
      "outputs": [],
      "source": [
        "import numpy \n",
        "import pandas "
      ]
    },
    {
      "cell_type": "markdown",
      "source": [
        "Upload the dataset"
      ],
      "metadata": {
        "id": "58vILbkhscHD"
      }
    },
    {
      "cell_type": "code",
      "source": [
        "from google.colab import files\n",
        "dataset=files.upload()"
      ],
      "metadata": {
        "colab": {
          "base_uri": "https://localhost:8080/",
          "height": 73
        },
        "id": "TsnMKJWpsfTI",
        "outputId": "d5621ee7-809b-4198-f73a-ba1e5de2ceae"
      },
      "execution_count": null,
      "outputs": [
        {
          "output_type": "display_data",
          "data": {
            "text/plain": [
              "<IPython.core.display.HTML object>"
            ],
            "text/html": [
              "\n",
              "     <input type=\"file\" id=\"files-62a7d90b-35f3-494e-92ad-402ab111ba15\" name=\"files[]\" multiple disabled\n",
              "        style=\"border:none\" />\n",
              "     <output id=\"result-62a7d90b-35f3-494e-92ad-402ab111ba15\">\n",
              "      Upload widget is only available when the cell has been executed in the\n",
              "      current browser session. Please rerun this cell to enable.\n",
              "      </output>\n",
              "      <script>// Copyright 2017 Google LLC\n",
              "//\n",
              "// Licensed under the Apache License, Version 2.0 (the \"License\");\n",
              "// you may not use this file except in compliance with the License.\n",
              "// You may obtain a copy of the License at\n",
              "//\n",
              "//      http://www.apache.org/licenses/LICENSE-2.0\n",
              "//\n",
              "// Unless required by applicable law or agreed to in writing, software\n",
              "// distributed under the License is distributed on an \"AS IS\" BASIS,\n",
              "// WITHOUT WARRANTIES OR CONDITIONS OF ANY KIND, either express or implied.\n",
              "// See the License for the specific language governing permissions and\n",
              "// limitations under the License.\n",
              "\n",
              "/**\n",
              " * @fileoverview Helpers for google.colab Python module.\n",
              " */\n",
              "(function(scope) {\n",
              "function span(text, styleAttributes = {}) {\n",
              "  const element = document.createElement('span');\n",
              "  element.textContent = text;\n",
              "  for (const key of Object.keys(styleAttributes)) {\n",
              "    element.style[key] = styleAttributes[key];\n",
              "  }\n",
              "  return element;\n",
              "}\n",
              "\n",
              "// Max number of bytes which will be uploaded at a time.\n",
              "const MAX_PAYLOAD_SIZE = 100 * 1024;\n",
              "\n",
              "function _uploadFiles(inputId, outputId) {\n",
              "  const steps = uploadFilesStep(inputId, outputId);\n",
              "  const outputElement = document.getElementById(outputId);\n",
              "  // Cache steps on the outputElement to make it available for the next call\n",
              "  // to uploadFilesContinue from Python.\n",
              "  outputElement.steps = steps;\n",
              "\n",
              "  return _uploadFilesContinue(outputId);\n",
              "}\n",
              "\n",
              "// This is roughly an async generator (not supported in the browser yet),\n",
              "// where there are multiple asynchronous steps and the Python side is going\n",
              "// to poll for completion of each step.\n",
              "// This uses a Promise to block the python side on completion of each step,\n",
              "// then passes the result of the previous step as the input to the next step.\n",
              "function _uploadFilesContinue(outputId) {\n",
              "  const outputElement = document.getElementById(outputId);\n",
              "  const steps = outputElement.steps;\n",
              "\n",
              "  const next = steps.next(outputElement.lastPromiseValue);\n",
              "  return Promise.resolve(next.value.promise).then((value) => {\n",
              "    // Cache the last promise value to make it available to the next\n",
              "    // step of the generator.\n",
              "    outputElement.lastPromiseValue = value;\n",
              "    return next.value.response;\n",
              "  });\n",
              "}\n",
              "\n",
              "/**\n",
              " * Generator function which is called between each async step of the upload\n",
              " * process.\n",
              " * @param {string} inputId Element ID of the input file picker element.\n",
              " * @param {string} outputId Element ID of the output display.\n",
              " * @return {!Iterable<!Object>} Iterable of next steps.\n",
              " */\n",
              "function* uploadFilesStep(inputId, outputId) {\n",
              "  const inputElement = document.getElementById(inputId);\n",
              "  inputElement.disabled = false;\n",
              "\n",
              "  const outputElement = document.getElementById(outputId);\n",
              "  outputElement.innerHTML = '';\n",
              "\n",
              "  const pickedPromise = new Promise((resolve) => {\n",
              "    inputElement.addEventListener('change', (e) => {\n",
              "      resolve(e.target.files);\n",
              "    });\n",
              "  });\n",
              "\n",
              "  const cancel = document.createElement('button');\n",
              "  inputElement.parentElement.appendChild(cancel);\n",
              "  cancel.textContent = 'Cancel upload';\n",
              "  const cancelPromise = new Promise((resolve) => {\n",
              "    cancel.onclick = () => {\n",
              "      resolve(null);\n",
              "    };\n",
              "  });\n",
              "\n",
              "  // Wait for the user to pick the files.\n",
              "  const files = yield {\n",
              "    promise: Promise.race([pickedPromise, cancelPromise]),\n",
              "    response: {\n",
              "      action: 'starting',\n",
              "    }\n",
              "  };\n",
              "\n",
              "  cancel.remove();\n",
              "\n",
              "  // Disable the input element since further picks are not allowed.\n",
              "  inputElement.disabled = true;\n",
              "\n",
              "  if (!files) {\n",
              "    return {\n",
              "      response: {\n",
              "        action: 'complete',\n",
              "      }\n",
              "    };\n",
              "  }\n",
              "\n",
              "  for (const file of files) {\n",
              "    const li = document.createElement('li');\n",
              "    li.append(span(file.name, {fontWeight: 'bold'}));\n",
              "    li.append(span(\n",
              "        `(${file.type || 'n/a'}) - ${file.size} bytes, ` +\n",
              "        `last modified: ${\n",
              "            file.lastModifiedDate ? file.lastModifiedDate.toLocaleDateString() :\n",
              "                                    'n/a'} - `));\n",
              "    const percent = span('0% done');\n",
              "    li.appendChild(percent);\n",
              "\n",
              "    outputElement.appendChild(li);\n",
              "\n",
              "    const fileDataPromise = new Promise((resolve) => {\n",
              "      const reader = new FileReader();\n",
              "      reader.onload = (e) => {\n",
              "        resolve(e.target.result);\n",
              "      };\n",
              "      reader.readAsArrayBuffer(file);\n",
              "    });\n",
              "    // Wait for the data to be ready.\n",
              "    let fileData = yield {\n",
              "      promise: fileDataPromise,\n",
              "      response: {\n",
              "        action: 'continue',\n",
              "      }\n",
              "    };\n",
              "\n",
              "    // Use a chunked sending to avoid message size limits. See b/62115660.\n",
              "    let position = 0;\n",
              "    do {\n",
              "      const length = Math.min(fileData.byteLength - position, MAX_PAYLOAD_SIZE);\n",
              "      const chunk = new Uint8Array(fileData, position, length);\n",
              "      position += length;\n",
              "\n",
              "      const base64 = btoa(String.fromCharCode.apply(null, chunk));\n",
              "      yield {\n",
              "        response: {\n",
              "          action: 'append',\n",
              "          file: file.name,\n",
              "          data: base64,\n",
              "        },\n",
              "      };\n",
              "\n",
              "      let percentDone = fileData.byteLength === 0 ?\n",
              "          100 :\n",
              "          Math.round((position / fileData.byteLength) * 100);\n",
              "      percent.textContent = `${percentDone}% done`;\n",
              "\n",
              "    } while (position < fileData.byteLength);\n",
              "  }\n",
              "\n",
              "  // All done.\n",
              "  yield {\n",
              "    response: {\n",
              "      action: 'complete',\n",
              "    }\n",
              "  };\n",
              "}\n",
              "\n",
              "scope.google = scope.google || {};\n",
              "scope.google.colab = scope.google.colab || {};\n",
              "scope.google.colab._files = {\n",
              "  _uploadFiles,\n",
              "  _uploadFilesContinue,\n",
              "};\n",
              "})(self);\n",
              "</script> "
            ]
          },
          "metadata": {}
        },
        {
          "output_type": "stream",
          "name": "stdout",
          "text": [
            "Saving Mobile_Price_Classification_train.csv to Mobile_Price_Classification_train.csv\n"
          ]
        }
      ]
    },
    {
      "cell_type": "markdown",
      "source": [
        "Store the dataset as a dataframe"
      ],
      "metadata": {
        "id": "2km6qmdctisr"
      }
    },
    {
      "cell_type": "code",
      "source": [
        "df=pandas.read_csv('Mobile_Price_Classification_train.csv')"
      ],
      "metadata": {
        "id": "BJKNLsJ8tmOj"
      },
      "execution_count": null,
      "outputs": []
    },
    {
      "cell_type": "markdown",
      "source": [
        "Display the dataframe"
      ],
      "metadata": {
        "id": "36y7e5uSt90W"
      }
    },
    {
      "cell_type": "code",
      "source": [
        "print(df)"
      ],
      "metadata": {
        "colab": {
          "base_uri": "https://localhost:8080/"
        },
        "id": "B7J6ah0KuAvu",
        "outputId": "6d6406d2-b52a-4fe3-9e70-2d94691f0ed7"
      },
      "execution_count": null,
      "outputs": [
        {
          "output_type": "stream",
          "name": "stdout",
          "text": [
            "      battery_power  blue  clock_speed  dual_sim  fc  four_g  int_memory  \\\n",
            "0               842     0          2.2         0   1       0           7   \n",
            "1              1021     1          0.5         1   0       1          53   \n",
            "2               563     1          0.5         1   2       1          41   \n",
            "3               615     1          2.5         0   0       0          10   \n",
            "4              1821     1          1.2         0  13       1          44   \n",
            "...             ...   ...          ...       ...  ..     ...         ...   \n",
            "1995            794     1          0.5         1   0       1           2   \n",
            "1996           1965     1          2.6         1   0       0          39   \n",
            "1997           1911     0          0.9         1   1       1          36   \n",
            "1998           1512     0          0.9         0   4       1          46   \n",
            "1999            510     1          2.0         1   5       1          45   \n",
            "\n",
            "      m_dep  mobile_wt  n_cores  ...  px_height  px_width   ram  sc_h  sc_w  \\\n",
            "0       0.6        188        2  ...         20       756  2549     9     7   \n",
            "1       0.7        136        3  ...        905      1988  2631    17     3   \n",
            "2       0.9        145        5  ...       1263      1716  2603    11     2   \n",
            "3       0.8        131        6  ...       1216      1786  2769    16     8   \n",
            "4       0.6        141        2  ...       1208      1212  1411     8     2   \n",
            "...     ...        ...      ...  ...        ...       ...   ...   ...   ...   \n",
            "1995    0.8        106        6  ...       1222      1890   668    13     4   \n",
            "1996    0.2        187        4  ...        915      1965  2032    11    10   \n",
            "1997    0.7        108        8  ...        868      1632  3057     9     1   \n",
            "1998    0.1        145        5  ...        336       670   869    18    10   \n",
            "1999    0.9        168        6  ...        483       754  3919    19     4   \n",
            "\n",
            "      talk_time  three_g  touch_screen  wifi  price_range  \n",
            "0            19        0             0     1            1  \n",
            "1             7        1             1     0            2  \n",
            "2             9        1             1     0            2  \n",
            "3            11        1             0     0            2  \n",
            "4            15        1             1     0            1  \n",
            "...         ...      ...           ...   ...          ...  \n",
            "1995         19        1             1     0            0  \n",
            "1996         16        1             1     1            2  \n",
            "1997          5        1             1     0            3  \n",
            "1998         19        1             1     1            0  \n",
            "1999          2        1             1     1            3  \n",
            "\n",
            "[2000 rows x 21 columns]\n"
          ]
        }
      ]
    },
    {
      "cell_type": "markdown",
      "source": [
        "Understand your data"
      ],
      "metadata": {
        "id": "zPHILQZruFcJ"
      }
    },
    {
      "cell_type": "code",
      "source": [
        "df.shape"
      ],
      "metadata": {
        "colab": {
          "base_uri": "https://localhost:8080/"
        },
        "id": "eFt3wUT4uJ1D",
        "outputId": "69d67969-a4fc-4d29-de5d-2bac33324544"
      },
      "execution_count": null,
      "outputs": [
        {
          "output_type": "execute_result",
          "data": {
            "text/plain": [
              "(2000, 21)"
            ]
          },
          "metadata": {},
          "execution_count": 5
        }
      ]
    },
    {
      "cell_type": "markdown",
      "source": [
        "Separate the attributes and the label"
      ],
      "metadata": {
        "id": "yTtOhNX5uNpn"
      }
    },
    {
      "cell_type": "code",
      "source": [
        "data=df.drop(['price_range'],axis=1)\n",
        "label=df['price_range']\n",
        "print(data)"
      ],
      "metadata": {
        "colab": {
          "base_uri": "https://localhost:8080/"
        },
        "id": "RcQKj2-DuRwR",
        "outputId": "eff3de0a-fa02-4d33-a74c-ab4c9d4c7ce1"
      },
      "execution_count": null,
      "outputs": [
        {
          "output_type": "stream",
          "name": "stdout",
          "text": [
            "      battery_power  blue  clock_speed  dual_sim  fc  four_g  int_memory  \\\n",
            "0               842     0          2.2         0   1       0           7   \n",
            "1              1021     1          0.5         1   0       1          53   \n",
            "2               563     1          0.5         1   2       1          41   \n",
            "3               615     1          2.5         0   0       0          10   \n",
            "4              1821     1          1.2         0  13       1          44   \n",
            "...             ...   ...          ...       ...  ..     ...         ...   \n",
            "1995            794     1          0.5         1   0       1           2   \n",
            "1996           1965     1          2.6         1   0       0          39   \n",
            "1997           1911     0          0.9         1   1       1          36   \n",
            "1998           1512     0          0.9         0   4       1          46   \n",
            "1999            510     1          2.0         1   5       1          45   \n",
            "\n",
            "      m_dep  mobile_wt  n_cores  pc  px_height  px_width   ram  sc_h  sc_w  \\\n",
            "0       0.6        188        2   2         20       756  2549     9     7   \n",
            "1       0.7        136        3   6        905      1988  2631    17     3   \n",
            "2       0.9        145        5   6       1263      1716  2603    11     2   \n",
            "3       0.8        131        6   9       1216      1786  2769    16     8   \n",
            "4       0.6        141        2  14       1208      1212  1411     8     2   \n",
            "...     ...        ...      ...  ..        ...       ...   ...   ...   ...   \n",
            "1995    0.8        106        6  14       1222      1890   668    13     4   \n",
            "1996    0.2        187        4   3        915      1965  2032    11    10   \n",
            "1997    0.7        108        8   3        868      1632  3057     9     1   \n",
            "1998    0.1        145        5   5        336       670   869    18    10   \n",
            "1999    0.9        168        6  16        483       754  3919    19     4   \n",
            "\n",
            "      talk_time  three_g  touch_screen  wifi  \n",
            "0            19        0             0     1  \n",
            "1             7        1             1     0  \n",
            "2             9        1             1     0  \n",
            "3            11        1             0     0  \n",
            "4            15        1             1     0  \n",
            "...         ...      ...           ...   ...  \n",
            "1995         19        1             1     0  \n",
            "1996         16        1             1     1  \n",
            "1997          5        1             1     0  \n",
            "1998         19        1             1     1  \n",
            "1999          2        1             1     1  \n",
            "\n",
            "[2000 rows x 20 columns]\n"
          ]
        }
      ]
    },
    {
      "cell_type": "markdown",
      "source": [
        "Train-test split"
      ],
      "metadata": {
        "id": "PDvQG1cf2zPo"
      }
    },
    {
      "cell_type": "code",
      "source": [
        "from sklearn.model_selection import train_test_split\n",
        "datasets=train_test_split(data,label,test_size=0.2)\n",
        "train_data,test_data,train_label,test_label=datasets\n",
        "print(train_data.shape)\n",
        "print(test_data.shape)\n",
        "print(train_label.shape)"
      ],
      "metadata": {
        "colab": {
          "base_uri": "https://localhost:8080/"
        },
        "id": "0nqXO1XOHIHI",
        "outputId": "cfcc71e3-74b5-4d21-881d-13270d118eef"
      },
      "execution_count": null,
      "outputs": [
        {
          "output_type": "stream",
          "name": "stdout",
          "text": [
            "(1600, 20)\n",
            "(400, 20)\n",
            "(1600,)\n"
          ]
        }
      ]
    },
    {
      "cell_type": "markdown",
      "source": [
        "Data preprocessing using Keras"
      ],
      "metadata": {
        "id": "4Gacg_L3uwob"
      }
    },
    {
      "cell_type": "code",
      "source": [
        "import tensorflow as tf\n",
        "print(tf.__version__)"
      ],
      "metadata": {
        "colab": {
          "base_uri": "https://localhost:8080/"
        },
        "id": "_ax3qnhG077H",
        "outputId": "fa49973a-57f8-424b-c519-431f44b65f52"
      },
      "execution_count": null,
      "outputs": [
        {
          "output_type": "stream",
          "name": "stdout",
          "text": [
            "2.8.2\n"
          ]
        }
      ]
    },
    {
      "cell_type": "markdown",
      "source": [
        "Normalize training data"
      ],
      "metadata": {
        "id": "7AKeaOQTnV8u"
      }
    },
    {
      "cell_type": "code",
      "source": [
        "layer=tf.keras.layers.Normalization()"
      ],
      "metadata": {
        "id": "fCI_t_io1V50"
      },
      "execution_count": null,
      "outputs": []
    },
    {
      "cell_type": "code",
      "source": [
        "layer.adapt(train_data)\n",
        "normalized_train_data=layer(train_data)\n",
        "print(normalized_train_data)"
      ],
      "metadata": {
        "colab": {
          "base_uri": "https://localhost:8080/"
        },
        "id": "MApyp_69xMv7",
        "outputId": "9d8205a2-e2b5-4d43-f4bc-160e8505f720"
      },
      "execution_count": null,
      "outputs": [
        {
          "output_type": "stream",
          "name": "stdout",
          "text": [
            "tf.Tensor(\n",
            "[[ 1.3302859   1.0113134  -0.8752446  ... -1.7856317   0.99376935\n",
            "   0.9789709 ]\n",
            " [ 0.6976849   1.0113134   0.3583625  ...  0.56002617 -1.0062697\n",
            "   0.9789709 ]\n",
            " [-0.8246536  -0.98881274  0.605084   ...  0.56002617 -1.0062697\n",
            "   0.9789709 ]\n",
            " ...\n",
            " [ 0.06053273  1.0113134  -0.2584411  ... -1.7856317  -1.0062697\n",
            "  -1.0214808 ]\n",
            " [ 1.384899   -0.98881274  1.7153306  ...  0.56002617 -1.0062697\n",
            "  -1.0214808 ]\n",
            " [ 1.4986762   1.0113134  -1.2453268  ...  0.56002617 -1.0062697\n",
            "  -1.0214808 ]], shape=(1600, 20), dtype=float32)\n"
          ]
        }
      ]
    },
    {
      "cell_type": "code",
      "source": [
        "print(\"Features mean: %.2f\" % (normalized_train_data.numpy().mean()))\n",
        "print(\"Features std: %.2f\" % (normalized_train_data.numpy().std()))"
      ],
      "metadata": {
        "colab": {
          "base_uri": "https://localhost:8080/"
        },
        "id": "Zp3vr9u-H7vn",
        "outputId": "a82dd785-2f44-4f86-9e5e-be7d2f1cad61"
      },
      "execution_count": null,
      "outputs": [
        {
          "output_type": "stream",
          "name": "stdout",
          "text": [
            "Features mean: -0.00\n",
            "Features std: 1.00\n"
          ]
        }
      ]
    },
    {
      "cell_type": "markdown",
      "source": [
        "Convert tensor to numpy array"
      ],
      "metadata": {
        "id": "DInbapCOmmnY"
      }
    },
    {
      "cell_type": "code",
      "source": [
        "norm_train_data=normalized_train_data.numpy()"
      ],
      "metadata": {
        "id": "KTJuFEvge-S7"
      },
      "execution_count": null,
      "outputs": []
    },
    {
      "cell_type": "markdown",
      "source": [
        "Convert NumPy array to Dataframe"
      ],
      "metadata": {
        "id": "Lk4en0Zk1uUd"
      }
    },
    {
      "cell_type": "code",
      "source": [
        "data.columns"
      ],
      "metadata": {
        "colab": {
          "base_uri": "https://localhost:8080/"
        },
        "id": "okT4Ozh113wu",
        "outputId": "2e33f991-8f2a-4058-c356-f0e22900e027"
      },
      "execution_count": null,
      "outputs": [
        {
          "output_type": "execute_result",
          "data": {
            "text/plain": [
              "Index(['battery_power', 'blue', 'clock_speed', 'dual_sim', 'fc', 'four_g',\n",
              "       'int_memory', 'm_dep', 'mobile_wt', 'n_cores', 'pc', 'px_height',\n",
              "       'px_width', 'ram', 'sc_h', 'sc_w', 'talk_time', 'three_g',\n",
              "       'touch_screen', 'wifi'],\n",
              "      dtype='object')"
            ]
          },
          "metadata": {},
          "execution_count": 13
        }
      ]
    },
    {
      "cell_type": "code",
      "source": [
        "norm_dataframe=pandas.DataFrame(norm_train_data,columns=['battery_power', 'blue', 'clock_speed', 'dual_sim', 'fc', 'four_g',\n",
        "       'int_memory', 'm_dep', 'mobile_wt', 'n_cores', 'pc', 'px_height',\n",
        "       'px_width', 'ram', 'sc_h', 'sc_w', 'talk_time', 'three_g',\n",
        "       'touch_screen', 'wifi'])"
      ],
      "metadata": {
        "id": "SYBTV8P32Ckd"
      },
      "execution_count": null,
      "outputs": []
    },
    {
      "cell_type": "code",
      "source": [
        "print(norm_dataframe)"
      ],
      "metadata": {
        "colab": {
          "base_uri": "https://localhost:8080/"
        },
        "id": "1k-hOD8c20cn",
        "outputId": "1cfe2118-0710-40db-c193-22bc8eb1d04a"
      },
      "execution_count": null,
      "outputs": [
        {
          "output_type": "stream",
          "name": "stdout",
          "text": [
            "      battery_power      blue  clock_speed  dual_sim        fc    four_g  \\\n",
            "0          1.330286  1.011313    -0.875245 -1.007528 -0.064445 -1.029175   \n",
            "1          0.697685  1.011313     0.358362  0.992528 -0.993379 -1.029175   \n",
            "2         -0.824654 -0.988813     0.605084  0.992528 -0.761145  0.971652   \n",
            "3          0.952546  1.011313    -0.875245  0.992528 -0.761145  0.971652   \n",
            "4         -1.184190 -0.988813    -0.505162 -1.007528  1.793422 -1.029175   \n",
            "...             ...       ...          ...       ...       ...       ...   \n",
            "1595      -0.972564 -0.988813     0.605084  0.992528 -0.064445 -1.029175   \n",
            "1596       0.788707  1.011313    -0.135080 -1.007528 -0.296678  0.971652   \n",
            "1597       0.060533  1.011313    -0.258441 -1.007528  2.257889 -1.029175   \n",
            "1598       1.384899 -0.988813     1.715331 -1.007528 -0.993379 -1.029175   \n",
            "1599       1.498676  1.011313    -1.245327 -1.007528  0.167788  0.971652   \n",
            "\n",
            "      int_memory     m_dep  mobile_wt   n_cores        pc  px_height  \\\n",
            "0       1.591927  1.366879  -0.281076  1.083251 -0.142453  -0.874254   \n",
            "1       1.646436  0.675226  -1.386668 -0.225154 -0.966471  -1.068725   \n",
            "2       0.992318 -0.016427   1.533229  1.083251 -1.131275   1.077238   \n",
            "3      -1.406116  1.712705  -0.876395  1.083251 -1.296079  -0.103154   \n",
            "4      -1.079057  1.712705  -1.329971  0.647116  1.670389  -1.134302   \n",
            "...          ...       ...        ...       ...       ...        ...   \n",
            "1595    1.046828 -0.708079  -1.556759  0.647116  0.351959   0.774226   \n",
            "1596   -0.315919 -1.399732  -1.131531  1.519387  1.011174   2.336776   \n",
            "1597    1.101338  1.021052  -0.621258 -1.097425  0.846370   2.164919   \n",
            "1598    1.155848  0.675226  -0.791349  0.647116 -1.296079  -1.052896   \n",
            "1599    0.501729  0.329400  -0.252727 -1.097425  1.175977  -1.439576   \n",
            "\n",
            "      px_width       ram      sc_h      sc_w  talk_time   three_g  \\\n",
            "0     1.179096  0.528603 -0.996166 -0.630362  -0.717217 -1.785632   \n",
            "1    -0.601950 -1.208128 -1.231285 -0.630362  -0.352221  0.560026   \n",
            "2     0.297777 -1.182453  0.649662  0.744348  -0.899714  0.560026   \n",
            "3     0.196529 -1.148525 -0.761048  0.515229  -1.629706  0.560026   \n",
            "4     0.274766  0.222337  0.179425  0.056993  -1.447208 -1.785632   \n",
            "...        ...       ...       ...       ...        ...       ...   \n",
            "1595  0.090679  1.240168 -1.701521 -0.401243  -0.899714  0.560026   \n",
            "1596  1.167590  1.699567  0.884780  0.515229   1.290260  0.560026   \n",
            "1597  1.538067 -1.331001  1.355017 -0.172125  -1.082212 -1.785632   \n",
            "1598 -0.176248  0.514849 -1.466403 -1.317716  -0.534719  0.560026   \n",
            "1599  0.944384 -1.603340 -1.701521 -1.088598   0.195273  0.560026   \n",
            "\n",
            "      touch_screen      wifi  \n",
            "0         0.993769  0.978971  \n",
            "1        -1.006270  0.978971  \n",
            "2        -1.006270  0.978971  \n",
            "3        -1.006270  0.978971  \n",
            "4        -1.006270 -1.021481  \n",
            "...            ...       ...  \n",
            "1595     -1.006270  0.978971  \n",
            "1596     -1.006270  0.978971  \n",
            "1597     -1.006270 -1.021481  \n",
            "1598     -1.006270 -1.021481  \n",
            "1599     -1.006270 -1.021481  \n",
            "\n",
            "[1600 rows x 20 columns]\n"
          ]
        }
      ]
    },
    {
      "cell_type": "markdown",
      "source": [
        "Normalize test data"
      ],
      "metadata": {
        "id": "pRHd0-HzNW2U"
      }
    },
    {
      "cell_type": "code",
      "source": [
        "layer=tf.keras.layers.Normalization()\n",
        "layer.adapt(test_data)\n",
        "norm_test_data=layer(test_data)"
      ],
      "metadata": {
        "id": "OwWaamUhNZ5i"
      },
      "execution_count": null,
      "outputs": []
    },
    {
      "cell_type": "markdown",
      "source": [
        "Convert tensor to numpy array"
      ],
      "metadata": {
        "id": "E2wuXISYOQo9"
      }
    },
    {
      "cell_type": "code",
      "source": [
        "norm_test_data_arr=norm_test_data.numpy()"
      ],
      "metadata": {
        "id": "PNWSNScxOQLy"
      },
      "execution_count": null,
      "outputs": []
    },
    {
      "cell_type": "markdown",
      "source": [
        "Convert numpy array to dataframe"
      ],
      "metadata": {
        "id": "Nh8r4TqfOnAY"
      }
    },
    {
      "cell_type": "code",
      "source": [
        "norm_test_dataframe=pandas.DataFrame(norm_test_data_arr,columns=['battery_power', 'blue', 'clock_speed', 'dual_sim', 'fc', 'four_g',\n",
        "       'int_memory', 'm_dep', 'mobile_wt', 'n_cores', 'pc', 'px_height',\n",
        "       'px_width', 'ram', 'sc_h', 'sc_w', 'talk_time', 'three_g',\n",
        "       'touch_screen', 'wifi'])\n",
        "print(norm_test_dataframe)"
      ],
      "metadata": {
        "colab": {
          "base_uri": "https://localhost:8080/"
        },
        "id": "2ahv297POg6B",
        "outputId": "df8b587a-2c40-45b2-fd38-bb93f4e55845"
      },
      "execution_count": null,
      "outputs": [
        {
          "output_type": "stream",
          "name": "stdout",
          "text": [
            "     battery_power      blue  clock_speed  dual_sim        fc    four_g  \\\n",
            "0         0.812094  1.005013    -0.087807 -1.067257 -0.992104 -1.105542   \n",
            "1         0.282868 -0.995012    -0.807049  0.936982  0.796478  0.904534   \n",
            "2         0.526951  1.005013    -1.286544  0.936982 -0.768531 -1.105542   \n",
            "3        -1.400619  1.005013     1.710297 -1.067257  2.361487  0.904534   \n",
            "4        -0.533783  1.005013    -1.046797 -1.067257  1.914342  0.904534   \n",
            "..             ...       ...          ...       ...       ...       ...   \n",
            "395       0.834906  1.005013     0.751308  0.936982 -0.544958 -1.105542   \n",
            "396       0.588542  1.005013    -1.046797  0.936982 -0.097813  0.904534   \n",
            "397       1.005992  1.005013     1.590423  0.936982  1.020051  0.904534   \n",
            "398      -1.117756 -0.995012     0.631434 -1.067257  0.125760  0.904534   \n",
            "399       0.433424  1.005013    -1.286544  0.936982 -0.097813  0.904534   \n",
            "\n",
            "     int_memory     m_dep  mobile_wt   n_cores        pc  px_height  px_width  \\\n",
            "0     -0.350436 -1.017638   0.011586  0.645798  1.304205   0.365321  0.551639   \n",
            "1      1.155571  1.089637  -0.937648  0.645798  0.807365   0.655028 -0.576307   \n",
            "2      0.055027  0.738425  -1.635615 -0.237344 -1.179995  -0.929447 -0.517066   \n",
            "3      0.634261 -0.666426  -0.686380 -1.562058  0.972979  -1.357323  0.004254   \n",
            "4      1.039724 -0.315213  -0.267600 -0.678916  0.807365   0.006530 -1.059712   \n",
            "..          ...       ...        ...       ...       ...        ...       ...   \n",
            "395    1.445188 -1.368851  -0.379275 -0.237344 -1.014382   0.646114  1.563473   \n",
            "396    0.228797  0.387212  -1.272672  0.204227  0.476139  -1.228069  0.667751   \n",
            "397   -1.045516  0.035999   0.988740  1.087370  1.469819   1.138616  1.606126   \n",
            "398   -1.508903 -1.017638   0.904984  1.087370 -0.020702  -0.494887  0.373917   \n",
            "399    0.692184 -0.315213  -1.049323  0.204227 -0.683155   2.856802  1.760152   \n",
            "\n",
            "          ram      sc_h      sc_w  talk_time  three_g  touch_screen      wifi  \n",
            "0   -0.417255  0.846955 -0.423853  -0.248041   0.5581      0.995013  1.015114  \n",
            "1    1.587128  0.598945 -0.655467   0.495153   0.5581     -1.005013  1.015114  \n",
            "2    1.193427 -1.385136 -0.192239  -1.177034   0.5581      0.995013 -0.985111  \n",
            "3    0.402248  0.598945  1.197443   0.680952   0.5581     -1.005013  1.015114  \n",
            "4    0.183210 -0.641106 -1.118694   1.609945   0.5581     -1.005013  1.015114  \n",
            "..        ...       ...       ...        ...      ...           ...       ...  \n",
            "395  1.705144  0.846955  1.892284   0.495153   0.5581     -1.005013  1.015114  \n",
            "396  0.745910 -0.641106 -0.192239   0.866750   0.5581      0.995013  1.015114  \n",
            "397 -0.176502 -0.145086  0.270988  -0.433840   0.5581     -1.005013 -0.985111  \n",
            "398 -0.709934  0.598945  0.502602  -1.734430   0.5581      0.995013 -0.985111  \n",
            "399  0.772346  1.094965  0.502602   0.680952   0.5581     -1.005013  1.015114  \n",
            "\n",
            "[400 rows x 20 columns]\n"
          ]
        }
      ]
    },
    {
      "cell_type": "markdown",
      "source": [
        "Multi layer neural network using Keras"
      ],
      "metadata": {
        "id": "_yH7DQBlU8Mr"
      }
    },
    {
      "cell_type": "code",
      "source": [
        "import keras.api._v2.keras as keras\n",
        "from keras import layers\n",
        "callback =keras.callbacks.EarlyStopping(monitor='val_accuracy', patience=15)\n",
        "model_1= keras.Sequential()"
      ],
      "metadata": {
        "id": "hAawTNirNcGB"
      },
      "execution_count": null,
      "outputs": []
    },
    {
      "cell_type": "markdown",
      "source": [
        "SGD"
      ],
      "metadata": {
        "id": "gBt9_xnVV0rS"
      }
    },
    {
      "cell_type": "code",
      "source": [
        "model_1.add(tf.keras.layers.Dense(units=17,input_shape=(20,),activation='relu'))\n",
        "model_1.add(tf.keras.layers.Dense(units=12,activation='relu'))\n",
        "model_1.add(tf.keras.layers.Dense(units=7,activation='relu'))\n",
        "model_1.add(tf.keras.layers.Dense(units=4,activation='softmax'))"
      ],
      "metadata": {
        "id": "I49_L-SuV3L2"
      },
      "execution_count": null,
      "outputs": []
    },
    {
      "cell_type": "markdown",
      "source": [
        "Configure the learning process of the model"
      ],
      "metadata": {
        "id": "GJYe0VLTXIya"
      }
    },
    {
      "cell_type": "code",
      "source": [
        "model_1.compile(loss='categorical_crossentropy',\n",
        "              optimizer=tf.keras.optimizers.SGD(learning_rate=1e-3),\n",
        "              metrics=['accuracy']\n",
        "              )"
      ],
      "metadata": {
        "id": "0N2wjmoBXahy"
      },
      "execution_count": null,
      "outputs": []
    },
    {
      "cell_type": "code",
      "source": [
        "print(model_1.summary())"
      ],
      "metadata": {
        "colab": {
          "base_uri": "https://localhost:8080/"
        },
        "id": "VPP0nFqM8aLE",
        "outputId": "1651afde-f4ab-452b-bee2-1f73ce022e8e"
      },
      "execution_count": null,
      "outputs": [
        {
          "output_type": "stream",
          "name": "stdout",
          "text": [
            "Model: \"sequential\"\n",
            "_________________________________________________________________\n",
            " Layer (type)                Output Shape              Param #   \n",
            "=================================================================\n",
            " dense (Dense)               (None, 17)                357       \n",
            "                                                                 \n",
            " dense_1 (Dense)             (None, 12)                216       \n",
            "                                                                 \n",
            " dense_2 (Dense)             (None, 7)                 91        \n",
            "                                                                 \n",
            " dense_3 (Dense)             (None, 4)                 32        \n",
            "                                                                 \n",
            "=================================================================\n",
            "Total params: 696\n",
            "Trainable params: 696\n",
            "Non-trainable params: 0\n",
            "_________________________________________________________________\n",
            "None\n"
          ]
        }
      ]
    },
    {
      "cell_type": "markdown",
      "source": [
        "Iterate on your training data in batches"
      ],
      "metadata": {
        "id": "gJilqP1FakMr"
      }
    },
    {
      "cell_type": "code",
      "source": [
        "Y_train = tf.one_hot(train_label, 4)\n",
        "Y_test=tf.one_hot(test_label,4)\n",
        "history_1=model_1.fit(norm_train_data,Y_train,epochs=200,batch_size=10,validation_data=(norm_test_data_arr,Y_test))"
      ],
      "metadata": {
        "colab": {
          "base_uri": "https://localhost:8080/"
        },
        "id": "O6UHprvwbx7r",
        "outputId": "153211e7-6d18-42da-9fae-dd06679438fc"
      },
      "execution_count": null,
      "outputs": [
        {
          "output_type": "stream",
          "name": "stdout",
          "text": [
            "Epoch 1/200\n",
            "160/160 [==============================] - 3s 11ms/step - loss: 1.3662 - accuracy: 0.2975 - val_loss: 1.3552 - val_accuracy: 0.2950\n",
            "Epoch 2/200\n",
            "160/160 [==============================] - 1s 4ms/step - loss: 1.3476 - accuracy: 0.3006 - val_loss: 1.3392 - val_accuracy: 0.2950\n",
            "Epoch 3/200\n",
            "160/160 [==============================] - 1s 4ms/step - loss: 1.3330 - accuracy: 0.3113 - val_loss: 1.3267 - val_accuracy: 0.2875\n",
            "Epoch 4/200\n",
            "160/160 [==============================] - 0s 2ms/step - loss: 1.3210 - accuracy: 0.3237 - val_loss: 1.3161 - val_accuracy: 0.3000\n",
            "Epoch 5/200\n",
            "160/160 [==============================] - 0s 2ms/step - loss: 1.3103 - accuracy: 0.3375 - val_loss: 1.3065 - val_accuracy: 0.3000\n",
            "Epoch 6/200\n",
            "160/160 [==============================] - 0s 2ms/step - loss: 1.3006 - accuracy: 0.3438 - val_loss: 1.2974 - val_accuracy: 0.3175\n",
            "Epoch 7/200\n",
            "160/160 [==============================] - 0s 2ms/step - loss: 1.2912 - accuracy: 0.3587 - val_loss: 1.2887 - val_accuracy: 0.3250\n",
            "Epoch 8/200\n",
            "160/160 [==============================] - 0s 2ms/step - loss: 1.2820 - accuracy: 0.3719 - val_loss: 1.2800 - val_accuracy: 0.3425\n",
            "Epoch 9/200\n",
            "160/160 [==============================] - 0s 2ms/step - loss: 1.2728 - accuracy: 0.3825 - val_loss: 1.2712 - val_accuracy: 0.3550\n",
            "Epoch 10/200\n",
            "160/160 [==============================] - 0s 2ms/step - loss: 1.2635 - accuracy: 0.3856 - val_loss: 1.2622 - val_accuracy: 0.3700\n",
            "Epoch 11/200\n",
            "160/160 [==============================] - 0s 2ms/step - loss: 1.2538 - accuracy: 0.3969 - val_loss: 1.2530 - val_accuracy: 0.3750\n",
            "Epoch 12/200\n",
            "160/160 [==============================] - 0s 2ms/step - loss: 1.2438 - accuracy: 0.4081 - val_loss: 1.2435 - val_accuracy: 0.3825\n",
            "Epoch 13/200\n",
            "160/160 [==============================] - 0s 2ms/step - loss: 1.2333 - accuracy: 0.4144 - val_loss: 1.2337 - val_accuracy: 0.3850\n",
            "Epoch 14/200\n",
            "160/160 [==============================] - 0s 2ms/step - loss: 1.2226 - accuracy: 0.4250 - val_loss: 1.2240 - val_accuracy: 0.3900\n",
            "Epoch 15/200\n",
            "160/160 [==============================] - 0s 2ms/step - loss: 1.2117 - accuracy: 0.4281 - val_loss: 1.2142 - val_accuracy: 0.3925\n",
            "Epoch 16/200\n",
            "160/160 [==============================] - 0s 2ms/step - loss: 1.2007 - accuracy: 0.4375 - val_loss: 1.2043 - val_accuracy: 0.4025\n",
            "Epoch 17/200\n",
            "160/160 [==============================] - 0s 2ms/step - loss: 1.1895 - accuracy: 0.4425 - val_loss: 1.1941 - val_accuracy: 0.4075\n",
            "Epoch 18/200\n",
            "160/160 [==============================] - 0s 2ms/step - loss: 1.1778 - accuracy: 0.4500 - val_loss: 1.1836 - val_accuracy: 0.4100\n",
            "Epoch 19/200\n",
            "160/160 [==============================] - 0s 2ms/step - loss: 1.1658 - accuracy: 0.4519 - val_loss: 1.1729 - val_accuracy: 0.4125\n",
            "Epoch 20/200\n",
            "160/160 [==============================] - 0s 2ms/step - loss: 1.1536 - accuracy: 0.4606 - val_loss: 1.1622 - val_accuracy: 0.4175\n",
            "Epoch 21/200\n",
            "160/160 [==============================] - 0s 2ms/step - loss: 1.1414 - accuracy: 0.4619 - val_loss: 1.1513 - val_accuracy: 0.4225\n",
            "Epoch 22/200\n",
            "160/160 [==============================] - 0s 2ms/step - loss: 1.1290 - accuracy: 0.4712 - val_loss: 1.1401 - val_accuracy: 0.4325\n",
            "Epoch 23/200\n",
            "160/160 [==============================] - 0s 2ms/step - loss: 1.1166 - accuracy: 0.4744 - val_loss: 1.1288 - val_accuracy: 0.4400\n",
            "Epoch 24/200\n",
            "160/160 [==============================] - 0s 2ms/step - loss: 1.1040 - accuracy: 0.4825 - val_loss: 1.1175 - val_accuracy: 0.4475\n",
            "Epoch 25/200\n",
            "160/160 [==============================] - 0s 2ms/step - loss: 1.0913 - accuracy: 0.4856 - val_loss: 1.1061 - val_accuracy: 0.4475\n",
            "Epoch 26/200\n",
            "160/160 [==============================] - 0s 2ms/step - loss: 1.0786 - accuracy: 0.4919 - val_loss: 1.0945 - val_accuracy: 0.4475\n",
            "Epoch 27/200\n",
            "160/160 [==============================] - 0s 2ms/step - loss: 1.0656 - accuracy: 0.4981 - val_loss: 1.0827 - val_accuracy: 0.4475\n",
            "Epoch 28/200\n",
            "160/160 [==============================] - 0s 2ms/step - loss: 1.0526 - accuracy: 0.5100 - val_loss: 1.0709 - val_accuracy: 0.4550\n",
            "Epoch 29/200\n",
            "160/160 [==============================] - 0s 2ms/step - loss: 1.0395 - accuracy: 0.5119 - val_loss: 1.0587 - val_accuracy: 0.4550\n",
            "Epoch 30/200\n",
            "160/160 [==============================] - 0s 2ms/step - loss: 1.0263 - accuracy: 0.5144 - val_loss: 1.0466 - val_accuracy: 0.4625\n",
            "Epoch 31/200\n",
            "160/160 [==============================] - 0s 2ms/step - loss: 1.0130 - accuracy: 0.5206 - val_loss: 1.0344 - val_accuracy: 0.4675\n",
            "Epoch 32/200\n",
            "160/160 [==============================] - 0s 2ms/step - loss: 0.9995 - accuracy: 0.5250 - val_loss: 1.0220 - val_accuracy: 0.4750\n",
            "Epoch 33/200\n",
            "160/160 [==============================] - 0s 2ms/step - loss: 0.9860 - accuracy: 0.5350 - val_loss: 1.0095 - val_accuracy: 0.4875\n",
            "Epoch 34/200\n",
            "160/160 [==============================] - 0s 2ms/step - loss: 0.9723 - accuracy: 0.5437 - val_loss: 0.9970 - val_accuracy: 0.4900\n",
            "Epoch 35/200\n",
            "160/160 [==============================] - 0s 2ms/step - loss: 0.9585 - accuracy: 0.5531 - val_loss: 0.9844 - val_accuracy: 0.4950\n",
            "Epoch 36/200\n",
            "160/160 [==============================] - 0s 2ms/step - loss: 0.9448 - accuracy: 0.5631 - val_loss: 0.9720 - val_accuracy: 0.5100\n",
            "Epoch 37/200\n",
            "160/160 [==============================] - 0s 2ms/step - loss: 0.9311 - accuracy: 0.5725 - val_loss: 0.9593 - val_accuracy: 0.5150\n",
            "Epoch 38/200\n",
            "160/160 [==============================] - 0s 2ms/step - loss: 0.9172 - accuracy: 0.5844 - val_loss: 0.9466 - val_accuracy: 0.5225\n",
            "Epoch 39/200\n",
            "160/160 [==============================] - 0s 2ms/step - loss: 0.9032 - accuracy: 0.5944 - val_loss: 0.9337 - val_accuracy: 0.5325\n",
            "Epoch 40/200\n",
            "160/160 [==============================] - 0s 2ms/step - loss: 0.8892 - accuracy: 0.6006 - val_loss: 0.9204 - val_accuracy: 0.5475\n",
            "Epoch 41/200\n",
            "160/160 [==============================] - 0s 2ms/step - loss: 0.8752 - accuracy: 0.6169 - val_loss: 0.9073 - val_accuracy: 0.5550\n",
            "Epoch 42/200\n",
            "160/160 [==============================] - 0s 2ms/step - loss: 0.8611 - accuracy: 0.6256 - val_loss: 0.8942 - val_accuracy: 0.5575\n",
            "Epoch 43/200\n",
            "160/160 [==============================] - 0s 2ms/step - loss: 0.8472 - accuracy: 0.6344 - val_loss: 0.8808 - val_accuracy: 0.5675\n",
            "Epoch 44/200\n",
            "160/160 [==============================] - 0s 2ms/step - loss: 0.8335 - accuracy: 0.6488 - val_loss: 0.8675 - val_accuracy: 0.5825\n",
            "Epoch 45/200\n",
            "160/160 [==============================] - 0s 2ms/step - loss: 0.8199 - accuracy: 0.6581 - val_loss: 0.8544 - val_accuracy: 0.6050\n",
            "Epoch 46/200\n",
            "160/160 [==============================] - 0s 2ms/step - loss: 0.8064 - accuracy: 0.6681 - val_loss: 0.8410 - val_accuracy: 0.6200\n",
            "Epoch 47/200\n",
            "160/160 [==============================] - 0s 2ms/step - loss: 0.7930 - accuracy: 0.6744 - val_loss: 0.8270 - val_accuracy: 0.6350\n",
            "Epoch 48/200\n",
            "160/160 [==============================] - 0s 2ms/step - loss: 0.7799 - accuracy: 0.6919 - val_loss: 0.8140 - val_accuracy: 0.6450\n",
            "Epoch 49/200\n",
            "160/160 [==============================] - 0s 2ms/step - loss: 0.7669 - accuracy: 0.6981 - val_loss: 0.8003 - val_accuracy: 0.6450\n",
            "Epoch 50/200\n",
            "160/160 [==============================] - 0s 2ms/step - loss: 0.7540 - accuracy: 0.7056 - val_loss: 0.7874 - val_accuracy: 0.6550\n",
            "Epoch 51/200\n",
            "160/160 [==============================] - 0s 2ms/step - loss: 0.7411 - accuracy: 0.7081 - val_loss: 0.7739 - val_accuracy: 0.6675\n",
            "Epoch 52/200\n",
            "160/160 [==============================] - 0s 2ms/step - loss: 0.7283 - accuracy: 0.7225 - val_loss: 0.7608 - val_accuracy: 0.6750\n",
            "Epoch 53/200\n",
            "160/160 [==============================] - 0s 2ms/step - loss: 0.7156 - accuracy: 0.7275 - val_loss: 0.7481 - val_accuracy: 0.6700\n",
            "Epoch 54/200\n",
            "160/160 [==============================] - 0s 2ms/step - loss: 0.7031 - accuracy: 0.7300 - val_loss: 0.7351 - val_accuracy: 0.6775\n",
            "Epoch 55/200\n",
            "160/160 [==============================] - 0s 2ms/step - loss: 0.6906 - accuracy: 0.7400 - val_loss: 0.7229 - val_accuracy: 0.6850\n",
            "Epoch 56/200\n",
            "160/160 [==============================] - 0s 2ms/step - loss: 0.6784 - accuracy: 0.7469 - val_loss: 0.7098 - val_accuracy: 0.6875\n",
            "Epoch 57/200\n",
            "160/160 [==============================] - 0s 2ms/step - loss: 0.6662 - accuracy: 0.7581 - val_loss: 0.6970 - val_accuracy: 0.7000\n",
            "Epoch 58/200\n",
            "160/160 [==============================] - 0s 2ms/step - loss: 0.6542 - accuracy: 0.7694 - val_loss: 0.6847 - val_accuracy: 0.7225\n",
            "Epoch 59/200\n",
            "160/160 [==============================] - 0s 2ms/step - loss: 0.6424 - accuracy: 0.7750 - val_loss: 0.6728 - val_accuracy: 0.7250\n",
            "Epoch 60/200\n",
            "160/160 [==============================] - 0s 2ms/step - loss: 0.6307 - accuracy: 0.7781 - val_loss: 0.6599 - val_accuracy: 0.7375\n",
            "Epoch 61/200\n",
            "160/160 [==============================] - 0s 2ms/step - loss: 0.6193 - accuracy: 0.7881 - val_loss: 0.6490 - val_accuracy: 0.7450\n",
            "Epoch 62/200\n",
            "160/160 [==============================] - 0s 2ms/step - loss: 0.6081 - accuracy: 0.7881 - val_loss: 0.6378 - val_accuracy: 0.7500\n",
            "Epoch 63/200\n",
            "160/160 [==============================] - 0s 2ms/step - loss: 0.5969 - accuracy: 0.7894 - val_loss: 0.6264 - val_accuracy: 0.7625\n",
            "Epoch 64/200\n",
            "160/160 [==============================] - 0s 2ms/step - loss: 0.5861 - accuracy: 0.7981 - val_loss: 0.6153 - val_accuracy: 0.7625\n",
            "Epoch 65/200\n",
            "160/160 [==============================] - 0s 2ms/step - loss: 0.5756 - accuracy: 0.8062 - val_loss: 0.6053 - val_accuracy: 0.7625\n",
            "Epoch 66/200\n",
            "160/160 [==============================] - 0s 2ms/step - loss: 0.5652 - accuracy: 0.8087 - val_loss: 0.5951 - val_accuracy: 0.7650\n",
            "Epoch 67/200\n",
            "160/160 [==============================] - 0s 2ms/step - loss: 0.5550 - accuracy: 0.8106 - val_loss: 0.5839 - val_accuracy: 0.7725\n",
            "Epoch 68/200\n",
            "160/160 [==============================] - 0s 2ms/step - loss: 0.5451 - accuracy: 0.8219 - val_loss: 0.5756 - val_accuracy: 0.7800\n",
            "Epoch 69/200\n",
            "160/160 [==============================] - 0s 2ms/step - loss: 0.5354 - accuracy: 0.8213 - val_loss: 0.5648 - val_accuracy: 0.7825\n",
            "Epoch 70/200\n",
            "160/160 [==============================] - 0s 2ms/step - loss: 0.5258 - accuracy: 0.8275 - val_loss: 0.5547 - val_accuracy: 0.7950\n",
            "Epoch 71/200\n",
            "160/160 [==============================] - 0s 2ms/step - loss: 0.5166 - accuracy: 0.8294 - val_loss: 0.5460 - val_accuracy: 0.8025\n",
            "Epoch 72/200\n",
            "160/160 [==============================] - 0s 2ms/step - loss: 0.5076 - accuracy: 0.8313 - val_loss: 0.5380 - val_accuracy: 0.8025\n",
            "Epoch 73/200\n",
            "160/160 [==============================] - 0s 2ms/step - loss: 0.4988 - accuracy: 0.8344 - val_loss: 0.5289 - val_accuracy: 0.8050\n",
            "Epoch 74/200\n",
            "160/160 [==============================] - 0s 2ms/step - loss: 0.4901 - accuracy: 0.8344 - val_loss: 0.5214 - val_accuracy: 0.8100\n",
            "Epoch 75/200\n",
            "160/160 [==============================] - 0s 2ms/step - loss: 0.4817 - accuracy: 0.8388 - val_loss: 0.5135 - val_accuracy: 0.8050\n",
            "Epoch 76/200\n",
            "160/160 [==============================] - 0s 2ms/step - loss: 0.4735 - accuracy: 0.8413 - val_loss: 0.5055 - val_accuracy: 0.8075\n",
            "Epoch 77/200\n",
            "160/160 [==============================] - 0s 2ms/step - loss: 0.4654 - accuracy: 0.8450 - val_loss: 0.4972 - val_accuracy: 0.8075\n",
            "Epoch 78/200\n",
            "160/160 [==============================] - 0s 2ms/step - loss: 0.4575 - accuracy: 0.8475 - val_loss: 0.4897 - val_accuracy: 0.8100\n",
            "Epoch 79/200\n",
            "160/160 [==============================] - 0s 2ms/step - loss: 0.4499 - accuracy: 0.8506 - val_loss: 0.4818 - val_accuracy: 0.8150\n",
            "Epoch 80/200\n",
            "160/160 [==============================] - 0s 2ms/step - loss: 0.4423 - accuracy: 0.8544 - val_loss: 0.4747 - val_accuracy: 0.8150\n",
            "Epoch 81/200\n",
            "160/160 [==============================] - 0s 2ms/step - loss: 0.4350 - accuracy: 0.8569 - val_loss: 0.4678 - val_accuracy: 0.8150\n",
            "Epoch 82/200\n",
            "160/160 [==============================] - 0s 2ms/step - loss: 0.4277 - accuracy: 0.8587 - val_loss: 0.4612 - val_accuracy: 0.8200\n",
            "Epoch 83/200\n",
            "160/160 [==============================] - 0s 2ms/step - loss: 0.4207 - accuracy: 0.8625 - val_loss: 0.4554 - val_accuracy: 0.8200\n",
            "Epoch 84/200\n",
            "160/160 [==============================] - 0s 2ms/step - loss: 0.4137 - accuracy: 0.8675 - val_loss: 0.4504 - val_accuracy: 0.8225\n",
            "Epoch 85/200\n",
            "160/160 [==============================] - 0s 2ms/step - loss: 0.4069 - accuracy: 0.8750 - val_loss: 0.4438 - val_accuracy: 0.8225\n",
            "Epoch 86/200\n",
            "160/160 [==============================] - 0s 2ms/step - loss: 0.4004 - accuracy: 0.8756 - val_loss: 0.4395 - val_accuracy: 0.8250\n",
            "Epoch 87/200\n",
            "160/160 [==============================] - 0s 2ms/step - loss: 0.3940 - accuracy: 0.8763 - val_loss: 0.4334 - val_accuracy: 0.8275\n",
            "Epoch 88/200\n",
            "160/160 [==============================] - 0s 2ms/step - loss: 0.3878 - accuracy: 0.8775 - val_loss: 0.4283 - val_accuracy: 0.8250\n",
            "Epoch 89/200\n",
            "160/160 [==============================] - 0s 2ms/step - loss: 0.3818 - accuracy: 0.8781 - val_loss: 0.4211 - val_accuracy: 0.8250\n",
            "Epoch 90/200\n",
            "160/160 [==============================] - 0s 2ms/step - loss: 0.3756 - accuracy: 0.8825 - val_loss: 0.4142 - val_accuracy: 0.8275\n",
            "Epoch 91/200\n",
            "160/160 [==============================] - 0s 2ms/step - loss: 0.3698 - accuracy: 0.8844 - val_loss: 0.4113 - val_accuracy: 0.8250\n",
            "Epoch 92/200\n",
            "160/160 [==============================] - 0s 2ms/step - loss: 0.3642 - accuracy: 0.8844 - val_loss: 0.4057 - val_accuracy: 0.8350\n",
            "Epoch 93/200\n",
            "160/160 [==============================] - 0s 2ms/step - loss: 0.3588 - accuracy: 0.8875 - val_loss: 0.4023 - val_accuracy: 0.8300\n",
            "Epoch 94/200\n",
            "160/160 [==============================] - 0s 2ms/step - loss: 0.3530 - accuracy: 0.8863 - val_loss: 0.3935 - val_accuracy: 0.8375\n",
            "Epoch 95/200\n",
            "160/160 [==============================] - 0s 2ms/step - loss: 0.3480 - accuracy: 0.8900 - val_loss: 0.3921 - val_accuracy: 0.8350\n",
            "Epoch 96/200\n",
            "160/160 [==============================] - 0s 2ms/step - loss: 0.3427 - accuracy: 0.8900 - val_loss: 0.3886 - val_accuracy: 0.8350\n",
            "Epoch 97/200\n",
            "160/160 [==============================] - 0s 2ms/step - loss: 0.3377 - accuracy: 0.8919 - val_loss: 0.3812 - val_accuracy: 0.8375\n",
            "Epoch 98/200\n",
            "160/160 [==============================] - 0s 2ms/step - loss: 0.3327 - accuracy: 0.8981 - val_loss: 0.3811 - val_accuracy: 0.8375\n",
            "Epoch 99/200\n",
            "160/160 [==============================] - 0s 2ms/step - loss: 0.3279 - accuracy: 0.8988 - val_loss: 0.3753 - val_accuracy: 0.8400\n",
            "Epoch 100/200\n",
            "160/160 [==============================] - 0s 2ms/step - loss: 0.3231 - accuracy: 0.9013 - val_loss: 0.3709 - val_accuracy: 0.8400\n",
            "Epoch 101/200\n",
            "160/160 [==============================] - 0s 2ms/step - loss: 0.3186 - accuracy: 0.9006 - val_loss: 0.3683 - val_accuracy: 0.8425\n",
            "Epoch 102/200\n",
            "160/160 [==============================] - 0s 2ms/step - loss: 0.3140 - accuracy: 0.8994 - val_loss: 0.3618 - val_accuracy: 0.8450\n",
            "Epoch 103/200\n",
            "160/160 [==============================] - 0s 2ms/step - loss: 0.3097 - accuracy: 0.9038 - val_loss: 0.3611 - val_accuracy: 0.8425\n",
            "Epoch 104/200\n",
            "160/160 [==============================] - 0s 2ms/step - loss: 0.3058 - accuracy: 0.9038 - val_loss: 0.3563 - val_accuracy: 0.8450\n",
            "Epoch 105/200\n",
            "160/160 [==============================] - 0s 2ms/step - loss: 0.3014 - accuracy: 0.9062 - val_loss: 0.3541 - val_accuracy: 0.8450\n",
            "Epoch 106/200\n",
            "160/160 [==============================] - 0s 2ms/step - loss: 0.2973 - accuracy: 0.9025 - val_loss: 0.3490 - val_accuracy: 0.8425\n",
            "Epoch 107/200\n",
            "160/160 [==============================] - 0s 2ms/step - loss: 0.2933 - accuracy: 0.9106 - val_loss: 0.3445 - val_accuracy: 0.8450\n",
            "Epoch 108/200\n",
            "160/160 [==============================] - 0s 2ms/step - loss: 0.2892 - accuracy: 0.9094 - val_loss: 0.3444 - val_accuracy: 0.8450\n",
            "Epoch 109/200\n",
            "160/160 [==============================] - 0s 2ms/step - loss: 0.2856 - accuracy: 0.9094 - val_loss: 0.3421 - val_accuracy: 0.8450\n",
            "Epoch 110/200\n",
            "160/160 [==============================] - 0s 2ms/step - loss: 0.2819 - accuracy: 0.9137 - val_loss: 0.3377 - val_accuracy: 0.8450\n",
            "Epoch 111/200\n",
            "160/160 [==============================] - 0s 2ms/step - loss: 0.2782 - accuracy: 0.9125 - val_loss: 0.3345 - val_accuracy: 0.8475\n",
            "Epoch 112/200\n",
            "160/160 [==============================] - 0s 2ms/step - loss: 0.2748 - accuracy: 0.9169 - val_loss: 0.3307 - val_accuracy: 0.8475\n",
            "Epoch 113/200\n",
            "160/160 [==============================] - 0s 2ms/step - loss: 0.2709 - accuracy: 0.9181 - val_loss: 0.3311 - val_accuracy: 0.8450\n",
            "Epoch 114/200\n",
            "160/160 [==============================] - 0s 2ms/step - loss: 0.2679 - accuracy: 0.9181 - val_loss: 0.3280 - val_accuracy: 0.8450\n",
            "Epoch 115/200\n",
            "160/160 [==============================] - 0s 2ms/step - loss: 0.2642 - accuracy: 0.9144 - val_loss: 0.3228 - val_accuracy: 0.8500\n",
            "Epoch 116/200\n",
            "160/160 [==============================] - 0s 2ms/step - loss: 0.2614 - accuracy: 0.9169 - val_loss: 0.3187 - val_accuracy: 0.8500\n",
            "Epoch 117/200\n",
            "160/160 [==============================] - 0s 2ms/step - loss: 0.2577 - accuracy: 0.9237 - val_loss: 0.3207 - val_accuracy: 0.8525\n",
            "Epoch 118/200\n",
            "160/160 [==============================] - 0s 2ms/step - loss: 0.2552 - accuracy: 0.9200 - val_loss: 0.3142 - val_accuracy: 0.8500\n",
            "Epoch 119/200\n",
            "160/160 [==============================] - 0s 2ms/step - loss: 0.2520 - accuracy: 0.9231 - val_loss: 0.3130 - val_accuracy: 0.8475\n",
            "Epoch 120/200\n",
            "160/160 [==============================] - 0s 2ms/step - loss: 0.2489 - accuracy: 0.9269 - val_loss: 0.3076 - val_accuracy: 0.8500\n",
            "Epoch 121/200\n",
            "160/160 [==============================] - 0s 2ms/step - loss: 0.2460 - accuracy: 0.9269 - val_loss: 0.3050 - val_accuracy: 0.8525\n",
            "Epoch 122/200\n",
            "160/160 [==============================] - 0s 2ms/step - loss: 0.2431 - accuracy: 0.9287 - val_loss: 0.3050 - val_accuracy: 0.8500\n",
            "Epoch 123/200\n",
            "160/160 [==============================] - 0s 2ms/step - loss: 0.2404 - accuracy: 0.9262 - val_loss: 0.3035 - val_accuracy: 0.8475\n",
            "Epoch 124/200\n",
            "160/160 [==============================] - 0s 2ms/step - loss: 0.2374 - accuracy: 0.9281 - val_loss: 0.2976 - val_accuracy: 0.8550\n",
            "Epoch 125/200\n",
            "160/160 [==============================] - 0s 2ms/step - loss: 0.2348 - accuracy: 0.9287 - val_loss: 0.2972 - val_accuracy: 0.8600\n",
            "Epoch 126/200\n",
            "160/160 [==============================] - 0s 2ms/step - loss: 0.2320 - accuracy: 0.9319 - val_loss: 0.2957 - val_accuracy: 0.8625\n",
            "Epoch 127/200\n",
            "160/160 [==============================] - 0s 2ms/step - loss: 0.2292 - accuracy: 0.9312 - val_loss: 0.2942 - val_accuracy: 0.8600\n",
            "Epoch 128/200\n",
            "160/160 [==============================] - 0s 2ms/step - loss: 0.2267 - accuracy: 0.9306 - val_loss: 0.2899 - val_accuracy: 0.8625\n",
            "Epoch 129/200\n",
            "160/160 [==============================] - 0s 2ms/step - loss: 0.2243 - accuracy: 0.9319 - val_loss: 0.2885 - val_accuracy: 0.8625\n",
            "Epoch 130/200\n",
            "160/160 [==============================] - 0s 2ms/step - loss: 0.2218 - accuracy: 0.9325 - val_loss: 0.2878 - val_accuracy: 0.8625\n",
            "Epoch 131/200\n",
            "160/160 [==============================] - 0s 2ms/step - loss: 0.2192 - accuracy: 0.9350 - val_loss: 0.2857 - val_accuracy: 0.8625\n",
            "Epoch 132/200\n",
            "160/160 [==============================] - 0s 2ms/step - loss: 0.2168 - accuracy: 0.9369 - val_loss: 0.2840 - val_accuracy: 0.8650\n",
            "Epoch 133/200\n",
            "160/160 [==============================] - 0s 2ms/step - loss: 0.2146 - accuracy: 0.9344 - val_loss: 0.2807 - val_accuracy: 0.8600\n",
            "Epoch 134/200\n",
            "160/160 [==============================] - 0s 2ms/step - loss: 0.2124 - accuracy: 0.9356 - val_loss: 0.2778 - val_accuracy: 0.8675\n",
            "Epoch 135/200\n",
            "160/160 [==============================] - 0s 2ms/step - loss: 0.2103 - accuracy: 0.9369 - val_loss: 0.2775 - val_accuracy: 0.8625\n",
            "Epoch 136/200\n",
            "160/160 [==============================] - 0s 2ms/step - loss: 0.2079 - accuracy: 0.9350 - val_loss: 0.2763 - val_accuracy: 0.8675\n",
            "Epoch 137/200\n",
            "160/160 [==============================] - 0s 2ms/step - loss: 0.2058 - accuracy: 0.9381 - val_loss: 0.2755 - val_accuracy: 0.8625\n",
            "Epoch 138/200\n",
            "160/160 [==============================] - 0s 2ms/step - loss: 0.2039 - accuracy: 0.9362 - val_loss: 0.2718 - val_accuracy: 0.8675\n",
            "Epoch 139/200\n",
            "160/160 [==============================] - 0s 2ms/step - loss: 0.2019 - accuracy: 0.9375 - val_loss: 0.2712 - val_accuracy: 0.8650\n",
            "Epoch 140/200\n",
            "160/160 [==============================] - 0s 2ms/step - loss: 0.1994 - accuracy: 0.9356 - val_loss: 0.2665 - val_accuracy: 0.8725\n",
            "Epoch 141/200\n",
            "160/160 [==============================] - 0s 2ms/step - loss: 0.1979 - accuracy: 0.9400 - val_loss: 0.2685 - val_accuracy: 0.8650\n",
            "Epoch 142/200\n",
            "160/160 [==============================] - 0s 2ms/step - loss: 0.1957 - accuracy: 0.9394 - val_loss: 0.2639 - val_accuracy: 0.8725\n",
            "Epoch 143/200\n",
            "160/160 [==============================] - 0s 2ms/step - loss: 0.1937 - accuracy: 0.9388 - val_loss: 0.2620 - val_accuracy: 0.8750\n",
            "Epoch 144/200\n",
            "160/160 [==============================] - 0s 2ms/step - loss: 0.1920 - accuracy: 0.9406 - val_loss: 0.2657 - val_accuracy: 0.8650\n",
            "Epoch 145/200\n",
            "160/160 [==============================] - 0s 2ms/step - loss: 0.1899 - accuracy: 0.9413 - val_loss: 0.2641 - val_accuracy: 0.8675\n",
            "Epoch 146/200\n",
            "160/160 [==============================] - 0s 2ms/step - loss: 0.1883 - accuracy: 0.9406 - val_loss: 0.2610 - val_accuracy: 0.8725\n",
            "Epoch 147/200\n",
            "160/160 [==============================] - 0s 2ms/step - loss: 0.1865 - accuracy: 0.9400 - val_loss: 0.2564 - val_accuracy: 0.8775\n",
            "Epoch 148/200\n",
            "160/160 [==============================] - 0s 2ms/step - loss: 0.1849 - accuracy: 0.9431 - val_loss: 0.2611 - val_accuracy: 0.8725\n",
            "Epoch 149/200\n",
            "160/160 [==============================] - 0s 2ms/step - loss: 0.1832 - accuracy: 0.9425 - val_loss: 0.2597 - val_accuracy: 0.8750\n",
            "Epoch 150/200\n",
            "160/160 [==============================] - 0s 2ms/step - loss: 0.1817 - accuracy: 0.9450 - val_loss: 0.2580 - val_accuracy: 0.8750\n",
            "Epoch 151/200\n",
            "160/160 [==============================] - 0s 2ms/step - loss: 0.1798 - accuracy: 0.9469 - val_loss: 0.2589 - val_accuracy: 0.8700\n",
            "Epoch 152/200\n",
            "160/160 [==============================] - 0s 2ms/step - loss: 0.1782 - accuracy: 0.9438 - val_loss: 0.2582 - val_accuracy: 0.8750\n",
            "Epoch 153/200\n",
            "160/160 [==============================] - 0s 2ms/step - loss: 0.1769 - accuracy: 0.9463 - val_loss: 0.2502 - val_accuracy: 0.8825\n",
            "Epoch 154/200\n",
            "160/160 [==============================] - 0s 2ms/step - loss: 0.1753 - accuracy: 0.9513 - val_loss: 0.2533 - val_accuracy: 0.8800\n",
            "Epoch 155/200\n",
            "160/160 [==============================] - 0s 2ms/step - loss: 0.1738 - accuracy: 0.9481 - val_loss: 0.2539 - val_accuracy: 0.8750\n",
            "Epoch 156/200\n",
            "160/160 [==============================] - 0s 2ms/step - loss: 0.1723 - accuracy: 0.9475 - val_loss: 0.2511 - val_accuracy: 0.8800\n",
            "Epoch 157/200\n",
            "160/160 [==============================] - 0s 2ms/step - loss: 0.1704 - accuracy: 0.9475 - val_loss: 0.2555 - val_accuracy: 0.8750\n",
            "Epoch 158/200\n",
            "160/160 [==============================] - 0s 2ms/step - loss: 0.1692 - accuracy: 0.9475 - val_loss: 0.2435 - val_accuracy: 0.9000\n",
            "Epoch 159/200\n",
            "160/160 [==============================] - 0s 2ms/step - loss: 0.1681 - accuracy: 0.9500 - val_loss: 0.2482 - val_accuracy: 0.8825\n",
            "Epoch 160/200\n",
            "160/160 [==============================] - 0s 2ms/step - loss: 0.1668 - accuracy: 0.9506 - val_loss: 0.2441 - val_accuracy: 0.8875\n",
            "Epoch 161/200\n",
            "160/160 [==============================] - 0s 2ms/step - loss: 0.1648 - accuracy: 0.9506 - val_loss: 0.2523 - val_accuracy: 0.8875\n",
            "Epoch 162/200\n",
            "160/160 [==============================] - 0s 2ms/step - loss: 0.1647 - accuracy: 0.9488 - val_loss: 0.2426 - val_accuracy: 0.8900\n",
            "Epoch 163/200\n",
            "160/160 [==============================] - 0s 2ms/step - loss: 0.1631 - accuracy: 0.9513 - val_loss: 0.2407 - val_accuracy: 0.8925\n",
            "Epoch 164/200\n",
            "160/160 [==============================] - 0s 2ms/step - loss: 0.1620 - accuracy: 0.9500 - val_loss: 0.2426 - val_accuracy: 0.8900\n",
            "Epoch 165/200\n",
            "160/160 [==============================] - 0s 2ms/step - loss: 0.1603 - accuracy: 0.9500 - val_loss: 0.2416 - val_accuracy: 0.8925\n",
            "Epoch 166/200\n",
            "160/160 [==============================] - 0s 2ms/step - loss: 0.1591 - accuracy: 0.9525 - val_loss: 0.2415 - val_accuracy: 0.8900\n",
            "Epoch 167/200\n",
            "160/160 [==============================] - 0s 2ms/step - loss: 0.1579 - accuracy: 0.9506 - val_loss: 0.2348 - val_accuracy: 0.9050\n",
            "Epoch 168/200\n",
            "160/160 [==============================] - 0s 2ms/step - loss: 0.1571 - accuracy: 0.9531 - val_loss: 0.2408 - val_accuracy: 0.8875\n",
            "Epoch 169/200\n",
            "160/160 [==============================] - 0s 2ms/step - loss: 0.1556 - accuracy: 0.9550 - val_loss: 0.2423 - val_accuracy: 0.8925\n",
            "Epoch 170/200\n",
            "160/160 [==============================] - 0s 2ms/step - loss: 0.1549 - accuracy: 0.9538 - val_loss: 0.2375 - val_accuracy: 0.8925\n",
            "Epoch 171/200\n",
            "160/160 [==============================] - 0s 2ms/step - loss: 0.1533 - accuracy: 0.9513 - val_loss: 0.2318 - val_accuracy: 0.9000\n",
            "Epoch 172/200\n",
            "160/160 [==============================] - 0s 2ms/step - loss: 0.1528 - accuracy: 0.9538 - val_loss: 0.2336 - val_accuracy: 0.8975\n",
            "Epoch 173/200\n",
            "160/160 [==============================] - 0s 2ms/step - loss: 0.1513 - accuracy: 0.9519 - val_loss: 0.2326 - val_accuracy: 0.8950\n",
            "Epoch 174/200\n",
            "160/160 [==============================] - 0s 2ms/step - loss: 0.1503 - accuracy: 0.9544 - val_loss: 0.2304 - val_accuracy: 0.9025\n",
            "Epoch 175/200\n",
            "160/160 [==============================] - 0s 2ms/step - loss: 0.1493 - accuracy: 0.9544 - val_loss: 0.2298 - val_accuracy: 0.9050\n",
            "Epoch 176/200\n",
            "160/160 [==============================] - 0s 2ms/step - loss: 0.1483 - accuracy: 0.9531 - val_loss: 0.2292 - val_accuracy: 0.9050\n",
            "Epoch 177/200\n",
            "160/160 [==============================] - 0s 2ms/step - loss: 0.1474 - accuracy: 0.9538 - val_loss: 0.2315 - val_accuracy: 0.8950\n",
            "Epoch 178/200\n",
            "160/160 [==============================] - 0s 2ms/step - loss: 0.1459 - accuracy: 0.9544 - val_loss: 0.2337 - val_accuracy: 0.8975\n",
            "Epoch 179/200\n",
            "160/160 [==============================] - 0s 2ms/step - loss: 0.1452 - accuracy: 0.9544 - val_loss: 0.2311 - val_accuracy: 0.8975\n",
            "Epoch 180/200\n",
            "160/160 [==============================] - 0s 2ms/step - loss: 0.1442 - accuracy: 0.9544 - val_loss: 0.2288 - val_accuracy: 0.9000\n",
            "Epoch 181/200\n",
            "160/160 [==============================] - 0s 2ms/step - loss: 0.1433 - accuracy: 0.9563 - val_loss: 0.2248 - val_accuracy: 0.9050\n",
            "Epoch 182/200\n",
            "160/160 [==============================] - 0s 2ms/step - loss: 0.1422 - accuracy: 0.9588 - val_loss: 0.2258 - val_accuracy: 0.9000\n",
            "Epoch 183/200\n",
            "160/160 [==============================] - 0s 2ms/step - loss: 0.1417 - accuracy: 0.9563 - val_loss: 0.2250 - val_accuracy: 0.9000\n",
            "Epoch 184/200\n",
            "160/160 [==============================] - 0s 2ms/step - loss: 0.1402 - accuracy: 0.9575 - val_loss: 0.2272 - val_accuracy: 0.9025\n",
            "Epoch 185/200\n",
            "160/160 [==============================] - 0s 2ms/step - loss: 0.1396 - accuracy: 0.9575 - val_loss: 0.2271 - val_accuracy: 0.9025\n",
            "Epoch 186/200\n",
            "160/160 [==============================] - 0s 2ms/step - loss: 0.1387 - accuracy: 0.9556 - val_loss: 0.2243 - val_accuracy: 0.9025\n",
            "Epoch 187/200\n",
            "160/160 [==============================] - 0s 2ms/step - loss: 0.1373 - accuracy: 0.9575 - val_loss: 0.2203 - val_accuracy: 0.9100\n",
            "Epoch 188/200\n",
            "160/160 [==============================] - 0s 2ms/step - loss: 0.1367 - accuracy: 0.9600 - val_loss: 0.2237 - val_accuracy: 0.9050\n",
            "Epoch 189/200\n",
            "160/160 [==============================] - 0s 2ms/step - loss: 0.1359 - accuracy: 0.9600 - val_loss: 0.2237 - val_accuracy: 0.9050\n",
            "Epoch 190/200\n",
            "160/160 [==============================] - 0s 2ms/step - loss: 0.1350 - accuracy: 0.9581 - val_loss: 0.2221 - val_accuracy: 0.9050\n",
            "Epoch 191/200\n",
            "160/160 [==============================] - 0s 2ms/step - loss: 0.1340 - accuracy: 0.9588 - val_loss: 0.2204 - val_accuracy: 0.9050\n",
            "Epoch 192/200\n",
            "160/160 [==============================] - 0s 2ms/step - loss: 0.1334 - accuracy: 0.9613 - val_loss: 0.2195 - val_accuracy: 0.9050\n",
            "Epoch 193/200\n",
            "160/160 [==============================] - 0s 2ms/step - loss: 0.1325 - accuracy: 0.9600 - val_loss: 0.2197 - val_accuracy: 0.9050\n",
            "Epoch 194/200\n",
            "160/160 [==============================] - 0s 2ms/step - loss: 0.1317 - accuracy: 0.9625 - val_loss: 0.2211 - val_accuracy: 0.9050\n",
            "Epoch 195/200\n",
            "160/160 [==============================] - 0s 2ms/step - loss: 0.1311 - accuracy: 0.9600 - val_loss: 0.2153 - val_accuracy: 0.9075\n",
            "Epoch 196/200\n",
            "160/160 [==============================] - 0s 2ms/step - loss: 0.1302 - accuracy: 0.9619 - val_loss: 0.2187 - val_accuracy: 0.9050\n",
            "Epoch 197/200\n",
            "160/160 [==============================] - 0s 2ms/step - loss: 0.1294 - accuracy: 0.9625 - val_loss: 0.2138 - val_accuracy: 0.9100\n",
            "Epoch 198/200\n",
            "160/160 [==============================] - 0s 2ms/step - loss: 0.1284 - accuracy: 0.9644 - val_loss: 0.2159 - val_accuracy: 0.9050\n",
            "Epoch 199/200\n",
            "160/160 [==============================] - 0s 2ms/step - loss: 0.1278 - accuracy: 0.9613 - val_loss: 0.2133 - val_accuracy: 0.9075\n",
            "Epoch 200/200\n",
            "160/160 [==============================] - 0s 2ms/step - loss: 0.1272 - accuracy: 0.9613 - val_loss: 0.2118 - val_accuracy: 0.9075\n"
          ]
        }
      ]
    },
    {
      "cell_type": "markdown",
      "source": [
        "Evaluate your test loss and metrics "
      ],
      "metadata": {
        "id": "MlY8sV31-cdq"
      }
    },
    {
      "cell_type": "code",
      "source": [
        "Y_test=tf.one_hot(test_label,4)\n",
        "history_test=model_1.evaluate(norm_test_dataframe,Y_test)"
      ],
      "metadata": {
        "colab": {
          "base_uri": "https://localhost:8080/"
        },
        "id": "wLOJ6OH__yqS",
        "outputId": "134accf5-2615-469d-e9f2-2e228b371fe3"
      },
      "execution_count": null,
      "outputs": [
        {
          "output_type": "stream",
          "name": "stdout",
          "text": [
            "13/13 [==============================] - 0s 2ms/step - loss: 0.2118 - accuracy: 0.9075\n"
          ]
        }
      ]
    },
    {
      "cell_type": "code",
      "source": [
        "print(model_1.metrics_names)"
      ],
      "metadata": {
        "colab": {
          "base_uri": "https://localhost:8080/"
        },
        "id": "Pu-QVJQRpplc",
        "outputId": "272424d8-c00a-4fe1-afe2-b4c32a322fbc"
      },
      "execution_count": null,
      "outputs": [
        {
          "output_type": "stream",
          "name": "stdout",
          "text": [
            "['loss', 'accuracy']\n"
          ]
        }
      ]
    },
    {
      "cell_type": "markdown",
      "source": [
        "Predict for the given input"
      ],
      "metadata": {
        "id": "jZ7x77HyJGJk"
      }
    },
    {
      "cell_type": "code",
      "source": [
        "model_1.predict(norm_test_data_arr)"
      ],
      "metadata": {
        "colab": {
          "base_uri": "https://localhost:8080/"
        },
        "id": "GSJ3iJnhJMFa",
        "outputId": "e7e08394-9b5d-4741-d060-702a790275d9"
      },
      "execution_count": null,
      "outputs": [
        {
          "output_type": "execute_result",
          "data": {
            "text/plain": [
              "array([[2.2414217e-05, 1.5167384e-01, 8.4815592e-01, 1.4782989e-04],\n",
              "       [3.2122600e-17, 8.0259667e-08, 6.8477648e-03, 9.9315214e-01],\n",
              "       [1.9356408e-17, 5.1034846e-08, 7.6031815e-03, 9.9239677e-01],\n",
              "       ...,\n",
              "       [6.8245081e-09, 2.6454946e-03, 9.8469573e-01, 1.2658727e-02],\n",
              "       [9.5838022e-01, 4.1619778e-02, 8.0049950e-10, 5.1753437e-23],\n",
              "       [1.5354150e-17, 5.6971192e-08, 6.2864362e-03, 9.9371344e-01]],\n",
              "      dtype=float32)"
            ]
          },
          "metadata": {},
          "execution_count": 26
        }
      ]
    },
    {
      "cell_type": "markdown",
      "source": [
        "RMSprop"
      ],
      "metadata": {
        "id": "5Zk2nDKaWVv9"
      }
    },
    {
      "cell_type": "code",
      "source": [
        "model_2= keras.Sequential()\n",
        "model_2.add(tf.keras.layers.Dense(units=17,input_shape=(20,),activation='relu'))\n",
        "model_2.add(tf.keras.layers.Dense(units=12,activation='relu'))\n",
        "model_2.add(tf.keras.layers.Dense(units=7,activation='relu'))\n",
        "model_2.add(tf.keras.layers.Dense(units=4,activation='softmax'))\n",
        "model_2.compile(loss='categorical_crossentropy',\n",
        "              optimizer=tf.keras.optimizers.RMSprop(learning_rate=1e-3),\n",
        "              metrics=['accuracy'])\n",
        "print(model_2.summary())"
      ],
      "metadata": {
        "colab": {
          "base_uri": "https://localhost:8080/"
        },
        "id": "jtVqmzURwYL-",
        "outputId": "59d05ef2-ec8f-4395-f330-c932b7c5619a"
      },
      "execution_count": null,
      "outputs": [
        {
          "output_type": "stream",
          "name": "stdout",
          "text": [
            "Model: \"sequential_4\"\n",
            "_________________________________________________________________\n",
            " Layer (type)                Output Shape              Param #   \n",
            "=================================================================\n",
            " dense_16 (Dense)            (None, 17)                357       \n",
            "                                                                 \n",
            " dense_17 (Dense)            (None, 12)                216       \n",
            "                                                                 \n",
            " dense_18 (Dense)            (None, 7)                 91        \n",
            "                                                                 \n",
            " dense_19 (Dense)            (None, 4)                 32        \n",
            "                                                                 \n",
            "=================================================================\n",
            "Total params: 696\n",
            "Trainable params: 696\n",
            "Non-trainable params: 0\n",
            "_________________________________________________________________\n",
            "None\n"
          ]
        }
      ]
    },
    {
      "cell_type": "code",
      "source": [
        "history_2=model_2.fit(norm_train_data,Y_train,epochs=200,batch_size=10,validation_data=(norm_test_data_arr,Y_test))"
      ],
      "metadata": {
        "colab": {
          "base_uri": "https://localhost:8080/"
        },
        "id": "Vuo33CUKwsOb",
        "outputId": "a4ea7778-e77a-4392-e00f-d4828d030dd7"
      },
      "execution_count": null,
      "outputs": [
        {
          "output_type": "stream",
          "name": "stdout",
          "text": [
            "Epoch 1/200\n",
            "160/160 [==============================] - 1s 3ms/step - loss: 1.3756 - accuracy: 0.3194 - val_loss: 1.3205 - val_accuracy: 0.3825\n",
            "Epoch 2/200\n",
            "160/160 [==============================] - 0s 2ms/step - loss: 1.2427 - accuracy: 0.4187 - val_loss: 1.1228 - val_accuracy: 0.4975\n",
            "Epoch 3/200\n",
            "160/160 [==============================] - 0s 2ms/step - loss: 0.9930 - accuracy: 0.5450 - val_loss: 0.8704 - val_accuracy: 0.6125\n",
            "Epoch 4/200\n",
            "160/160 [==============================] - 0s 2ms/step - loss: 0.7537 - accuracy: 0.6700 - val_loss: 0.6670 - val_accuracy: 0.7150\n",
            "Epoch 5/200\n",
            "160/160 [==============================] - 0s 2ms/step - loss: 0.5704 - accuracy: 0.7788 - val_loss: 0.5179 - val_accuracy: 0.8075\n",
            "Epoch 6/200\n",
            "160/160 [==============================] - 0s 2ms/step - loss: 0.4448 - accuracy: 0.8413 - val_loss: 0.4232 - val_accuracy: 0.8375\n",
            "Epoch 7/200\n",
            "160/160 [==============================] - 0s 2ms/step - loss: 0.3591 - accuracy: 0.8775 - val_loss: 0.3629 - val_accuracy: 0.8575\n",
            "Epoch 8/200\n",
            "160/160 [==============================] - 0s 2ms/step - loss: 0.2969 - accuracy: 0.9006 - val_loss: 0.3338 - val_accuracy: 0.8575\n",
            "Epoch 9/200\n",
            "160/160 [==============================] - 0s 2ms/step - loss: 0.2582 - accuracy: 0.9081 - val_loss: 0.2903 - val_accuracy: 0.8950\n",
            "Epoch 10/200\n",
            "160/160 [==============================] - 0s 2ms/step - loss: 0.2278 - accuracy: 0.9194 - val_loss: 0.2868 - val_accuracy: 0.8975\n",
            "Epoch 11/200\n",
            "160/160 [==============================] - 0s 2ms/step - loss: 0.2048 - accuracy: 0.9206 - val_loss: 0.2520 - val_accuracy: 0.9050\n",
            "Epoch 12/200\n",
            "160/160 [==============================] - 0s 2ms/step - loss: 0.1854 - accuracy: 0.9312 - val_loss: 0.2551 - val_accuracy: 0.9075\n",
            "Epoch 13/200\n",
            "160/160 [==============================] - 0s 2ms/step - loss: 0.1710 - accuracy: 0.9431 - val_loss: 0.2615 - val_accuracy: 0.8900\n",
            "Epoch 14/200\n",
            "160/160 [==============================] - 0s 2ms/step - loss: 0.1559 - accuracy: 0.9456 - val_loss: 0.2429 - val_accuracy: 0.9025\n",
            "Epoch 15/200\n",
            "160/160 [==============================] - 0s 2ms/step - loss: 0.1453 - accuracy: 0.9481 - val_loss: 0.2430 - val_accuracy: 0.8975\n",
            "Epoch 16/200\n",
            "160/160 [==============================] - 0s 2ms/step - loss: 0.1366 - accuracy: 0.9519 - val_loss: 0.2283 - val_accuracy: 0.9100\n",
            "Epoch 17/200\n",
            "160/160 [==============================] - 0s 2ms/step - loss: 0.1298 - accuracy: 0.9550 - val_loss: 0.2600 - val_accuracy: 0.8925\n",
            "Epoch 18/200\n",
            "160/160 [==============================] - 0s 2ms/step - loss: 0.1246 - accuracy: 0.9581 - val_loss: 0.2215 - val_accuracy: 0.9100\n",
            "Epoch 19/200\n",
            "160/160 [==============================] - 0s 2ms/step - loss: 0.1147 - accuracy: 0.9638 - val_loss: 0.2154 - val_accuracy: 0.9175\n",
            "Epoch 20/200\n",
            "160/160 [==============================] - 0s 2ms/step - loss: 0.1091 - accuracy: 0.9669 - val_loss: 0.2303 - val_accuracy: 0.9100\n",
            "Epoch 21/200\n",
            "160/160 [==============================] - 0s 2ms/step - loss: 0.1028 - accuracy: 0.9681 - val_loss: 0.2242 - val_accuracy: 0.9100\n",
            "Epoch 22/200\n",
            "160/160 [==============================] - 0s 2ms/step - loss: 0.0969 - accuracy: 0.9731 - val_loss: 0.2298 - val_accuracy: 0.9100\n",
            "Epoch 23/200\n",
            "160/160 [==============================] - 0s 2ms/step - loss: 0.0916 - accuracy: 0.9719 - val_loss: 0.2171 - val_accuracy: 0.9125\n",
            "Epoch 24/200\n",
            "160/160 [==============================] - 0s 2ms/step - loss: 0.0880 - accuracy: 0.9706 - val_loss: 0.2071 - val_accuracy: 0.9175\n",
            "Epoch 25/200\n",
            "160/160 [==============================] - 0s 2ms/step - loss: 0.0834 - accuracy: 0.9725 - val_loss: 0.2241 - val_accuracy: 0.9125\n",
            "Epoch 26/200\n",
            "160/160 [==============================] - 0s 2ms/step - loss: 0.0781 - accuracy: 0.9769 - val_loss: 0.2466 - val_accuracy: 0.9100\n",
            "Epoch 27/200\n",
            "160/160 [==============================] - 1s 4ms/step - loss: 0.0758 - accuracy: 0.9744 - val_loss: 0.2340 - val_accuracy: 0.9125\n",
            "Epoch 28/200\n",
            "160/160 [==============================] - 1s 7ms/step - loss: 0.0730 - accuracy: 0.9775 - val_loss: 0.2207 - val_accuracy: 0.9175\n",
            "Epoch 29/200\n",
            "160/160 [==============================] - 1s 4ms/step - loss: 0.0709 - accuracy: 0.9750 - val_loss: 0.2516 - val_accuracy: 0.8975\n",
            "Epoch 30/200\n",
            "160/160 [==============================] - 1s 4ms/step - loss: 0.0672 - accuracy: 0.9781 - val_loss: 0.2179 - val_accuracy: 0.9150\n",
            "Epoch 31/200\n",
            "160/160 [==============================] - 0s 2ms/step - loss: 0.0624 - accuracy: 0.9812 - val_loss: 0.2145 - val_accuracy: 0.9150\n",
            "Epoch 32/200\n",
            "160/160 [==============================] - 0s 2ms/step - loss: 0.0587 - accuracy: 0.9844 - val_loss: 0.2604 - val_accuracy: 0.9050\n",
            "Epoch 33/200\n",
            "160/160 [==============================] - 1s 3ms/step - loss: 0.0586 - accuracy: 0.9825 - val_loss: 0.2131 - val_accuracy: 0.9075\n",
            "Epoch 34/200\n",
            "160/160 [==============================] - 1s 4ms/step - loss: 0.0571 - accuracy: 0.9806 - val_loss: 0.2744 - val_accuracy: 0.9025\n",
            "Epoch 35/200\n",
            "160/160 [==============================] - 1s 4ms/step - loss: 0.0545 - accuracy: 0.9856 - val_loss: 0.2249 - val_accuracy: 0.9150\n",
            "Epoch 36/200\n",
            "160/160 [==============================] - 0s 3ms/step - loss: 0.0541 - accuracy: 0.9825 - val_loss: 0.2263 - val_accuracy: 0.9200\n",
            "Epoch 37/200\n",
            "160/160 [==============================] - 0s 2ms/step - loss: 0.0512 - accuracy: 0.9825 - val_loss: 0.2216 - val_accuracy: 0.9250\n",
            "Epoch 38/200\n",
            "160/160 [==============================] - 0s 2ms/step - loss: 0.0461 - accuracy: 0.9881 - val_loss: 0.2308 - val_accuracy: 0.9100\n",
            "Epoch 39/200\n",
            "160/160 [==============================] - 0s 2ms/step - loss: 0.0461 - accuracy: 0.9881 - val_loss: 0.2463 - val_accuracy: 0.9150\n",
            "Epoch 40/200\n",
            "160/160 [==============================] - 0s 2ms/step - loss: 0.0443 - accuracy: 0.9894 - val_loss: 0.2454 - val_accuracy: 0.9250\n",
            "Epoch 41/200\n",
            "160/160 [==============================] - 0s 2ms/step - loss: 0.0411 - accuracy: 0.9894 - val_loss: 0.2266 - val_accuracy: 0.9200\n",
            "Epoch 42/200\n",
            "160/160 [==============================] - 0s 2ms/step - loss: 0.0420 - accuracy: 0.9881 - val_loss: 0.2425 - val_accuracy: 0.9175\n",
            "Epoch 43/200\n",
            "160/160 [==============================] - 0s 2ms/step - loss: 0.0377 - accuracy: 0.9881 - val_loss: 0.2528 - val_accuracy: 0.9125\n",
            "Epoch 44/200\n",
            "160/160 [==============================] - 0s 2ms/step - loss: 0.0370 - accuracy: 0.9894 - val_loss: 0.2681 - val_accuracy: 0.9150\n",
            "Epoch 45/200\n",
            "160/160 [==============================] - 0s 2ms/step - loss: 0.0366 - accuracy: 0.9881 - val_loss: 0.2305 - val_accuracy: 0.9175\n",
            "Epoch 46/200\n",
            "160/160 [==============================] - 0s 2ms/step - loss: 0.0352 - accuracy: 0.9900 - val_loss: 0.2969 - val_accuracy: 0.9150\n",
            "Epoch 47/200\n",
            "160/160 [==============================] - 0s 2ms/step - loss: 0.0342 - accuracy: 0.9925 - val_loss: 0.2462 - val_accuracy: 0.9200\n",
            "Epoch 48/200\n",
            "160/160 [==============================] - 0s 2ms/step - loss: 0.0337 - accuracy: 0.9894 - val_loss: 0.2416 - val_accuracy: 0.9100\n",
            "Epoch 49/200\n",
            "160/160 [==============================] - 0s 2ms/step - loss: 0.0294 - accuracy: 0.9931 - val_loss: 0.2898 - val_accuracy: 0.9100\n",
            "Epoch 50/200\n",
            "160/160 [==============================] - 0s 2ms/step - loss: 0.0307 - accuracy: 0.9906 - val_loss: 0.2682 - val_accuracy: 0.9175\n",
            "Epoch 51/200\n",
            "160/160 [==============================] - 0s 2ms/step - loss: 0.0300 - accuracy: 0.9925 - val_loss: 0.2985 - val_accuracy: 0.9175\n",
            "Epoch 52/200\n",
            "160/160 [==============================] - 0s 2ms/step - loss: 0.0269 - accuracy: 0.9937 - val_loss: 0.3113 - val_accuracy: 0.9175\n",
            "Epoch 53/200\n",
            "160/160 [==============================] - 0s 2ms/step - loss: 0.0253 - accuracy: 0.9925 - val_loss: 0.2771 - val_accuracy: 0.9150\n",
            "Epoch 54/200\n",
            "160/160 [==============================] - 0s 2ms/step - loss: 0.0259 - accuracy: 0.9912 - val_loss: 0.2766 - val_accuracy: 0.9200\n",
            "Epoch 55/200\n",
            "160/160 [==============================] - 0s 2ms/step - loss: 0.0241 - accuracy: 0.9937 - val_loss: 0.2794 - val_accuracy: 0.9200\n",
            "Epoch 56/200\n",
            "160/160 [==============================] - 0s 2ms/step - loss: 0.0237 - accuracy: 0.9931 - val_loss: 0.2618 - val_accuracy: 0.9250\n",
            "Epoch 57/200\n",
            "160/160 [==============================] - 0s 2ms/step - loss: 0.0223 - accuracy: 0.9919 - val_loss: 0.2915 - val_accuracy: 0.9250\n",
            "Epoch 58/200\n",
            "160/160 [==============================] - 0s 2ms/step - loss: 0.0229 - accuracy: 0.9925 - val_loss: 0.2978 - val_accuracy: 0.9125\n",
            "Epoch 59/200\n",
            "160/160 [==============================] - 0s 2ms/step - loss: 0.0215 - accuracy: 0.9937 - val_loss: 0.2832 - val_accuracy: 0.9200\n",
            "Epoch 60/200\n",
            "160/160 [==============================] - 0s 2ms/step - loss: 0.0199 - accuracy: 0.9937 - val_loss: 0.3370 - val_accuracy: 0.9125\n",
            "Epoch 61/200\n",
            "160/160 [==============================] - 0s 2ms/step - loss: 0.0210 - accuracy: 0.9931 - val_loss: 0.2743 - val_accuracy: 0.9300\n",
            "Epoch 62/200\n",
            "160/160 [==============================] - 0s 2ms/step - loss: 0.0187 - accuracy: 0.9950 - val_loss: 0.2766 - val_accuracy: 0.9275\n",
            "Epoch 63/200\n",
            "160/160 [==============================] - 0s 2ms/step - loss: 0.0205 - accuracy: 0.9937 - val_loss: 0.2802 - val_accuracy: 0.9300\n",
            "Epoch 64/200\n",
            "160/160 [==============================] - 0s 2ms/step - loss: 0.0162 - accuracy: 0.9962 - val_loss: 0.3543 - val_accuracy: 0.9175\n",
            "Epoch 65/200\n",
            "160/160 [==============================] - 0s 2ms/step - loss: 0.0155 - accuracy: 0.9969 - val_loss: 0.3212 - val_accuracy: 0.9200\n",
            "Epoch 66/200\n",
            "160/160 [==============================] - 0s 2ms/step - loss: 0.0161 - accuracy: 0.9950 - val_loss: 0.2874 - val_accuracy: 0.9325\n",
            "Epoch 67/200\n",
            "160/160 [==============================] - 0s 2ms/step - loss: 0.0138 - accuracy: 0.9950 - val_loss: 0.3575 - val_accuracy: 0.9150\n",
            "Epoch 68/200\n",
            "160/160 [==============================] - 0s 2ms/step - loss: 0.0162 - accuracy: 0.9950 - val_loss: 0.3010 - val_accuracy: 0.9300\n",
            "Epoch 69/200\n",
            "160/160 [==============================] - 0s 2ms/step - loss: 0.0128 - accuracy: 0.9981 - val_loss: 0.3244 - val_accuracy: 0.9225\n",
            "Epoch 70/200\n",
            "160/160 [==============================] - 0s 2ms/step - loss: 0.0118 - accuracy: 0.9962 - val_loss: 0.3017 - val_accuracy: 0.9275\n",
            "Epoch 71/200\n",
            "160/160 [==============================] - 0s 2ms/step - loss: 0.0110 - accuracy: 0.9975 - val_loss: 0.3273 - val_accuracy: 0.9225\n",
            "Epoch 72/200\n",
            "160/160 [==============================] - 0s 2ms/step - loss: 0.0125 - accuracy: 0.9962 - val_loss: 0.3221 - val_accuracy: 0.9200\n",
            "Epoch 73/200\n",
            "160/160 [==============================] - 0s 2ms/step - loss: 0.0118 - accuracy: 0.9962 - val_loss: 0.3475 - val_accuracy: 0.9300\n",
            "Epoch 74/200\n",
            "160/160 [==============================] - 0s 2ms/step - loss: 0.0121 - accuracy: 0.9956 - val_loss: 0.3336 - val_accuracy: 0.9275\n",
            "Epoch 75/200\n",
            "160/160 [==============================] - 0s 2ms/step - loss: 0.0109 - accuracy: 0.9969 - val_loss: 0.3154 - val_accuracy: 0.9350\n",
            "Epoch 76/200\n",
            "160/160 [==============================] - 0s 2ms/step - loss: 0.0102 - accuracy: 0.9975 - val_loss: 0.3638 - val_accuracy: 0.9200\n",
            "Epoch 77/200\n",
            "160/160 [==============================] - 0s 2ms/step - loss: 0.0106 - accuracy: 0.9975 - val_loss: 0.3407 - val_accuracy: 0.9225\n",
            "Epoch 78/200\n",
            "160/160 [==============================] - 0s 2ms/step - loss: 0.0085 - accuracy: 0.9987 - val_loss: 0.4261 - val_accuracy: 0.9200\n",
            "Epoch 79/200\n",
            "160/160 [==============================] - 0s 2ms/step - loss: 0.0087 - accuracy: 0.9987 - val_loss: 0.3543 - val_accuracy: 0.9250\n",
            "Epoch 80/200\n",
            "160/160 [==============================] - 0s 2ms/step - loss: 0.0088 - accuracy: 0.9975 - val_loss: 0.4076 - val_accuracy: 0.9175\n",
            "Epoch 81/200\n",
            "160/160 [==============================] - 0s 2ms/step - loss: 0.0087 - accuracy: 0.9962 - val_loss: 0.3662 - val_accuracy: 0.9300\n",
            "Epoch 82/200\n",
            "160/160 [==============================] - 0s 2ms/step - loss: 0.0096 - accuracy: 0.9975 - val_loss: 0.3535 - val_accuracy: 0.9275\n",
            "Epoch 83/200\n",
            "160/160 [==============================] - 0s 2ms/step - loss: 0.0066 - accuracy: 0.9994 - val_loss: 0.3968 - val_accuracy: 0.9175\n",
            "Epoch 84/200\n",
            "160/160 [==============================] - 0s 2ms/step - loss: 0.0086 - accuracy: 0.9969 - val_loss: 0.3628 - val_accuracy: 0.9300\n",
            "Epoch 85/200\n",
            "160/160 [==============================] - 0s 2ms/step - loss: 0.0066 - accuracy: 0.9987 - val_loss: 0.3872 - val_accuracy: 0.9225\n",
            "Epoch 86/200\n",
            "160/160 [==============================] - 0s 2ms/step - loss: 0.0070 - accuracy: 0.9987 - val_loss: 0.4056 - val_accuracy: 0.9250\n",
            "Epoch 87/200\n",
            "160/160 [==============================] - 0s 2ms/step - loss: 0.0053 - accuracy: 0.9987 - val_loss: 0.4136 - val_accuracy: 0.9200\n",
            "Epoch 88/200\n",
            "160/160 [==============================] - 0s 2ms/step - loss: 0.0054 - accuracy: 0.9981 - val_loss: 0.4499 - val_accuracy: 0.9100\n",
            "Epoch 89/200\n",
            "160/160 [==============================] - 0s 2ms/step - loss: 0.0049 - accuracy: 0.9987 - val_loss: 0.4334 - val_accuracy: 0.9150\n",
            "Epoch 90/200\n",
            "160/160 [==============================] - 0s 2ms/step - loss: 0.0054 - accuracy: 0.9994 - val_loss: 0.4007 - val_accuracy: 0.9250\n",
            "Epoch 91/200\n",
            "160/160 [==============================] - 0s 2ms/step - loss: 0.0038 - accuracy: 1.0000 - val_loss: 0.4733 - val_accuracy: 0.9125\n",
            "Epoch 92/200\n",
            "160/160 [==============================] - 0s 2ms/step - loss: 0.0046 - accuracy: 0.9994 - val_loss: 0.4151 - val_accuracy: 0.9300\n",
            "Epoch 93/200\n",
            "160/160 [==============================] - 0s 2ms/step - loss: 0.0041 - accuracy: 0.9994 - val_loss: 0.4135 - val_accuracy: 0.9200\n",
            "Epoch 94/200\n",
            "160/160 [==============================] - 0s 2ms/step - loss: 0.0037 - accuracy: 0.9994 - val_loss: 0.4536 - val_accuracy: 0.9250\n",
            "Epoch 95/200\n",
            "160/160 [==============================] - 0s 2ms/step - loss: 0.0034 - accuracy: 0.9994 - val_loss: 0.4868 - val_accuracy: 0.9175\n",
            "Epoch 96/200\n",
            "160/160 [==============================] - 0s 2ms/step - loss: 0.0037 - accuracy: 0.9994 - val_loss: 0.4638 - val_accuracy: 0.9175\n",
            "Epoch 97/200\n",
            "160/160 [==============================] - 0s 2ms/step - loss: 0.0030 - accuracy: 1.0000 - val_loss: 0.4866 - val_accuracy: 0.9200\n",
            "Epoch 98/200\n",
            "160/160 [==============================] - 0s 2ms/step - loss: 0.0036 - accuracy: 0.9994 - val_loss: 0.4708 - val_accuracy: 0.9200\n",
            "Epoch 99/200\n",
            "160/160 [==============================] - 0s 2ms/step - loss: 0.0028 - accuracy: 0.9994 - val_loss: 0.4944 - val_accuracy: 0.9200\n",
            "Epoch 100/200\n",
            "160/160 [==============================] - 0s 2ms/step - loss: 0.0031 - accuracy: 0.9994 - val_loss: 0.4942 - val_accuracy: 0.9150\n",
            "Epoch 101/200\n",
            "160/160 [==============================] - 0s 2ms/step - loss: 0.0029 - accuracy: 1.0000 - val_loss: 0.4870 - val_accuracy: 0.9225\n",
            "Epoch 102/200\n",
            "160/160 [==============================] - 0s 2ms/step - loss: 0.0020 - accuracy: 1.0000 - val_loss: 0.5025 - val_accuracy: 0.9200\n",
            "Epoch 103/200\n",
            "160/160 [==============================] - 0s 2ms/step - loss: 0.0024 - accuracy: 0.9994 - val_loss: 0.4691 - val_accuracy: 0.9150\n",
            "Epoch 104/200\n",
            "160/160 [==============================] - 0s 2ms/step - loss: 0.0022 - accuracy: 1.0000 - val_loss: 0.5171 - val_accuracy: 0.9225\n",
            "Epoch 105/200\n",
            "160/160 [==============================] - 0s 2ms/step - loss: 0.0018 - accuracy: 1.0000 - val_loss: 0.5167 - val_accuracy: 0.9200\n",
            "Epoch 106/200\n",
            "160/160 [==============================] - 0s 2ms/step - loss: 0.0015 - accuracy: 1.0000 - val_loss: 0.4990 - val_accuracy: 0.9225\n",
            "Epoch 107/200\n",
            "160/160 [==============================] - 0s 2ms/step - loss: 0.0015 - accuracy: 1.0000 - val_loss: 0.5484 - val_accuracy: 0.9125\n",
            "Epoch 108/200\n",
            "160/160 [==============================] - 0s 2ms/step - loss: 0.0019 - accuracy: 1.0000 - val_loss: 0.5448 - val_accuracy: 0.9200\n",
            "Epoch 109/200\n",
            "160/160 [==============================] - 0s 2ms/step - loss: 0.0027 - accuracy: 0.9987 - val_loss: 0.5106 - val_accuracy: 0.9275\n",
            "Epoch 110/200\n",
            "160/160 [==============================] - 0s 2ms/step - loss: 0.0013 - accuracy: 1.0000 - val_loss: 0.5867 - val_accuracy: 0.9150\n",
            "Epoch 111/200\n",
            "160/160 [==============================] - 0s 2ms/step - loss: 0.0012 - accuracy: 1.0000 - val_loss: 0.5832 - val_accuracy: 0.9225\n",
            "Epoch 112/200\n",
            "160/160 [==============================] - 0s 2ms/step - loss: 0.0012 - accuracy: 1.0000 - val_loss: 0.5700 - val_accuracy: 0.9175\n",
            "Epoch 113/200\n",
            "160/160 [==============================] - 0s 2ms/step - loss: 0.0017 - accuracy: 0.9994 - val_loss: 0.5656 - val_accuracy: 0.9200\n",
            "Epoch 114/200\n",
            "160/160 [==============================] - 0s 2ms/step - loss: 0.0012 - accuracy: 1.0000 - val_loss: 0.5342 - val_accuracy: 0.9200\n",
            "Epoch 115/200\n",
            "160/160 [==============================] - 0s 2ms/step - loss: 0.0013 - accuracy: 1.0000 - val_loss: 0.5873 - val_accuracy: 0.9125\n",
            "Epoch 116/200\n",
            "160/160 [==============================] - 0s 2ms/step - loss: 7.9122e-04 - accuracy: 1.0000 - val_loss: 0.5827 - val_accuracy: 0.9200\n",
            "Epoch 117/200\n",
            "160/160 [==============================] - 0s 2ms/step - loss: 0.0014 - accuracy: 1.0000 - val_loss: 0.5642 - val_accuracy: 0.9225\n",
            "Epoch 118/200\n",
            "160/160 [==============================] - 0s 2ms/step - loss: 8.3475e-04 - accuracy: 1.0000 - val_loss: 0.5646 - val_accuracy: 0.9275\n",
            "Epoch 119/200\n",
            "160/160 [==============================] - 0s 2ms/step - loss: 8.9826e-04 - accuracy: 1.0000 - val_loss: 0.6073 - val_accuracy: 0.9200\n",
            "Epoch 120/200\n",
            "160/160 [==============================] - 0s 2ms/step - loss: 8.4099e-04 - accuracy: 1.0000 - val_loss: 0.6385 - val_accuracy: 0.9250\n",
            "Epoch 121/200\n",
            "160/160 [==============================] - 0s 2ms/step - loss: 6.9799e-04 - accuracy: 1.0000 - val_loss: 0.5969 - val_accuracy: 0.9250\n",
            "Epoch 122/200\n",
            "160/160 [==============================] - 0s 2ms/step - loss: 6.6185e-04 - accuracy: 1.0000 - val_loss: 0.6158 - val_accuracy: 0.9225\n",
            "Epoch 123/200\n",
            "160/160 [==============================] - 0s 2ms/step - loss: 8.2343e-04 - accuracy: 1.0000 - val_loss: 0.6119 - val_accuracy: 0.9250\n",
            "Epoch 124/200\n",
            "160/160 [==============================] - 0s 2ms/step - loss: 4.8135e-04 - accuracy: 1.0000 - val_loss: 0.6081 - val_accuracy: 0.9275\n",
            "Epoch 125/200\n",
            "160/160 [==============================] - 0s 2ms/step - loss: 5.2727e-04 - accuracy: 1.0000 - val_loss: 0.6410 - val_accuracy: 0.9200\n",
            "Epoch 126/200\n",
            "160/160 [==============================] - 0s 2ms/step - loss: 9.0227e-04 - accuracy: 1.0000 - val_loss: 0.6549 - val_accuracy: 0.9200\n",
            "Epoch 127/200\n",
            "160/160 [==============================] - 0s 2ms/step - loss: 5.7444e-04 - accuracy: 1.0000 - val_loss: 0.6278 - val_accuracy: 0.9225\n",
            "Epoch 128/200\n",
            "160/160 [==============================] - 0s 2ms/step - loss: 6.3262e-04 - accuracy: 1.0000 - val_loss: 0.6663 - val_accuracy: 0.9225\n",
            "Epoch 129/200\n",
            "160/160 [==============================] - 0s 2ms/step - loss: 3.3714e-04 - accuracy: 1.0000 - val_loss: 0.6942 - val_accuracy: 0.9250\n",
            "Epoch 130/200\n",
            "160/160 [==============================] - 0s 2ms/step - loss: 0.0012 - accuracy: 0.9994 - val_loss: 0.6568 - val_accuracy: 0.9200\n",
            "Epoch 131/200\n",
            "160/160 [==============================] - 0s 2ms/step - loss: 3.0426e-04 - accuracy: 1.0000 - val_loss: 0.6713 - val_accuracy: 0.9200\n",
            "Epoch 132/200\n",
            "160/160 [==============================] - 0s 2ms/step - loss: 3.6426e-04 - accuracy: 1.0000 - val_loss: 0.6825 - val_accuracy: 0.9150\n",
            "Epoch 133/200\n",
            "160/160 [==============================] - 0s 2ms/step - loss: 2.8717e-04 - accuracy: 1.0000 - val_loss: 0.6350 - val_accuracy: 0.9200\n",
            "Epoch 134/200\n",
            "160/160 [==============================] - 0s 2ms/step - loss: 4.1220e-04 - accuracy: 1.0000 - val_loss: 0.6766 - val_accuracy: 0.9225\n",
            "Epoch 135/200\n",
            "160/160 [==============================] - 0s 2ms/step - loss: 1.9966e-04 - accuracy: 1.0000 - val_loss: 0.6474 - val_accuracy: 0.9200\n",
            "Epoch 136/200\n",
            "160/160 [==============================] - 0s 2ms/step - loss: 7.4351e-04 - accuracy: 0.9994 - val_loss: 0.6602 - val_accuracy: 0.9225\n",
            "Epoch 137/200\n",
            "160/160 [==============================] - 0s 2ms/step - loss: 2.4405e-04 - accuracy: 1.0000 - val_loss: 0.7229 - val_accuracy: 0.9200\n",
            "Epoch 138/200\n",
            "160/160 [==============================] - 0s 2ms/step - loss: 2.9148e-04 - accuracy: 1.0000 - val_loss: 0.6832 - val_accuracy: 0.9200\n",
            "Epoch 139/200\n",
            "160/160 [==============================] - 0s 2ms/step - loss: 2.4036e-04 - accuracy: 1.0000 - val_loss: 0.7591 - val_accuracy: 0.9175\n",
            "Epoch 140/200\n",
            "160/160 [==============================] - 0s 2ms/step - loss: 2.0556e-04 - accuracy: 1.0000 - val_loss: 0.7181 - val_accuracy: 0.9275\n",
            "Epoch 141/200\n",
            "160/160 [==============================] - 0s 2ms/step - loss: 1.1636e-04 - accuracy: 1.0000 - val_loss: 0.7287 - val_accuracy: 0.9125\n",
            "Epoch 142/200\n",
            "160/160 [==============================] - 0s 2ms/step - loss: 3.7150e-04 - accuracy: 1.0000 - val_loss: 0.7668 - val_accuracy: 0.9150\n",
            "Epoch 143/200\n",
            "160/160 [==============================] - 0s 2ms/step - loss: 1.0454e-04 - accuracy: 1.0000 - val_loss: 0.7158 - val_accuracy: 0.9225\n",
            "Epoch 144/200\n",
            "160/160 [==============================] - 0s 2ms/step - loss: 1.4043e-04 - accuracy: 1.0000 - val_loss: 0.7521 - val_accuracy: 0.9175\n",
            "Epoch 145/200\n",
            "160/160 [==============================] - 0s 2ms/step - loss: 1.0706e-04 - accuracy: 1.0000 - val_loss: 0.7260 - val_accuracy: 0.9175\n",
            "Epoch 146/200\n",
            "160/160 [==============================] - 0s 2ms/step - loss: 2.0031e-04 - accuracy: 1.0000 - val_loss: 0.7502 - val_accuracy: 0.9225\n",
            "Epoch 147/200\n",
            "160/160 [==============================] - 0s 2ms/step - loss: 1.6657e-04 - accuracy: 1.0000 - val_loss: 0.7918 - val_accuracy: 0.9150\n",
            "Epoch 148/200\n",
            "160/160 [==============================] - 0s 2ms/step - loss: 3.2613e-04 - accuracy: 1.0000 - val_loss: 0.7621 - val_accuracy: 0.9200\n",
            "Epoch 149/200\n",
            "160/160 [==============================] - 0s 2ms/step - loss: 1.0763e-04 - accuracy: 1.0000 - val_loss: 0.7472 - val_accuracy: 0.9200\n",
            "Epoch 150/200\n",
            "160/160 [==============================] - 0s 2ms/step - loss: 7.2782e-05 - accuracy: 1.0000 - val_loss: 0.7804 - val_accuracy: 0.9225\n",
            "Epoch 151/200\n",
            "160/160 [==============================] - 0s 2ms/step - loss: 2.9710e-04 - accuracy: 1.0000 - val_loss: 0.7933 - val_accuracy: 0.9225\n",
            "Epoch 152/200\n",
            "160/160 [==============================] - 0s 2ms/step - loss: 4.0170e-05 - accuracy: 1.0000 - val_loss: 0.7910 - val_accuracy: 0.9225\n",
            "Epoch 153/200\n",
            "160/160 [==============================] - 0s 2ms/step - loss: 2.2409e-04 - accuracy: 1.0000 - val_loss: 0.8158 - val_accuracy: 0.9250\n",
            "Epoch 154/200\n",
            "160/160 [==============================] - 0s 2ms/step - loss: 8.8527e-05 - accuracy: 1.0000 - val_loss: 0.8381 - val_accuracy: 0.9225\n",
            "Epoch 155/200\n",
            "160/160 [==============================] - 0s 2ms/step - loss: 4.3985e-05 - accuracy: 1.0000 - val_loss: 0.7917 - val_accuracy: 0.9175\n",
            "Epoch 156/200\n",
            "160/160 [==============================] - 0s 2ms/step - loss: 4.5947e-05 - accuracy: 1.0000 - val_loss: 0.8166 - val_accuracy: 0.9125\n",
            "Epoch 157/200\n",
            "160/160 [==============================] - 0s 2ms/step - loss: 1.5924e-04 - accuracy: 1.0000 - val_loss: 0.7987 - val_accuracy: 0.9275\n",
            "Epoch 158/200\n",
            "160/160 [==============================] - 0s 2ms/step - loss: 6.9138e-05 - accuracy: 1.0000 - val_loss: 0.8468 - val_accuracy: 0.9275\n",
            "Epoch 159/200\n",
            "160/160 [==============================] - 0s 2ms/step - loss: 3.7152e-05 - accuracy: 1.0000 - val_loss: 0.8298 - val_accuracy: 0.9250\n",
            "Epoch 160/200\n",
            "160/160 [==============================] - 0s 2ms/step - loss: 9.5730e-05 - accuracy: 1.0000 - val_loss: 0.8361 - val_accuracy: 0.9200\n",
            "Epoch 161/200\n",
            "160/160 [==============================] - 0s 2ms/step - loss: 3.2673e-05 - accuracy: 1.0000 - val_loss: 0.9026 - val_accuracy: 0.9150\n",
            "Epoch 162/200\n",
            "160/160 [==============================] - 0s 2ms/step - loss: 2.9047e-05 - accuracy: 1.0000 - val_loss: 0.8995 - val_accuracy: 0.9150\n",
            "Epoch 163/200\n",
            "160/160 [==============================] - 0s 2ms/step - loss: 5.6816e-05 - accuracy: 1.0000 - val_loss: 0.9870 - val_accuracy: 0.9150\n",
            "Epoch 164/200\n",
            "160/160 [==============================] - 0s 2ms/step - loss: 4.5340e-05 - accuracy: 1.0000 - val_loss: 0.8879 - val_accuracy: 0.9175\n",
            "Epoch 165/200\n",
            "160/160 [==============================] - 0s 2ms/step - loss: 3.5980e-05 - accuracy: 1.0000 - val_loss: 0.8674 - val_accuracy: 0.9175\n",
            "Epoch 166/200\n",
            "160/160 [==============================] - 0s 3ms/step - loss: 3.5473e-05 - accuracy: 1.0000 - val_loss: 0.9024 - val_accuracy: 0.9100\n",
            "Epoch 167/200\n",
            "160/160 [==============================] - 0s 2ms/step - loss: 1.8296e-05 - accuracy: 1.0000 - val_loss: 0.8569 - val_accuracy: 0.9150\n",
            "Epoch 168/200\n",
            "160/160 [==============================] - 0s 2ms/step - loss: 1.3577e-04 - accuracy: 1.0000 - val_loss: 0.9218 - val_accuracy: 0.9125\n",
            "Epoch 169/200\n",
            "160/160 [==============================] - 0s 2ms/step - loss: 0.0027 - accuracy: 0.9994 - val_loss: 0.9703 - val_accuracy: 0.9125\n",
            "Epoch 170/200\n",
            "160/160 [==============================] - 0s 2ms/step - loss: 4.6232e-05 - accuracy: 1.0000 - val_loss: 0.9449 - val_accuracy: 0.9175\n",
            "Epoch 171/200\n",
            "160/160 [==============================] - 0s 2ms/step - loss: 2.8091e-05 - accuracy: 1.0000 - val_loss: 0.9389 - val_accuracy: 0.9150\n",
            "Epoch 172/200\n",
            "160/160 [==============================] - 0s 2ms/step - loss: 2.1848e-05 - accuracy: 1.0000 - val_loss: 0.9519 - val_accuracy: 0.9100\n",
            "Epoch 173/200\n",
            "160/160 [==============================] - 0s 2ms/step - loss: 1.1651e-05 - accuracy: 1.0000 - val_loss: 0.9322 - val_accuracy: 0.9150\n",
            "Epoch 174/200\n",
            "160/160 [==============================] - 0s 2ms/step - loss: 8.6736e-06 - accuracy: 1.0000 - val_loss: 1.0011 - val_accuracy: 0.9100\n",
            "Epoch 175/200\n",
            "160/160 [==============================] - 0s 2ms/step - loss: 2.5535e-05 - accuracy: 1.0000 - val_loss: 0.9610 - val_accuracy: 0.9150\n",
            "Epoch 176/200\n",
            "160/160 [==============================] - 0s 2ms/step - loss: 2.0528e-05 - accuracy: 1.0000 - val_loss: 0.9752 - val_accuracy: 0.9150\n",
            "Epoch 177/200\n",
            "160/160 [==============================] - 0s 2ms/step - loss: 5.2929e-04 - accuracy: 0.9994 - val_loss: 1.0132 - val_accuracy: 0.9125\n",
            "Epoch 178/200\n",
            "160/160 [==============================] - 0s 2ms/step - loss: 1.1058e-05 - accuracy: 1.0000 - val_loss: 0.9962 - val_accuracy: 0.9125\n",
            "Epoch 179/200\n",
            "160/160 [==============================] - 0s 2ms/step - loss: 9.3831e-05 - accuracy: 1.0000 - val_loss: 1.0064 - val_accuracy: 0.9100\n",
            "Epoch 180/200\n",
            "160/160 [==============================] - 0s 2ms/step - loss: 5.4281e-06 - accuracy: 1.0000 - val_loss: 0.9694 - val_accuracy: 0.9125\n",
            "Epoch 181/200\n",
            "160/160 [==============================] - 0s 2ms/step - loss: 8.8558e-06 - accuracy: 1.0000 - val_loss: 0.9827 - val_accuracy: 0.9175\n",
            "Epoch 182/200\n",
            "160/160 [==============================] - 0s 2ms/step - loss: 4.2214e-05 - accuracy: 1.0000 - val_loss: 1.0526 - val_accuracy: 0.9125\n",
            "Epoch 183/200\n",
            "160/160 [==============================] - 0s 2ms/step - loss: 1.1401e-04 - accuracy: 1.0000 - val_loss: 1.0356 - val_accuracy: 0.9150\n",
            "Epoch 184/200\n",
            "160/160 [==============================] - 0s 2ms/step - loss: 1.7056e-04 - accuracy: 1.0000 - val_loss: 1.0653 - val_accuracy: 0.9175\n",
            "Epoch 185/200\n",
            "160/160 [==============================] - 0s 2ms/step - loss: 8.6154e-06 - accuracy: 1.0000 - val_loss: 1.0738 - val_accuracy: 0.9075\n",
            "Epoch 186/200\n",
            "160/160 [==============================] - 0s 2ms/step - loss: 8.1873e-06 - accuracy: 1.0000 - val_loss: 1.0426 - val_accuracy: 0.9125\n",
            "Epoch 187/200\n",
            "160/160 [==============================] - 0s 2ms/step - loss: 1.5513e-05 - accuracy: 1.0000 - val_loss: 1.0407 - val_accuracy: 0.9200\n",
            "Epoch 188/200\n",
            "160/160 [==============================] - 0s 2ms/step - loss: 1.0310e-05 - accuracy: 1.0000 - val_loss: 1.0206 - val_accuracy: 0.9125\n",
            "Epoch 189/200\n",
            "160/160 [==============================] - 0s 2ms/step - loss: 5.8876e-06 - accuracy: 1.0000 - val_loss: 1.0786 - val_accuracy: 0.9200\n",
            "Epoch 190/200\n",
            "160/160 [==============================] - 0s 2ms/step - loss: 3.2129e-06 - accuracy: 1.0000 - val_loss: 1.0649 - val_accuracy: 0.9175\n",
            "Epoch 191/200\n",
            "160/160 [==============================] - 0s 2ms/step - loss: 1.7318e-05 - accuracy: 1.0000 - val_loss: 1.0906 - val_accuracy: 0.9150\n",
            "Epoch 192/200\n",
            "160/160 [==============================] - 0s 2ms/step - loss: 3.6052e-06 - accuracy: 1.0000 - val_loss: 1.1485 - val_accuracy: 0.9100\n",
            "Epoch 193/200\n",
            "160/160 [==============================] - 0s 2ms/step - loss: 4.2360e-06 - accuracy: 1.0000 - val_loss: 1.1676 - val_accuracy: 0.9200\n",
            "Epoch 194/200\n",
            "160/160 [==============================] - 0s 2ms/step - loss: 4.7961e-05 - accuracy: 1.0000 - val_loss: 1.1728 - val_accuracy: 0.9125\n",
            "Epoch 195/200\n",
            "160/160 [==============================] - 0s 2ms/step - loss: 3.3303e-06 - accuracy: 1.0000 - val_loss: 1.1919 - val_accuracy: 0.9125\n",
            "Epoch 196/200\n",
            "160/160 [==============================] - 0s 2ms/step - loss: 2.8900e-06 - accuracy: 1.0000 - val_loss: 1.1001 - val_accuracy: 0.9125\n",
            "Epoch 197/200\n",
            "160/160 [==============================] - 0s 2ms/step - loss: 3.5187e-05 - accuracy: 1.0000 - val_loss: 1.1438 - val_accuracy: 0.9150\n",
            "Epoch 198/200\n",
            "160/160 [==============================] - 0s 2ms/step - loss: 1.7875e-06 - accuracy: 1.0000 - val_loss: 1.2162 - val_accuracy: 0.9175\n",
            "Epoch 199/200\n",
            "160/160 [==============================] - 0s 2ms/step - loss: 2.4982e-06 - accuracy: 1.0000 - val_loss: 1.1555 - val_accuracy: 0.9175\n",
            "Epoch 200/200\n",
            "160/160 [==============================] - 0s 2ms/step - loss: 5.2776e-06 - accuracy: 1.0000 - val_loss: 1.2443 - val_accuracy: 0.9050\n"
          ]
        }
      ]
    },
    {
      "cell_type": "markdown",
      "source": [
        "Adam"
      ],
      "metadata": {
        "id": "4hyYHN8eWhgq"
      }
    },
    {
      "cell_type": "code",
      "source": [
        "model_3= keras.Sequential()\n",
        "model_3.add(tf.keras.layers.Dense(units=17,input_shape=(20,),activation='relu'))\n",
        "model_3.add(tf.keras.layers.Dense(units=12,activation='relu'))\n",
        "model_3.add(tf.keras.layers.Dense(units=7,activation='relu'))\n",
        "model_3.add(tf.keras.layers.Dense(units=4,activation='softmax'))\n",
        "model_3.compile(loss='categorical_crossentropy',\n",
        "              optimizer=tf.keras.optimizers.Adam(learning_rate=1e-3),\n",
        "              metrics=['accuracy'])\n",
        "print(model_3.summary())"
      ],
      "metadata": {
        "colab": {
          "base_uri": "https://localhost:8080/"
        },
        "id": "gwNS3TUew1wZ",
        "outputId": "702b290b-c65a-481d-da72-6883bb2ff2dc"
      },
      "execution_count": null,
      "outputs": [
        {
          "output_type": "stream",
          "name": "stdout",
          "text": [
            "Model: \"sequential_5\"\n",
            "_________________________________________________________________\n",
            " Layer (type)                Output Shape              Param #   \n",
            "=================================================================\n",
            " dense_20 (Dense)            (None, 17)                357       \n",
            "                                                                 \n",
            " dense_21 (Dense)            (None, 12)                216       \n",
            "                                                                 \n",
            " dense_22 (Dense)            (None, 7)                 91        \n",
            "                                                                 \n",
            " dense_23 (Dense)            (None, 4)                 32        \n",
            "                                                                 \n",
            "=================================================================\n",
            "Total params: 696\n",
            "Trainable params: 696\n",
            "Non-trainable params: 0\n",
            "_________________________________________________________________\n",
            "None\n"
          ]
        }
      ]
    },
    {
      "cell_type": "code",
      "source": [
        "history_3=model_3.fit(norm_train_data,Y_train,epochs=200,batch_size=10,validation_data=(norm_test_data_arr,Y_test))"
      ],
      "metadata": {
        "colab": {
          "base_uri": "https://localhost:8080/"
        },
        "id": "pkPBUnYZ4IY8",
        "outputId": "eff8da8c-5b6e-4ad1-9223-57880d838baf"
      },
      "execution_count": null,
      "outputs": [
        {
          "output_type": "stream",
          "name": "stdout",
          "text": [
            "Epoch 1/200\n",
            "160/160 [==============================] - 1s 3ms/step - loss: 1.3340 - accuracy: 0.3406 - val_loss: 1.2579 - val_accuracy: 0.3850\n",
            "Epoch 2/200\n",
            "160/160 [==============================] - 0s 2ms/step - loss: 1.0884 - accuracy: 0.4931 - val_loss: 0.9116 - val_accuracy: 0.5275\n",
            "Epoch 3/200\n",
            "160/160 [==============================] - 0s 2ms/step - loss: 0.7433 - accuracy: 0.6356 - val_loss: 0.6495 - val_accuracy: 0.7150\n",
            "Epoch 4/200\n",
            "160/160 [==============================] - 0s 2ms/step - loss: 0.5039 - accuracy: 0.8087 - val_loss: 0.4535 - val_accuracy: 0.8050\n",
            "Epoch 5/200\n",
            "160/160 [==============================] - 0s 2ms/step - loss: 0.3562 - accuracy: 0.8756 - val_loss: 0.3601 - val_accuracy: 0.8450\n",
            "Epoch 6/200\n",
            "160/160 [==============================] - 0s 2ms/step - loss: 0.2770 - accuracy: 0.9119 - val_loss: 0.3019 - val_accuracy: 0.8650\n",
            "Epoch 7/200\n",
            "160/160 [==============================] - 0s 2ms/step - loss: 0.2307 - accuracy: 0.9200 - val_loss: 0.2607 - val_accuracy: 0.9000\n",
            "Epoch 8/200\n",
            "160/160 [==============================] - 0s 2ms/step - loss: 0.1970 - accuracy: 0.9319 - val_loss: 0.2384 - val_accuracy: 0.9025\n",
            "Epoch 9/200\n",
            "160/160 [==============================] - 0s 2ms/step - loss: 0.1734 - accuracy: 0.9450 - val_loss: 0.2409 - val_accuracy: 0.8875\n",
            "Epoch 10/200\n",
            "160/160 [==============================] - 0s 2ms/step - loss: 0.1544 - accuracy: 0.9463 - val_loss: 0.2163 - val_accuracy: 0.9050\n",
            "Epoch 11/200\n",
            "160/160 [==============================] - 0s 2ms/step - loss: 0.1399 - accuracy: 0.9525 - val_loss: 0.2125 - val_accuracy: 0.9200\n",
            "Epoch 12/200\n",
            "160/160 [==============================] - 0s 3ms/step - loss: 0.1283 - accuracy: 0.9575 - val_loss: 0.2024 - val_accuracy: 0.9100\n",
            "Epoch 13/200\n",
            "160/160 [==============================] - 0s 2ms/step - loss: 0.1146 - accuracy: 0.9606 - val_loss: 0.2144 - val_accuracy: 0.8950\n",
            "Epoch 14/200\n",
            "160/160 [==============================] - 0s 3ms/step - loss: 0.1096 - accuracy: 0.9613 - val_loss: 0.2059 - val_accuracy: 0.9200\n",
            "Epoch 15/200\n",
            "160/160 [==============================] - 0s 2ms/step - loss: 0.0999 - accuracy: 0.9688 - val_loss: 0.2231 - val_accuracy: 0.9025\n",
            "Epoch 16/200\n",
            "160/160 [==============================] - 0s 2ms/step - loss: 0.0944 - accuracy: 0.9744 - val_loss: 0.2050 - val_accuracy: 0.9000\n",
            "Epoch 17/200\n",
            "160/160 [==============================] - 0s 3ms/step - loss: 0.0840 - accuracy: 0.9744 - val_loss: 0.1865 - val_accuracy: 0.9150\n",
            "Epoch 18/200\n",
            "160/160 [==============================] - 0s 2ms/step - loss: 0.0788 - accuracy: 0.9769 - val_loss: 0.1921 - val_accuracy: 0.9200\n",
            "Epoch 19/200\n",
            "160/160 [==============================] - 0s 2ms/step - loss: 0.0749 - accuracy: 0.9781 - val_loss: 0.2112 - val_accuracy: 0.9100\n",
            "Epoch 20/200\n",
            "160/160 [==============================] - 0s 2ms/step - loss: 0.0734 - accuracy: 0.9762 - val_loss: 0.2044 - val_accuracy: 0.9175\n",
            "Epoch 21/200\n",
            "160/160 [==============================] - 0s 2ms/step - loss: 0.0644 - accuracy: 0.9819 - val_loss: 0.1960 - val_accuracy: 0.9125\n",
            "Epoch 22/200\n",
            "160/160 [==============================] - 0s 2ms/step - loss: 0.0604 - accuracy: 0.9825 - val_loss: 0.2057 - val_accuracy: 0.9050\n",
            "Epoch 23/200\n",
            "160/160 [==============================] - 0s 2ms/step - loss: 0.0562 - accuracy: 0.9856 - val_loss: 0.2275 - val_accuracy: 0.8900\n",
            "Epoch 24/200\n",
            "160/160 [==============================] - 0s 2ms/step - loss: 0.0521 - accuracy: 0.9894 - val_loss: 0.2155 - val_accuracy: 0.9075\n",
            "Epoch 25/200\n",
            "160/160 [==============================] - 0s 2ms/step - loss: 0.0502 - accuracy: 0.9881 - val_loss: 0.2234 - val_accuracy: 0.9125\n",
            "Epoch 26/200\n",
            "160/160 [==============================] - 0s 2ms/step - loss: 0.0454 - accuracy: 0.9925 - val_loss: 0.2047 - val_accuracy: 0.9200\n",
            "Epoch 27/200\n",
            "160/160 [==============================] - 0s 2ms/step - loss: 0.0438 - accuracy: 0.9906 - val_loss: 0.2366 - val_accuracy: 0.9025\n",
            "Epoch 28/200\n",
            "160/160 [==============================] - 0s 2ms/step - loss: 0.0406 - accuracy: 0.9931 - val_loss: 0.2178 - val_accuracy: 0.9250\n",
            "Epoch 29/200\n",
            "160/160 [==============================] - 0s 2ms/step - loss: 0.0407 - accuracy: 0.9950 - val_loss: 0.2346 - val_accuracy: 0.9075\n",
            "Epoch 30/200\n",
            "160/160 [==============================] - 0s 2ms/step - loss: 0.0353 - accuracy: 0.9944 - val_loss: 0.2248 - val_accuracy: 0.9150\n",
            "Epoch 31/200\n",
            "160/160 [==============================] - 0s 2ms/step - loss: 0.0330 - accuracy: 0.9969 - val_loss: 0.2502 - val_accuracy: 0.9075\n",
            "Epoch 32/200\n",
            "160/160 [==============================] - 0s 2ms/step - loss: 0.0328 - accuracy: 0.9944 - val_loss: 0.2568 - val_accuracy: 0.9100\n",
            "Epoch 33/200\n",
            "160/160 [==============================] - 0s 2ms/step - loss: 0.0301 - accuracy: 0.9950 - val_loss: 0.2420 - val_accuracy: 0.9100\n",
            "Epoch 34/200\n",
            "160/160 [==============================] - 0s 2ms/step - loss: 0.0265 - accuracy: 0.9962 - val_loss: 0.2404 - val_accuracy: 0.9100\n",
            "Epoch 35/200\n",
            "160/160 [==============================] - 0s 2ms/step - loss: 0.0260 - accuracy: 0.9969 - val_loss: 0.2297 - val_accuracy: 0.9200\n",
            "Epoch 36/200\n",
            "160/160 [==============================] - 0s 2ms/step - loss: 0.0247 - accuracy: 0.9981 - val_loss: 0.2491 - val_accuracy: 0.9300\n",
            "Epoch 37/200\n",
            "160/160 [==============================] - 0s 2ms/step - loss: 0.0231 - accuracy: 0.9969 - val_loss: 0.2709 - val_accuracy: 0.9075\n",
            "Epoch 38/200\n",
            "160/160 [==============================] - 0s 2ms/step - loss: 0.0224 - accuracy: 0.9969 - val_loss: 0.2681 - val_accuracy: 0.9100\n",
            "Epoch 39/200\n",
            "160/160 [==============================] - 0s 2ms/step - loss: 0.0206 - accuracy: 0.9969 - val_loss: 0.2723 - val_accuracy: 0.9025\n",
            "Epoch 40/200\n",
            "160/160 [==============================] - 0s 2ms/step - loss: 0.0186 - accuracy: 0.9994 - val_loss: 0.2510 - val_accuracy: 0.9200\n",
            "Epoch 41/200\n",
            "160/160 [==============================] - 0s 2ms/step - loss: 0.0179 - accuracy: 0.9981 - val_loss: 0.2810 - val_accuracy: 0.9175\n",
            "Epoch 42/200\n",
            "160/160 [==============================] - 0s 2ms/step - loss: 0.0185 - accuracy: 0.9969 - val_loss: 0.3029 - val_accuracy: 0.9150\n",
            "Epoch 43/200\n",
            "160/160 [==============================] - 0s 3ms/step - loss: 0.0164 - accuracy: 0.9975 - val_loss: 0.3059 - val_accuracy: 0.9150\n",
            "Epoch 44/200\n",
            "160/160 [==============================] - 0s 2ms/step - loss: 0.0140 - accuracy: 0.9975 - val_loss: 0.3142 - val_accuracy: 0.9100\n",
            "Epoch 45/200\n",
            "160/160 [==============================] - 0s 2ms/step - loss: 0.0143 - accuracy: 0.9975 - val_loss: 0.3446 - val_accuracy: 0.8975\n",
            "Epoch 46/200\n",
            "160/160 [==============================] - 0s 2ms/step - loss: 0.0139 - accuracy: 0.9987 - val_loss: 0.2967 - val_accuracy: 0.9250\n",
            "Epoch 47/200\n",
            "160/160 [==============================] - 0s 2ms/step - loss: 0.0151 - accuracy: 0.9969 - val_loss: 0.2997 - val_accuracy: 0.9225\n",
            "Epoch 48/200\n",
            "160/160 [==============================] - 0s 2ms/step - loss: 0.0128 - accuracy: 0.9987 - val_loss: 0.2716 - val_accuracy: 0.9250\n",
            "Epoch 49/200\n",
            "160/160 [==============================] - 0s 2ms/step - loss: 0.0090 - accuracy: 1.0000 - val_loss: 0.2966 - val_accuracy: 0.9175\n",
            "Epoch 50/200\n",
            "160/160 [==============================] - 0s 2ms/step - loss: 0.0107 - accuracy: 0.9981 - val_loss: 0.3548 - val_accuracy: 0.9100\n",
            "Epoch 51/200\n",
            "160/160 [==============================] - 0s 2ms/step - loss: 0.0092 - accuracy: 0.9994 - val_loss: 0.2814 - val_accuracy: 0.9250\n",
            "Epoch 52/200\n",
            "160/160 [==============================] - 0s 2ms/step - loss: 0.0073 - accuracy: 0.9994 - val_loss: 0.3203 - val_accuracy: 0.9175\n",
            "Epoch 53/200\n",
            "160/160 [==============================] - 0s 2ms/step - loss: 0.0075 - accuracy: 0.9994 - val_loss: 0.3505 - val_accuracy: 0.9050\n",
            "Epoch 54/200\n",
            "160/160 [==============================] - 0s 2ms/step - loss: 0.0077 - accuracy: 0.9981 - val_loss: 0.3605 - val_accuracy: 0.9150\n",
            "Epoch 55/200\n",
            "160/160 [==============================] - 0s 2ms/step - loss: 0.0084 - accuracy: 0.9987 - val_loss: 0.3578 - val_accuracy: 0.9100\n",
            "Epoch 56/200\n",
            "160/160 [==============================] - 0s 2ms/step - loss: 0.0118 - accuracy: 0.9975 - val_loss: 0.4515 - val_accuracy: 0.8825\n",
            "Epoch 57/200\n",
            "160/160 [==============================] - 0s 2ms/step - loss: 0.0315 - accuracy: 0.9875 - val_loss: 0.4085 - val_accuracy: 0.9050\n",
            "Epoch 58/200\n",
            "160/160 [==============================] - 0s 2ms/step - loss: 0.0158 - accuracy: 0.9962 - val_loss: 0.3279 - val_accuracy: 0.9175\n",
            "Epoch 59/200\n",
            "160/160 [==============================] - 0s 2ms/step - loss: 0.0078 - accuracy: 0.9994 - val_loss: 0.3265 - val_accuracy: 0.9200\n",
            "Epoch 60/200\n",
            "160/160 [==============================] - 0s 2ms/step - loss: 0.0051 - accuracy: 1.0000 - val_loss: 0.3678 - val_accuracy: 0.9050\n",
            "Epoch 61/200\n",
            "160/160 [==============================] - 0s 2ms/step - loss: 0.0049 - accuracy: 1.0000 - val_loss: 0.3417 - val_accuracy: 0.9200\n",
            "Epoch 62/200\n",
            "160/160 [==============================] - 0s 2ms/step - loss: 0.0043 - accuracy: 1.0000 - val_loss: 0.3482 - val_accuracy: 0.9150\n",
            "Epoch 63/200\n",
            "160/160 [==============================] - 0s 2ms/step - loss: 0.0034 - accuracy: 1.0000 - val_loss: 0.3486 - val_accuracy: 0.9225\n",
            "Epoch 64/200\n",
            "160/160 [==============================] - 0s 2ms/step - loss: 0.0034 - accuracy: 1.0000 - val_loss: 0.3476 - val_accuracy: 0.9250\n",
            "Epoch 65/200\n",
            "160/160 [==============================] - 0s 2ms/step - loss: 0.0032 - accuracy: 1.0000 - val_loss: 0.3603 - val_accuracy: 0.9150\n",
            "Epoch 66/200\n",
            "160/160 [==============================] - 0s 2ms/step - loss: 0.0032 - accuracy: 1.0000 - val_loss: 0.3702 - val_accuracy: 0.9175\n",
            "Epoch 67/200\n",
            "160/160 [==============================] - 0s 2ms/step - loss: 0.0096 - accuracy: 0.9975 - val_loss: 0.4414 - val_accuracy: 0.9075\n",
            "Epoch 68/200\n",
            "160/160 [==============================] - 0s 2ms/step - loss: 0.0120 - accuracy: 0.9981 - val_loss: 0.3971 - val_accuracy: 0.9175\n",
            "Epoch 69/200\n",
            "160/160 [==============================] - 0s 2ms/step - loss: 0.0100 - accuracy: 0.9981 - val_loss: 0.4000 - val_accuracy: 0.9100\n",
            "Epoch 70/200\n",
            "160/160 [==============================] - 0s 2ms/step - loss: 0.0115 - accuracy: 0.9975 - val_loss: 0.3362 - val_accuracy: 0.9100\n",
            "Epoch 71/200\n",
            "160/160 [==============================] - 0s 2ms/step - loss: 0.0448 - accuracy: 0.9894 - val_loss: 0.5034 - val_accuracy: 0.9075\n",
            "Epoch 72/200\n",
            "160/160 [==============================] - 0s 2ms/step - loss: 0.0155 - accuracy: 0.9937 - val_loss: 0.3955 - val_accuracy: 0.9075\n",
            "Epoch 73/200\n",
            "160/160 [==============================] - 0s 2ms/step - loss: 0.0041 - accuracy: 1.0000 - val_loss: 0.4009 - val_accuracy: 0.9150\n",
            "Epoch 74/200\n",
            "160/160 [==============================] - 0s 2ms/step - loss: 0.0029 - accuracy: 1.0000 - val_loss: 0.3828 - val_accuracy: 0.9150\n",
            "Epoch 75/200\n",
            "160/160 [==============================] - 0s 2ms/step - loss: 0.0024 - accuracy: 1.0000 - val_loss: 0.3883 - val_accuracy: 0.9150\n",
            "Epoch 76/200\n",
            "160/160 [==============================] - 0s 2ms/step - loss: 0.0022 - accuracy: 1.0000 - val_loss: 0.3743 - val_accuracy: 0.9150\n",
            "Epoch 77/200\n",
            "160/160 [==============================] - 0s 2ms/step - loss: 0.0021 - accuracy: 1.0000 - val_loss: 0.3990 - val_accuracy: 0.9125\n",
            "Epoch 78/200\n",
            "160/160 [==============================] - 0s 2ms/step - loss: 0.0020 - accuracy: 1.0000 - val_loss: 0.3937 - val_accuracy: 0.9125\n",
            "Epoch 79/200\n",
            "160/160 [==============================] - 0s 2ms/step - loss: 0.0019 - accuracy: 1.0000 - val_loss: 0.3946 - val_accuracy: 0.9125\n",
            "Epoch 80/200\n",
            "160/160 [==============================] - 0s 2ms/step - loss: 0.0017 - accuracy: 1.0000 - val_loss: 0.3965 - val_accuracy: 0.9150\n",
            "Epoch 81/200\n",
            "160/160 [==============================] - 0s 2ms/step - loss: 0.0016 - accuracy: 1.0000 - val_loss: 0.3996 - val_accuracy: 0.9125\n",
            "Epoch 82/200\n",
            "160/160 [==============================] - 0s 2ms/step - loss: 0.0016 - accuracy: 1.0000 - val_loss: 0.4163 - val_accuracy: 0.9100\n",
            "Epoch 83/200\n",
            "160/160 [==============================] - 0s 2ms/step - loss: 0.0015 - accuracy: 1.0000 - val_loss: 0.4164 - val_accuracy: 0.9125\n",
            "Epoch 84/200\n",
            "160/160 [==============================] - 0s 2ms/step - loss: 0.0014 - accuracy: 1.0000 - val_loss: 0.4209 - val_accuracy: 0.9100\n",
            "Epoch 85/200\n",
            "160/160 [==============================] - 0s 2ms/step - loss: 0.0014 - accuracy: 1.0000 - val_loss: 0.4064 - val_accuracy: 0.9175\n",
            "Epoch 86/200\n",
            "160/160 [==============================] - 0s 2ms/step - loss: 0.0013 - accuracy: 1.0000 - val_loss: 0.4180 - val_accuracy: 0.9125\n",
            "Epoch 87/200\n",
            "160/160 [==============================] - 0s 2ms/step - loss: 0.0012 - accuracy: 1.0000 - val_loss: 0.4222 - val_accuracy: 0.9125\n",
            "Epoch 88/200\n",
            "160/160 [==============================] - 0s 2ms/step - loss: 0.0012 - accuracy: 1.0000 - val_loss: 0.4165 - val_accuracy: 0.9125\n",
            "Epoch 89/200\n",
            "160/160 [==============================] - 0s 2ms/step - loss: 0.0012 - accuracy: 1.0000 - val_loss: 0.4462 - val_accuracy: 0.9075\n",
            "Epoch 90/200\n",
            "160/160 [==============================] - 0s 2ms/step - loss: 0.0011 - accuracy: 1.0000 - val_loss: 0.4302 - val_accuracy: 0.9125\n",
            "Epoch 91/200\n",
            "160/160 [==============================] - 0s 2ms/step - loss: 0.0010 - accuracy: 1.0000 - val_loss: 0.4474 - val_accuracy: 0.9125\n",
            "Epoch 92/200\n",
            "160/160 [==============================] - 0s 2ms/step - loss: 0.0010 - accuracy: 1.0000 - val_loss: 0.4499 - val_accuracy: 0.9125\n",
            "Epoch 93/200\n",
            "160/160 [==============================] - 0s 2ms/step - loss: 0.0010 - accuracy: 1.0000 - val_loss: 0.4532 - val_accuracy: 0.9125\n",
            "Epoch 94/200\n",
            "160/160 [==============================] - 0s 2ms/step - loss: 8.8264e-04 - accuracy: 1.0000 - val_loss: 0.4525 - val_accuracy: 0.9125\n",
            "Epoch 95/200\n",
            "160/160 [==============================] - 0s 2ms/step - loss: 8.3747e-04 - accuracy: 1.0000 - val_loss: 0.4753 - val_accuracy: 0.9075\n",
            "Epoch 96/200\n",
            "160/160 [==============================] - 0s 2ms/step - loss: 7.3975e-04 - accuracy: 1.0000 - val_loss: 0.4649 - val_accuracy: 0.9100\n",
            "Epoch 97/200\n",
            "160/160 [==============================] - 0s 2ms/step - loss: 7.8008e-04 - accuracy: 1.0000 - val_loss: 0.4787 - val_accuracy: 0.9150\n",
            "Epoch 98/200\n",
            "160/160 [==============================] - 0s 2ms/step - loss: 6.6268e-04 - accuracy: 1.0000 - val_loss: 0.4703 - val_accuracy: 0.9125\n",
            "Epoch 99/200\n",
            "160/160 [==============================] - 0s 2ms/step - loss: 6.1326e-04 - accuracy: 1.0000 - val_loss: 0.4869 - val_accuracy: 0.9075\n",
            "Epoch 100/200\n",
            "160/160 [==============================] - 0s 2ms/step - loss: 6.5147e-04 - accuracy: 1.0000 - val_loss: 0.4735 - val_accuracy: 0.9100\n",
            "Epoch 101/200\n",
            "160/160 [==============================] - 0s 2ms/step - loss: 7.6677e-04 - accuracy: 1.0000 - val_loss: 0.4926 - val_accuracy: 0.9125\n",
            "Epoch 102/200\n",
            "160/160 [==============================] - 0s 2ms/step - loss: 0.0024 - accuracy: 0.9994 - val_loss: 0.6121 - val_accuracy: 0.9025\n",
            "Epoch 103/200\n",
            "160/160 [==============================] - 0s 2ms/step - loss: 0.1203 - accuracy: 0.9725 - val_loss: 0.4175 - val_accuracy: 0.9125\n",
            "Epoch 104/200\n",
            "160/160 [==============================] - 0s 2ms/step - loss: 0.0221 - accuracy: 0.9925 - val_loss: 0.4266 - val_accuracy: 0.9150\n",
            "Epoch 105/200\n",
            "160/160 [==============================] - 0s 2ms/step - loss: 0.0038 - accuracy: 1.0000 - val_loss: 0.4451 - val_accuracy: 0.9150\n",
            "Epoch 106/200\n",
            "160/160 [==============================] - 0s 2ms/step - loss: 0.0018 - accuracy: 1.0000 - val_loss: 0.4525 - val_accuracy: 0.9125\n",
            "Epoch 107/200\n",
            "160/160 [==============================] - 0s 2ms/step - loss: 0.0011 - accuracy: 1.0000 - val_loss: 0.4403 - val_accuracy: 0.9125\n",
            "Epoch 108/200\n",
            "160/160 [==============================] - 0s 2ms/step - loss: 0.0010 - accuracy: 1.0000 - val_loss: 0.4565 - val_accuracy: 0.9125\n",
            "Epoch 109/200\n",
            "160/160 [==============================] - 0s 2ms/step - loss: 9.1486e-04 - accuracy: 1.0000 - val_loss: 0.4519 - val_accuracy: 0.9125\n",
            "Epoch 110/200\n",
            "160/160 [==============================] - 0s 2ms/step - loss: 8.3059e-04 - accuracy: 1.0000 - val_loss: 0.4541 - val_accuracy: 0.9125\n",
            "Epoch 111/200\n",
            "160/160 [==============================] - 0s 2ms/step - loss: 7.6335e-04 - accuracy: 1.0000 - val_loss: 0.4659 - val_accuracy: 0.9125\n",
            "Epoch 112/200\n",
            "160/160 [==============================] - 0s 2ms/step - loss: 7.3711e-04 - accuracy: 1.0000 - val_loss: 0.4537 - val_accuracy: 0.9125\n",
            "Epoch 113/200\n",
            "160/160 [==============================] - 0s 2ms/step - loss: 6.9777e-04 - accuracy: 1.0000 - val_loss: 0.4598 - val_accuracy: 0.9125\n",
            "Epoch 114/200\n",
            "160/160 [==============================] - 0s 2ms/step - loss: 6.6031e-04 - accuracy: 1.0000 - val_loss: 0.4597 - val_accuracy: 0.9150\n",
            "Epoch 115/200\n",
            "160/160 [==============================] - 0s 2ms/step - loss: 6.3054e-04 - accuracy: 1.0000 - val_loss: 0.4604 - val_accuracy: 0.9150\n",
            "Epoch 116/200\n",
            "160/160 [==============================] - 0s 2ms/step - loss: 5.9824e-04 - accuracy: 1.0000 - val_loss: 0.4630 - val_accuracy: 0.9125\n",
            "Epoch 117/200\n",
            "160/160 [==============================] - 0s 2ms/step - loss: 5.5897e-04 - accuracy: 1.0000 - val_loss: 0.4657 - val_accuracy: 0.9125\n",
            "Epoch 118/200\n",
            "160/160 [==============================] - 0s 2ms/step - loss: 5.3528e-04 - accuracy: 1.0000 - val_loss: 0.4667 - val_accuracy: 0.9150\n",
            "Epoch 119/200\n",
            "160/160 [==============================] - 0s 2ms/step - loss: 5.0915e-04 - accuracy: 1.0000 - val_loss: 0.4734 - val_accuracy: 0.9125\n",
            "Epoch 120/200\n",
            "160/160 [==============================] - 0s 2ms/step - loss: 4.8313e-04 - accuracy: 1.0000 - val_loss: 0.4770 - val_accuracy: 0.9125\n",
            "Epoch 121/200\n",
            "160/160 [==============================] - 0s 2ms/step - loss: 4.6918e-04 - accuracy: 1.0000 - val_loss: 0.4738 - val_accuracy: 0.9175\n",
            "Epoch 122/200\n",
            "160/160 [==============================] - 0s 2ms/step - loss: 4.3713e-04 - accuracy: 1.0000 - val_loss: 0.4680 - val_accuracy: 0.9150\n",
            "Epoch 123/200\n",
            "160/160 [==============================] - 0s 2ms/step - loss: 4.3552e-04 - accuracy: 1.0000 - val_loss: 0.4836 - val_accuracy: 0.9150\n",
            "Epoch 124/200\n",
            "160/160 [==============================] - 0s 2ms/step - loss: 4.1580e-04 - accuracy: 1.0000 - val_loss: 0.4722 - val_accuracy: 0.9175\n",
            "Epoch 125/200\n",
            "160/160 [==============================] - 0s 2ms/step - loss: 3.9409e-04 - accuracy: 1.0000 - val_loss: 0.4856 - val_accuracy: 0.9175\n",
            "Epoch 126/200\n",
            "160/160 [==============================] - 0s 2ms/step - loss: 3.7088e-04 - accuracy: 1.0000 - val_loss: 0.4814 - val_accuracy: 0.9175\n",
            "Epoch 127/200\n",
            "160/160 [==============================] - 0s 2ms/step - loss: 3.5728e-04 - accuracy: 1.0000 - val_loss: 0.4777 - val_accuracy: 0.9150\n",
            "Epoch 128/200\n",
            "160/160 [==============================] - 0s 2ms/step - loss: 3.5202e-04 - accuracy: 1.0000 - val_loss: 0.4969 - val_accuracy: 0.9150\n",
            "Epoch 129/200\n",
            "160/160 [==============================] - 0s 2ms/step - loss: 3.2726e-04 - accuracy: 1.0000 - val_loss: 0.4938 - val_accuracy: 0.9150\n",
            "Epoch 130/200\n",
            "160/160 [==============================] - 0s 2ms/step - loss: 3.0881e-04 - accuracy: 1.0000 - val_loss: 0.4959 - val_accuracy: 0.9175\n",
            "Epoch 131/200\n",
            "160/160 [==============================] - 0s 2ms/step - loss: 3.0931e-04 - accuracy: 1.0000 - val_loss: 0.4995 - val_accuracy: 0.9175\n",
            "Epoch 132/200\n",
            "160/160 [==============================] - 0s 2ms/step - loss: 3.0039e-04 - accuracy: 1.0000 - val_loss: 0.5084 - val_accuracy: 0.9150\n",
            "Epoch 133/200\n",
            "160/160 [==============================] - 0s 2ms/step - loss: 2.8249e-04 - accuracy: 1.0000 - val_loss: 0.5085 - val_accuracy: 0.9150\n",
            "Epoch 134/200\n",
            "160/160 [==============================] - 0s 2ms/step - loss: 2.6219e-04 - accuracy: 1.0000 - val_loss: 0.5201 - val_accuracy: 0.9150\n",
            "Epoch 135/200\n",
            "160/160 [==============================] - 0s 2ms/step - loss: 2.5306e-04 - accuracy: 1.0000 - val_loss: 0.5173 - val_accuracy: 0.9125\n",
            "Epoch 136/200\n",
            "160/160 [==============================] - 0s 2ms/step - loss: 2.5057e-04 - accuracy: 1.0000 - val_loss: 0.5162 - val_accuracy: 0.9150\n",
            "Epoch 137/200\n",
            "160/160 [==============================] - 0s 2ms/step - loss: 2.3683e-04 - accuracy: 1.0000 - val_loss: 0.5256 - val_accuracy: 0.9125\n",
            "Epoch 138/200\n",
            "160/160 [==============================] - 0s 2ms/step - loss: 2.1829e-04 - accuracy: 1.0000 - val_loss: 0.5130 - val_accuracy: 0.9150\n",
            "Epoch 139/200\n",
            "160/160 [==============================] - 0s 2ms/step - loss: 2.1258e-04 - accuracy: 1.0000 - val_loss: 0.5410 - val_accuracy: 0.9125\n",
            "Epoch 140/200\n",
            "160/160 [==============================] - 0s 2ms/step - loss: 2.0216e-04 - accuracy: 1.0000 - val_loss: 0.5293 - val_accuracy: 0.9125\n",
            "Epoch 141/200\n",
            "160/160 [==============================] - 0s 2ms/step - loss: 1.9077e-04 - accuracy: 1.0000 - val_loss: 0.5369 - val_accuracy: 0.9150\n",
            "Epoch 142/200\n",
            "160/160 [==============================] - 0s 2ms/step - loss: 1.8575e-04 - accuracy: 1.0000 - val_loss: 0.5476 - val_accuracy: 0.9125\n",
            "Epoch 143/200\n",
            "160/160 [==============================] - 0s 2ms/step - loss: 1.8055e-04 - accuracy: 1.0000 - val_loss: 0.5578 - val_accuracy: 0.9150\n",
            "Epoch 144/200\n",
            "160/160 [==============================] - 0s 2ms/step - loss: 2.0032e-04 - accuracy: 1.0000 - val_loss: 0.5578 - val_accuracy: 0.9125\n",
            "Epoch 145/200\n",
            "160/160 [==============================] - 0s 2ms/step - loss: 1.8802e-04 - accuracy: 1.0000 - val_loss: 0.5515 - val_accuracy: 0.9125\n",
            "Epoch 146/200\n",
            "160/160 [==============================] - 0s 2ms/step - loss: 1.4823e-04 - accuracy: 1.0000 - val_loss: 0.5779 - val_accuracy: 0.9075\n",
            "Epoch 147/200\n",
            "160/160 [==============================] - 0s 2ms/step - loss: 1.5783e-04 - accuracy: 1.0000 - val_loss: 0.5899 - val_accuracy: 0.9125\n",
            "Epoch 148/200\n",
            "160/160 [==============================] - 0s 2ms/step - loss: 1.3422e-04 - accuracy: 1.0000 - val_loss: 0.5809 - val_accuracy: 0.9125\n",
            "Epoch 149/200\n",
            "160/160 [==============================] - 0s 2ms/step - loss: 1.2292e-04 - accuracy: 1.0000 - val_loss: 0.5837 - val_accuracy: 0.9125\n",
            "Epoch 150/200\n",
            "160/160 [==============================] - 0s 3ms/step - loss: 1.2188e-04 - accuracy: 1.0000 - val_loss: 0.5781 - val_accuracy: 0.9150\n",
            "Epoch 151/200\n",
            "160/160 [==============================] - 0s 2ms/step - loss: 1.2506e-04 - accuracy: 1.0000 - val_loss: 0.5924 - val_accuracy: 0.9125\n",
            "Epoch 152/200\n",
            "160/160 [==============================] - 0s 2ms/step - loss: 0.0300 - accuracy: 0.9912 - val_loss: 1.1257 - val_accuracy: 0.8700\n",
            "Epoch 153/200\n",
            "160/160 [==============================] - 0s 2ms/step - loss: 0.0796 - accuracy: 0.9737 - val_loss: 0.6842 - val_accuracy: 0.9000\n",
            "Epoch 154/200\n",
            "160/160 [==============================] - 0s 2ms/step - loss: 0.0155 - accuracy: 0.9937 - val_loss: 0.5624 - val_accuracy: 0.9100\n",
            "Epoch 155/200\n",
            "160/160 [==============================] - 0s 3ms/step - loss: 0.0030 - accuracy: 0.9994 - val_loss: 0.5995 - val_accuracy: 0.9125\n",
            "Epoch 156/200\n",
            "160/160 [==============================] - 0s 2ms/step - loss: 8.5439e-04 - accuracy: 1.0000 - val_loss: 0.5558 - val_accuracy: 0.9175\n",
            "Epoch 157/200\n",
            "160/160 [==============================] - 0s 2ms/step - loss: 4.7503e-04 - accuracy: 1.0000 - val_loss: 0.5510 - val_accuracy: 0.9150\n",
            "Epoch 158/200\n",
            "160/160 [==============================] - 0s 2ms/step - loss: 4.0830e-04 - accuracy: 1.0000 - val_loss: 0.5454 - val_accuracy: 0.9150\n",
            "Epoch 159/200\n",
            "160/160 [==============================] - 0s 2ms/step - loss: 3.7510e-04 - accuracy: 1.0000 - val_loss: 0.5431 - val_accuracy: 0.9100\n",
            "Epoch 160/200\n",
            "160/160 [==============================] - 0s 2ms/step - loss: 3.3721e-04 - accuracy: 1.0000 - val_loss: 0.5431 - val_accuracy: 0.9150\n",
            "Epoch 161/200\n",
            "160/160 [==============================] - 0s 2ms/step - loss: 3.1815e-04 - accuracy: 1.0000 - val_loss: 0.5443 - val_accuracy: 0.9150\n",
            "Epoch 162/200\n",
            "160/160 [==============================] - 0s 2ms/step - loss: 2.9664e-04 - accuracy: 1.0000 - val_loss: 0.5420 - val_accuracy: 0.9150\n",
            "Epoch 163/200\n",
            "160/160 [==============================] - 0s 2ms/step - loss: 2.8048e-04 - accuracy: 1.0000 - val_loss: 0.5427 - val_accuracy: 0.9150\n",
            "Epoch 164/200\n",
            "160/160 [==============================] - 0s 2ms/step - loss: 2.6722e-04 - accuracy: 1.0000 - val_loss: 0.5407 - val_accuracy: 0.9150\n",
            "Epoch 165/200\n",
            "160/160 [==============================] - 0s 2ms/step - loss: 2.5213e-04 - accuracy: 1.0000 - val_loss: 0.5424 - val_accuracy: 0.9150\n",
            "Epoch 166/200\n",
            "160/160 [==============================] - 0s 2ms/step - loss: 2.4027e-04 - accuracy: 1.0000 - val_loss: 0.5417 - val_accuracy: 0.9150\n",
            "Epoch 167/200\n",
            "160/160 [==============================] - 0s 2ms/step - loss: 2.2820e-04 - accuracy: 1.0000 - val_loss: 0.5410 - val_accuracy: 0.9125\n",
            "Epoch 168/200\n",
            "160/160 [==============================] - 0s 2ms/step - loss: 2.1889e-04 - accuracy: 1.0000 - val_loss: 0.5434 - val_accuracy: 0.9150\n",
            "Epoch 169/200\n",
            "160/160 [==============================] - 0s 2ms/step - loss: 2.0887e-04 - accuracy: 1.0000 - val_loss: 0.5435 - val_accuracy: 0.9150\n",
            "Epoch 170/200\n",
            "160/160 [==============================] - 0s 2ms/step - loss: 2.0324e-04 - accuracy: 1.0000 - val_loss: 0.5471 - val_accuracy: 0.9150\n",
            "Epoch 171/200\n",
            "160/160 [==============================] - 0s 2ms/step - loss: 1.9407e-04 - accuracy: 1.0000 - val_loss: 0.5476 - val_accuracy: 0.9150\n",
            "Epoch 172/200\n",
            "160/160 [==============================] - 0s 2ms/step - loss: 1.8417e-04 - accuracy: 1.0000 - val_loss: 0.5476 - val_accuracy: 0.9150\n",
            "Epoch 173/200\n",
            "160/160 [==============================] - 0s 2ms/step - loss: 1.7817e-04 - accuracy: 1.0000 - val_loss: 0.5511 - val_accuracy: 0.9150\n",
            "Epoch 174/200\n",
            "160/160 [==============================] - 0s 3ms/step - loss: 1.6966e-04 - accuracy: 1.0000 - val_loss: 0.5548 - val_accuracy: 0.9150\n",
            "Epoch 175/200\n",
            "160/160 [==============================] - 0s 2ms/step - loss: 1.6356e-04 - accuracy: 1.0000 - val_loss: 0.5497 - val_accuracy: 0.9125\n",
            "Epoch 176/200\n",
            "160/160 [==============================] - 0s 2ms/step - loss: 1.5903e-04 - accuracy: 1.0000 - val_loss: 0.5532 - val_accuracy: 0.9125\n",
            "Epoch 177/200\n",
            "160/160 [==============================] - 0s 2ms/step - loss: 1.4961e-04 - accuracy: 1.0000 - val_loss: 0.5612 - val_accuracy: 0.9150\n",
            "Epoch 178/200\n",
            "160/160 [==============================] - 0s 2ms/step - loss: 1.4708e-04 - accuracy: 1.0000 - val_loss: 0.5641 - val_accuracy: 0.9150\n",
            "Epoch 179/200\n",
            "160/160 [==============================] - 0s 2ms/step - loss: 1.4007e-04 - accuracy: 1.0000 - val_loss: 0.5631 - val_accuracy: 0.9100\n",
            "Epoch 180/200\n",
            "160/160 [==============================] - 0s 2ms/step - loss: 1.3366e-04 - accuracy: 1.0000 - val_loss: 0.5674 - val_accuracy: 0.9125\n",
            "Epoch 181/200\n",
            "160/160 [==============================] - 0s 2ms/step - loss: 1.2822e-04 - accuracy: 1.0000 - val_loss: 0.5685 - val_accuracy: 0.9100\n",
            "Epoch 182/200\n",
            "160/160 [==============================] - 0s 2ms/step - loss: 1.2356e-04 - accuracy: 1.0000 - val_loss: 0.5705 - val_accuracy: 0.9075\n",
            "Epoch 183/200\n",
            "160/160 [==============================] - 0s 2ms/step - loss: 1.1924e-04 - accuracy: 1.0000 - val_loss: 0.5734 - val_accuracy: 0.9075\n",
            "Epoch 184/200\n",
            "160/160 [==============================] - 0s 2ms/step - loss: 1.1619e-04 - accuracy: 1.0000 - val_loss: 0.5769 - val_accuracy: 0.9100\n",
            "Epoch 185/200\n",
            "160/160 [==============================] - 0s 2ms/step - loss: 1.0991e-04 - accuracy: 1.0000 - val_loss: 0.5784 - val_accuracy: 0.9100\n",
            "Epoch 186/200\n",
            "160/160 [==============================] - 0s 2ms/step - loss: 1.0569e-04 - accuracy: 1.0000 - val_loss: 0.5807 - val_accuracy: 0.9100\n",
            "Epoch 187/200\n",
            "160/160 [==============================] - 0s 2ms/step - loss: 1.0181e-04 - accuracy: 1.0000 - val_loss: 0.5900 - val_accuracy: 0.9100\n",
            "Epoch 188/200\n",
            "160/160 [==============================] - 0s 2ms/step - loss: 9.8421e-05 - accuracy: 1.0000 - val_loss: 0.5889 - val_accuracy: 0.9075\n",
            "Epoch 189/200\n",
            "160/160 [==============================] - 0s 2ms/step - loss: 9.5716e-05 - accuracy: 1.0000 - val_loss: 0.5915 - val_accuracy: 0.9125\n",
            "Epoch 190/200\n",
            "160/160 [==============================] - 0s 2ms/step - loss: 9.0998e-05 - accuracy: 1.0000 - val_loss: 0.5966 - val_accuracy: 0.9075\n",
            "Epoch 191/200\n",
            "160/160 [==============================] - 0s 2ms/step - loss: 8.7957e-05 - accuracy: 1.0000 - val_loss: 0.6008 - val_accuracy: 0.9075\n",
            "Epoch 192/200\n",
            "160/160 [==============================] - 0s 2ms/step - loss: 8.4720e-05 - accuracy: 1.0000 - val_loss: 0.5972 - val_accuracy: 0.9075\n",
            "Epoch 193/200\n",
            "160/160 [==============================] - 0s 2ms/step - loss: 7.9505e-05 - accuracy: 1.0000 - val_loss: 0.6102 - val_accuracy: 0.9075\n",
            "Epoch 194/200\n",
            "160/160 [==============================] - 0s 2ms/step - loss: 7.7401e-05 - accuracy: 1.0000 - val_loss: 0.6071 - val_accuracy: 0.9075\n",
            "Epoch 195/200\n",
            "160/160 [==============================] - 0s 2ms/step - loss: 7.5107e-05 - accuracy: 1.0000 - val_loss: 0.6172 - val_accuracy: 0.9100\n",
            "Epoch 196/200\n",
            "160/160 [==============================] - 0s 2ms/step - loss: 7.3151e-05 - accuracy: 1.0000 - val_loss: 0.6120 - val_accuracy: 0.9075\n",
            "Epoch 197/200\n",
            "160/160 [==============================] - 0s 2ms/step - loss: 6.8627e-05 - accuracy: 1.0000 - val_loss: 0.6215 - val_accuracy: 0.9100\n",
            "Epoch 198/200\n",
            "160/160 [==============================] - 0s 2ms/step - loss: 6.6848e-05 - accuracy: 1.0000 - val_loss: 0.6178 - val_accuracy: 0.9075\n",
            "Epoch 199/200\n",
            "160/160 [==============================] - 0s 2ms/step - loss: 6.5642e-05 - accuracy: 1.0000 - val_loss: 0.6216 - val_accuracy: 0.9075\n",
            "Epoch 200/200\n",
            "160/160 [==============================] - 0s 2ms/step - loss: 6.0749e-05 - accuracy: 1.0000 - val_loss: 0.6231 - val_accuracy: 0.9075\n"
          ]
        }
      ]
    },
    {
      "cell_type": "markdown",
      "source": [
        "Adagrad"
      ],
      "metadata": {
        "id": "Fff0b2RKWl9_"
      }
    },
    {
      "cell_type": "code",
      "source": [
        "model_4= keras.Sequential()\n",
        "model_4.add(tf.keras.layers.Dense(units=17,input_shape=(20,),activation='relu'))\n",
        "model_4.add(tf.keras.layers.Dense(units=12,activation='relu'))\n",
        "model_4.add(tf.keras.layers.Dense(units=7,activation='relu'))\n",
        "model_4.add(tf.keras.layers.Dense(units=4,activation='softmax'))\n",
        "model_4.compile(loss='categorical_crossentropy',\n",
        "              optimizer=tf.keras.optimizers.Adagrad(learning_rate=1e-3),\n",
        "              metrics=['accuracy'])\n",
        "print(model_4.summary())"
      ],
      "metadata": {
        "colab": {
          "base_uri": "https://localhost:8080/"
        },
        "id": "dc5TFqYi4dc7",
        "outputId": "048a6bf2-912d-4610-b8de-ceaeb5db3184"
      },
      "execution_count": null,
      "outputs": [
        {
          "output_type": "stream",
          "name": "stdout",
          "text": [
            "Model: \"sequential_6\"\n",
            "_________________________________________________________________\n",
            " Layer (type)                Output Shape              Param #   \n",
            "=================================================================\n",
            " dense_24 (Dense)            (None, 17)                357       \n",
            "                                                                 \n",
            " dense_25 (Dense)            (None, 12)                216       \n",
            "                                                                 \n",
            " dense_26 (Dense)            (None, 7)                 91        \n",
            "                                                                 \n",
            " dense_27 (Dense)            (None, 4)                 32        \n",
            "                                                                 \n",
            "=================================================================\n",
            "Total params: 696\n",
            "Trainable params: 696\n",
            "Non-trainable params: 0\n",
            "_________________________________________________________________\n",
            "None\n"
          ]
        }
      ]
    },
    {
      "cell_type": "code",
      "source": [
        "history_4=model_4.fit(norm_train_data,Y_train,epochs=200,batch_size=10,validation_data=(norm_test_data_arr,Y_test))"
      ],
      "metadata": {
        "colab": {
          "base_uri": "https://localhost:8080/"
        },
        "id": "146OE9QQ4jim",
        "outputId": "dd8a66f0-fa32-4d18-fd4f-d3dcf44b7968"
      },
      "execution_count": null,
      "outputs": [
        {
          "output_type": "stream",
          "name": "stdout",
          "text": [
            "Epoch 1/200\n",
            "160/160 [==============================] - 1s 3ms/step - loss: 1.4347 - accuracy: 0.2188 - val_loss: 1.4066 - val_accuracy: 0.2600\n",
            "Epoch 2/200\n",
            "160/160 [==============================] - 0s 2ms/step - loss: 1.4199 - accuracy: 0.2412 - val_loss: 1.3990 - val_accuracy: 0.2750\n",
            "Epoch 3/200\n",
            "160/160 [==============================] - 0s 2ms/step - loss: 1.4114 - accuracy: 0.2537 - val_loss: 1.3938 - val_accuracy: 0.2725\n",
            "Epoch 4/200\n",
            "160/160 [==============================] - 0s 2ms/step - loss: 1.4053 - accuracy: 0.2669 - val_loss: 1.3899 - val_accuracy: 0.2800\n",
            "Epoch 5/200\n",
            "160/160 [==============================] - 0s 2ms/step - loss: 1.4006 - accuracy: 0.2725 - val_loss: 1.3868 - val_accuracy: 0.2850\n",
            "Epoch 6/200\n",
            "160/160 [==============================] - 0s 2ms/step - loss: 1.3967 - accuracy: 0.2794 - val_loss: 1.3843 - val_accuracy: 0.2950\n",
            "Epoch 7/200\n",
            "160/160 [==============================] - 0s 2ms/step - loss: 1.3934 - accuracy: 0.2844 - val_loss: 1.3822 - val_accuracy: 0.2950\n",
            "Epoch 8/200\n",
            "160/160 [==============================] - 0s 2ms/step - loss: 1.3905 - accuracy: 0.2894 - val_loss: 1.3803 - val_accuracy: 0.3050\n",
            "Epoch 9/200\n",
            "160/160 [==============================] - 0s 2ms/step - loss: 1.3879 - accuracy: 0.2944 - val_loss: 1.3786 - val_accuracy: 0.3025\n",
            "Epoch 10/200\n",
            "160/160 [==============================] - 0s 2ms/step - loss: 1.3856 - accuracy: 0.2988 - val_loss: 1.3771 - val_accuracy: 0.3050\n",
            "Epoch 11/200\n",
            "160/160 [==============================] - 0s 2ms/step - loss: 1.3834 - accuracy: 0.3025 - val_loss: 1.3757 - val_accuracy: 0.3075\n",
            "Epoch 12/200\n",
            "160/160 [==============================] - 0s 2ms/step - loss: 1.3814 - accuracy: 0.3056 - val_loss: 1.3744 - val_accuracy: 0.3075\n",
            "Epoch 13/200\n",
            "160/160 [==============================] - 0s 2ms/step - loss: 1.3796 - accuracy: 0.3106 - val_loss: 1.3732 - val_accuracy: 0.3125\n",
            "Epoch 14/200\n",
            "160/160 [==============================] - 0s 2ms/step - loss: 1.3778 - accuracy: 0.3187 - val_loss: 1.3720 - val_accuracy: 0.3200\n",
            "Epoch 15/200\n",
            "160/160 [==============================] - 0s 2ms/step - loss: 1.3761 - accuracy: 0.3206 - val_loss: 1.3708 - val_accuracy: 0.3200\n",
            "Epoch 16/200\n",
            "160/160 [==============================] - 0s 2ms/step - loss: 1.3745 - accuracy: 0.3250 - val_loss: 1.3697 - val_accuracy: 0.3200\n",
            "Epoch 17/200\n",
            "160/160 [==============================] - 0s 2ms/step - loss: 1.3730 - accuracy: 0.3275 - val_loss: 1.3687 - val_accuracy: 0.3200\n",
            "Epoch 18/200\n",
            "160/160 [==============================] - 0s 2ms/step - loss: 1.3715 - accuracy: 0.3319 - val_loss: 1.3676 - val_accuracy: 0.3225\n",
            "Epoch 19/200\n",
            "160/160 [==============================] - 0s 2ms/step - loss: 1.3701 - accuracy: 0.3319 - val_loss: 1.3666 - val_accuracy: 0.3300\n",
            "Epoch 20/200\n",
            "160/160 [==============================] - 0s 2ms/step - loss: 1.3687 - accuracy: 0.3350 - val_loss: 1.3656 - val_accuracy: 0.3325\n",
            "Epoch 21/200\n",
            "160/160 [==============================] - 0s 2ms/step - loss: 1.3673 - accuracy: 0.3381 - val_loss: 1.3646 - val_accuracy: 0.3350\n",
            "Epoch 22/200\n",
            "160/160 [==============================] - 0s 2ms/step - loss: 1.3660 - accuracy: 0.3431 - val_loss: 1.3636 - val_accuracy: 0.3375\n",
            "Epoch 23/200\n",
            "160/160 [==============================] - 0s 2ms/step - loss: 1.3647 - accuracy: 0.3487 - val_loss: 1.3627 - val_accuracy: 0.3375\n",
            "Epoch 24/200\n",
            "160/160 [==============================] - 0s 2ms/step - loss: 1.3635 - accuracy: 0.3506 - val_loss: 1.3617 - val_accuracy: 0.3375\n",
            "Epoch 25/200\n",
            "160/160 [==============================] - 0s 2ms/step - loss: 1.3622 - accuracy: 0.3556 - val_loss: 1.3608 - val_accuracy: 0.3425\n",
            "Epoch 26/200\n",
            "160/160 [==============================] - 0s 2ms/step - loss: 1.3610 - accuracy: 0.3594 - val_loss: 1.3598 - val_accuracy: 0.3475\n",
            "Epoch 27/200\n",
            "160/160 [==============================] - 0s 2ms/step - loss: 1.3598 - accuracy: 0.3600 - val_loss: 1.3589 - val_accuracy: 0.3475\n",
            "Epoch 28/200\n",
            "160/160 [==============================] - 0s 2ms/step - loss: 1.3586 - accuracy: 0.3613 - val_loss: 1.3580 - val_accuracy: 0.3525\n",
            "Epoch 29/200\n",
            "160/160 [==============================] - 0s 2ms/step - loss: 1.3574 - accuracy: 0.3644 - val_loss: 1.3570 - val_accuracy: 0.3525\n",
            "Epoch 30/200\n",
            "160/160 [==============================] - 0s 2ms/step - loss: 1.3562 - accuracy: 0.3669 - val_loss: 1.3561 - val_accuracy: 0.3550\n",
            "Epoch 31/200\n",
            "160/160 [==============================] - 0s 2ms/step - loss: 1.3550 - accuracy: 0.3694 - val_loss: 1.3551 - val_accuracy: 0.3525\n",
            "Epoch 32/200\n",
            "160/160 [==============================] - 0s 2ms/step - loss: 1.3538 - accuracy: 0.3731 - val_loss: 1.3541 - val_accuracy: 0.3525\n",
            "Epoch 33/200\n",
            "160/160 [==============================] - 0s 2ms/step - loss: 1.3526 - accuracy: 0.3738 - val_loss: 1.3531 - val_accuracy: 0.3550\n",
            "Epoch 34/200\n",
            "160/160 [==============================] - 0s 2ms/step - loss: 1.3515 - accuracy: 0.3750 - val_loss: 1.3521 - val_accuracy: 0.3550\n",
            "Epoch 35/200\n",
            "160/160 [==============================] - 0s 2ms/step - loss: 1.3503 - accuracy: 0.3769 - val_loss: 1.3511 - val_accuracy: 0.3575\n",
            "Epoch 36/200\n",
            "160/160 [==============================] - 0s 2ms/step - loss: 1.3491 - accuracy: 0.3775 - val_loss: 1.3501 - val_accuracy: 0.3625\n",
            "Epoch 37/200\n",
            "160/160 [==============================] - 0s 2ms/step - loss: 1.3479 - accuracy: 0.3781 - val_loss: 1.3491 - val_accuracy: 0.3625\n",
            "Epoch 38/200\n",
            "160/160 [==============================] - 0s 2ms/step - loss: 1.3468 - accuracy: 0.3794 - val_loss: 1.3480 - val_accuracy: 0.3650\n",
            "Epoch 39/200\n",
            "160/160 [==============================] - 0s 2ms/step - loss: 1.3456 - accuracy: 0.3819 - val_loss: 1.3470 - val_accuracy: 0.3675\n",
            "Epoch 40/200\n",
            "160/160 [==============================] - 0s 2ms/step - loss: 1.3444 - accuracy: 0.3844 - val_loss: 1.3459 - val_accuracy: 0.3700\n",
            "Epoch 41/200\n",
            "160/160 [==============================] - 0s 2ms/step - loss: 1.3432 - accuracy: 0.3875 - val_loss: 1.3449 - val_accuracy: 0.3700\n",
            "Epoch 42/200\n",
            "160/160 [==============================] - 0s 2ms/step - loss: 1.3420 - accuracy: 0.3894 - val_loss: 1.3438 - val_accuracy: 0.3775\n",
            "Epoch 43/200\n",
            "160/160 [==============================] - 0s 2ms/step - loss: 1.3407 - accuracy: 0.3925 - val_loss: 1.3427 - val_accuracy: 0.3800\n",
            "Epoch 44/200\n",
            "160/160 [==============================] - 0s 2ms/step - loss: 1.3395 - accuracy: 0.3919 - val_loss: 1.3416 - val_accuracy: 0.3825\n",
            "Epoch 45/200\n",
            "160/160 [==============================] - 0s 2ms/step - loss: 1.3383 - accuracy: 0.3944 - val_loss: 1.3405 - val_accuracy: 0.3825\n",
            "Epoch 46/200\n",
            "160/160 [==============================] - 0s 2ms/step - loss: 1.3370 - accuracy: 0.3969 - val_loss: 1.3393 - val_accuracy: 0.3825\n",
            "Epoch 47/200\n",
            "160/160 [==============================] - 0s 2ms/step - loss: 1.3358 - accuracy: 0.4000 - val_loss: 1.3382 - val_accuracy: 0.3850\n",
            "Epoch 48/200\n",
            "160/160 [==============================] - 0s 2ms/step - loss: 1.3345 - accuracy: 0.4069 - val_loss: 1.3370 - val_accuracy: 0.3850\n",
            "Epoch 49/200\n",
            "160/160 [==============================] - 0s 2ms/step - loss: 1.3332 - accuracy: 0.4075 - val_loss: 1.3358 - val_accuracy: 0.3850\n",
            "Epoch 50/200\n",
            "160/160 [==============================] - 0s 2ms/step - loss: 1.3319 - accuracy: 0.4100 - val_loss: 1.3346 - val_accuracy: 0.3900\n",
            "Epoch 51/200\n",
            "160/160 [==============================] - 0s 2ms/step - loss: 1.3306 - accuracy: 0.4131 - val_loss: 1.3334 - val_accuracy: 0.3950\n",
            "Epoch 52/200\n",
            "160/160 [==============================] - 0s 2ms/step - loss: 1.3294 - accuracy: 0.4162 - val_loss: 1.3321 - val_accuracy: 0.3950\n",
            "Epoch 53/200\n",
            "160/160 [==============================] - 0s 2ms/step - loss: 1.3280 - accuracy: 0.4162 - val_loss: 1.3309 - val_accuracy: 0.3950\n",
            "Epoch 54/200\n",
            "160/160 [==============================] - 0s 2ms/step - loss: 1.3267 - accuracy: 0.4194 - val_loss: 1.3296 - val_accuracy: 0.3950\n",
            "Epoch 55/200\n",
            "160/160 [==============================] - 0s 2ms/step - loss: 1.3254 - accuracy: 0.4200 - val_loss: 1.3284 - val_accuracy: 0.3950\n",
            "Epoch 56/200\n",
            "160/160 [==============================] - 0s 2ms/step - loss: 1.3241 - accuracy: 0.4231 - val_loss: 1.3271 - val_accuracy: 0.3950\n",
            "Epoch 57/200\n",
            "160/160 [==============================] - 0s 2ms/step - loss: 1.3227 - accuracy: 0.4250 - val_loss: 1.3258 - val_accuracy: 0.3950\n",
            "Epoch 58/200\n",
            "160/160 [==============================] - 0s 2ms/step - loss: 1.3213 - accuracy: 0.4263 - val_loss: 1.3244 - val_accuracy: 0.4000\n",
            "Epoch 59/200\n",
            "160/160 [==============================] - 0s 2ms/step - loss: 1.3199 - accuracy: 0.4281 - val_loss: 1.3231 - val_accuracy: 0.4050\n",
            "Epoch 60/200\n",
            "160/160 [==============================] - 0s 2ms/step - loss: 1.3185 - accuracy: 0.4306 - val_loss: 1.3217 - val_accuracy: 0.4050\n",
            "Epoch 61/200\n",
            "160/160 [==============================] - 0s 2ms/step - loss: 1.3171 - accuracy: 0.4306 - val_loss: 1.3203 - val_accuracy: 0.4075\n",
            "Epoch 62/200\n",
            "160/160 [==============================] - 0s 2ms/step - loss: 1.3156 - accuracy: 0.4300 - val_loss: 1.3189 - val_accuracy: 0.4100\n",
            "Epoch 63/200\n",
            "160/160 [==============================] - 0s 2ms/step - loss: 1.3142 - accuracy: 0.4300 - val_loss: 1.3175 - val_accuracy: 0.4125\n",
            "Epoch 64/200\n",
            "160/160 [==============================] - 0s 2ms/step - loss: 1.3127 - accuracy: 0.4300 - val_loss: 1.3160 - val_accuracy: 0.4150\n",
            "Epoch 65/200\n",
            "160/160 [==============================] - 0s 2ms/step - loss: 1.3112 - accuracy: 0.4338 - val_loss: 1.3145 - val_accuracy: 0.4150\n",
            "Epoch 66/200\n",
            "160/160 [==============================] - 0s 2ms/step - loss: 1.3097 - accuracy: 0.4350 - val_loss: 1.3130 - val_accuracy: 0.4125\n",
            "Epoch 67/200\n",
            "160/160 [==============================] - 0s 2ms/step - loss: 1.3081 - accuracy: 0.4369 - val_loss: 1.3114 - val_accuracy: 0.4150\n",
            "Epoch 68/200\n",
            "160/160 [==============================] - 0s 2ms/step - loss: 1.3066 - accuracy: 0.4400 - val_loss: 1.3098 - val_accuracy: 0.4200\n",
            "Epoch 69/200\n",
            "160/160 [==============================] - 0s 2ms/step - loss: 1.3050 - accuracy: 0.4381 - val_loss: 1.3081 - val_accuracy: 0.4175\n",
            "Epoch 70/200\n",
            "160/160 [==============================] - 0s 2ms/step - loss: 1.3034 - accuracy: 0.4394 - val_loss: 1.3065 - val_accuracy: 0.4225\n",
            "Epoch 71/200\n",
            "160/160 [==============================] - 0s 2ms/step - loss: 1.3018 - accuracy: 0.4406 - val_loss: 1.3048 - val_accuracy: 0.4200\n",
            "Epoch 72/200\n",
            "160/160 [==============================] - 0s 2ms/step - loss: 1.3001 - accuracy: 0.4444 - val_loss: 1.3031 - val_accuracy: 0.4250\n",
            "Epoch 73/200\n",
            "160/160 [==============================] - 0s 2ms/step - loss: 1.2985 - accuracy: 0.4469 - val_loss: 1.3013 - val_accuracy: 0.4250\n",
            "Epoch 74/200\n",
            "160/160 [==============================] - 0s 2ms/step - loss: 1.2968 - accuracy: 0.4487 - val_loss: 1.2996 - val_accuracy: 0.4300\n",
            "Epoch 75/200\n",
            "160/160 [==============================] - 0s 2ms/step - loss: 1.2951 - accuracy: 0.4494 - val_loss: 1.2978 - val_accuracy: 0.4300\n",
            "Epoch 76/200\n",
            "160/160 [==============================] - 0s 2ms/step - loss: 1.2934 - accuracy: 0.4538 - val_loss: 1.2960 - val_accuracy: 0.4325\n",
            "Epoch 77/200\n",
            "160/160 [==============================] - 0s 2ms/step - loss: 1.2916 - accuracy: 0.4531 - val_loss: 1.2942 - val_accuracy: 0.4325\n",
            "Epoch 78/200\n",
            "160/160 [==============================] - 0s 2ms/step - loss: 1.2899 - accuracy: 0.4556 - val_loss: 1.2924 - val_accuracy: 0.4325\n",
            "Epoch 79/200\n",
            "160/160 [==============================] - 0s 2ms/step - loss: 1.2882 - accuracy: 0.4556 - val_loss: 1.2906 - val_accuracy: 0.4375\n",
            "Epoch 80/200\n",
            "160/160 [==============================] - 0s 2ms/step - loss: 1.2864 - accuracy: 0.4569 - val_loss: 1.2887 - val_accuracy: 0.4400\n",
            "Epoch 81/200\n",
            "160/160 [==============================] - 0s 2ms/step - loss: 1.2846 - accuracy: 0.4588 - val_loss: 1.2868 - val_accuracy: 0.4400\n",
            "Epoch 82/200\n",
            "160/160 [==============================] - 0s 2ms/step - loss: 1.2828 - accuracy: 0.4575 - val_loss: 1.2849 - val_accuracy: 0.4425\n",
            "Epoch 83/200\n",
            "160/160 [==============================] - 0s 2ms/step - loss: 1.2810 - accuracy: 0.4588 - val_loss: 1.2830 - val_accuracy: 0.4425\n",
            "Epoch 84/200\n",
            "160/160 [==============================] - 0s 2ms/step - loss: 1.2792 - accuracy: 0.4631 - val_loss: 1.2810 - val_accuracy: 0.4450\n",
            "Epoch 85/200\n",
            "160/160 [==============================] - 0s 2ms/step - loss: 1.2774 - accuracy: 0.4631 - val_loss: 1.2791 - val_accuracy: 0.4450\n",
            "Epoch 86/200\n",
            "160/160 [==============================] - 0s 2ms/step - loss: 1.2755 - accuracy: 0.4619 - val_loss: 1.2771 - val_accuracy: 0.4475\n",
            "Epoch 87/200\n",
            "160/160 [==============================] - 0s 2ms/step - loss: 1.2736 - accuracy: 0.4638 - val_loss: 1.2751 - val_accuracy: 0.4475\n",
            "Epoch 88/200\n",
            "160/160 [==============================] - 0s 2ms/step - loss: 1.2717 - accuracy: 0.4644 - val_loss: 1.2731 - val_accuracy: 0.4500\n",
            "Epoch 89/200\n",
            "160/160 [==============================] - 0s 2ms/step - loss: 1.2698 - accuracy: 0.4663 - val_loss: 1.2711 - val_accuracy: 0.4525\n",
            "Epoch 90/200\n",
            "160/160 [==============================] - 0s 2ms/step - loss: 1.2679 - accuracy: 0.4656 - val_loss: 1.2691 - val_accuracy: 0.4550\n",
            "Epoch 91/200\n",
            "160/160 [==============================] - 0s 2ms/step - loss: 1.2659 - accuracy: 0.4656 - val_loss: 1.2670 - val_accuracy: 0.4525\n",
            "Epoch 92/200\n",
            "160/160 [==============================] - 0s 2ms/step - loss: 1.2640 - accuracy: 0.4675 - val_loss: 1.2650 - val_accuracy: 0.4550\n",
            "Epoch 93/200\n",
            "160/160 [==============================] - 0s 2ms/step - loss: 1.2620 - accuracy: 0.4675 - val_loss: 1.2629 - val_accuracy: 0.4550\n",
            "Epoch 94/200\n",
            "160/160 [==============================] - 0s 2ms/step - loss: 1.2600 - accuracy: 0.4706 - val_loss: 1.2608 - val_accuracy: 0.4575\n",
            "Epoch 95/200\n",
            "160/160 [==============================] - 0s 2ms/step - loss: 1.2580 - accuracy: 0.4719 - val_loss: 1.2587 - val_accuracy: 0.4575\n",
            "Epoch 96/200\n",
            "160/160 [==============================] - 0s 2ms/step - loss: 1.2560 - accuracy: 0.4712 - val_loss: 1.2567 - val_accuracy: 0.4575\n",
            "Epoch 97/200\n",
            "160/160 [==============================] - 0s 2ms/step - loss: 1.2540 - accuracy: 0.4712 - val_loss: 1.2546 - val_accuracy: 0.4600\n",
            "Epoch 98/200\n",
            "160/160 [==============================] - 0s 2ms/step - loss: 1.2519 - accuracy: 0.4719 - val_loss: 1.2525 - val_accuracy: 0.4625\n",
            "Epoch 99/200\n",
            "160/160 [==============================] - 0s 2ms/step - loss: 1.2499 - accuracy: 0.4731 - val_loss: 1.2505 - val_accuracy: 0.4600\n",
            "Epoch 100/200\n",
            "160/160 [==============================] - 0s 2ms/step - loss: 1.2478 - accuracy: 0.4744 - val_loss: 1.2483 - val_accuracy: 0.4600\n",
            "Epoch 101/200\n",
            "160/160 [==============================] - 0s 2ms/step - loss: 1.2457 - accuracy: 0.4756 - val_loss: 1.2462 - val_accuracy: 0.4600\n",
            "Epoch 102/200\n",
            "160/160 [==============================] - 0s 2ms/step - loss: 1.2436 - accuracy: 0.4762 - val_loss: 1.2440 - val_accuracy: 0.4650\n",
            "Epoch 103/200\n",
            "160/160 [==============================] - 0s 2ms/step - loss: 1.2415 - accuracy: 0.4756 - val_loss: 1.2418 - val_accuracy: 0.4650\n",
            "Epoch 104/200\n",
            "160/160 [==============================] - 0s 2ms/step - loss: 1.2394 - accuracy: 0.4775 - val_loss: 1.2396 - val_accuracy: 0.4700\n",
            "Epoch 105/200\n",
            "160/160 [==============================] - 0s 2ms/step - loss: 1.2372 - accuracy: 0.4769 - val_loss: 1.2374 - val_accuracy: 0.4725\n",
            "Epoch 106/200\n",
            "160/160 [==============================] - 0s 2ms/step - loss: 1.2351 - accuracy: 0.4787 - val_loss: 1.2351 - val_accuracy: 0.4750\n",
            "Epoch 107/200\n",
            "160/160 [==============================] - 0s 2ms/step - loss: 1.2329 - accuracy: 0.4794 - val_loss: 1.2329 - val_accuracy: 0.4775\n",
            "Epoch 108/200\n",
            "160/160 [==============================] - 0s 2ms/step - loss: 1.2307 - accuracy: 0.4806 - val_loss: 1.2307 - val_accuracy: 0.4775\n",
            "Epoch 109/200\n",
            "160/160 [==============================] - 0s 2ms/step - loss: 1.2285 - accuracy: 0.4825 - val_loss: 1.2284 - val_accuracy: 0.4800\n",
            "Epoch 110/200\n",
            "160/160 [==============================] - 0s 2ms/step - loss: 1.2263 - accuracy: 0.4850 - val_loss: 1.2262 - val_accuracy: 0.4800\n",
            "Epoch 111/200\n",
            "160/160 [==============================] - 0s 2ms/step - loss: 1.2241 - accuracy: 0.4856 - val_loss: 1.2239 - val_accuracy: 0.4800\n",
            "Epoch 112/200\n",
            "160/160 [==============================] - 0s 2ms/step - loss: 1.2219 - accuracy: 0.4869 - val_loss: 1.2217 - val_accuracy: 0.4825\n",
            "Epoch 113/200\n",
            "160/160 [==============================] - 0s 2ms/step - loss: 1.2196 - accuracy: 0.4869 - val_loss: 1.2194 - val_accuracy: 0.4850\n",
            "Epoch 114/200\n",
            "160/160 [==============================] - 0s 2ms/step - loss: 1.2174 - accuracy: 0.4881 - val_loss: 1.2171 - val_accuracy: 0.4850\n",
            "Epoch 115/200\n",
            "160/160 [==============================] - 0s 2ms/step - loss: 1.2151 - accuracy: 0.4869 - val_loss: 1.2149 - val_accuracy: 0.4850\n",
            "Epoch 116/200\n",
            "160/160 [==============================] - 0s 2ms/step - loss: 1.2129 - accuracy: 0.4881 - val_loss: 1.2126 - val_accuracy: 0.4875\n",
            "Epoch 117/200\n",
            "160/160 [==============================] - 0s 2ms/step - loss: 1.2106 - accuracy: 0.4888 - val_loss: 1.2103 - val_accuracy: 0.4900\n",
            "Epoch 118/200\n",
            "160/160 [==============================] - 0s 2ms/step - loss: 1.2084 - accuracy: 0.4888 - val_loss: 1.2080 - val_accuracy: 0.4900\n",
            "Epoch 119/200\n",
            "160/160 [==============================] - 0s 2ms/step - loss: 1.2061 - accuracy: 0.4875 - val_loss: 1.2057 - val_accuracy: 0.4975\n",
            "Epoch 120/200\n",
            "160/160 [==============================] - 0s 2ms/step - loss: 1.2038 - accuracy: 0.4900 - val_loss: 1.2034 - val_accuracy: 0.4925\n",
            "Epoch 121/200\n",
            "160/160 [==============================] - 0s 2ms/step - loss: 1.2015 - accuracy: 0.4900 - val_loss: 1.2011 - val_accuracy: 0.4900\n",
            "Epoch 122/200\n",
            "160/160 [==============================] - 0s 2ms/step - loss: 1.1992 - accuracy: 0.4913 - val_loss: 1.1988 - val_accuracy: 0.4900\n",
            "Epoch 123/200\n",
            "160/160 [==============================] - 0s 2ms/step - loss: 1.1969 - accuracy: 0.4919 - val_loss: 1.1964 - val_accuracy: 0.4900\n",
            "Epoch 124/200\n",
            "160/160 [==============================] - 0s 2ms/step - loss: 1.1946 - accuracy: 0.4931 - val_loss: 1.1941 - val_accuracy: 0.4900\n",
            "Epoch 125/200\n",
            "160/160 [==============================] - 0s 2ms/step - loss: 1.1923 - accuracy: 0.4944 - val_loss: 1.1918 - val_accuracy: 0.4900\n",
            "Epoch 126/200\n",
            "160/160 [==============================] - 0s 2ms/step - loss: 1.1900 - accuracy: 0.4950 - val_loss: 1.1894 - val_accuracy: 0.4925\n",
            "Epoch 127/200\n",
            "160/160 [==============================] - 0s 2ms/step - loss: 1.1877 - accuracy: 0.4963 - val_loss: 1.1871 - val_accuracy: 0.4950\n",
            "Epoch 128/200\n",
            "160/160 [==============================] - 0s 2ms/step - loss: 1.1854 - accuracy: 0.4969 - val_loss: 1.1848 - val_accuracy: 0.4975\n",
            "Epoch 129/200\n",
            "160/160 [==============================] - 0s 2ms/step - loss: 1.1830 - accuracy: 0.4981 - val_loss: 1.1825 - val_accuracy: 0.4975\n",
            "Epoch 130/200\n",
            "160/160 [==============================] - 0s 2ms/step - loss: 1.1807 - accuracy: 0.4988 - val_loss: 1.1801 - val_accuracy: 0.5000\n",
            "Epoch 131/200\n",
            "160/160 [==============================] - 0s 2ms/step - loss: 1.1783 - accuracy: 0.4988 - val_loss: 1.1777 - val_accuracy: 0.5025\n",
            "Epoch 132/200\n",
            "160/160 [==============================] - 0s 2ms/step - loss: 1.1760 - accuracy: 0.4994 - val_loss: 1.1754 - val_accuracy: 0.5050\n",
            "Epoch 133/200\n",
            "160/160 [==============================] - 0s 2ms/step - loss: 1.1736 - accuracy: 0.5013 - val_loss: 1.1730 - val_accuracy: 0.5050\n",
            "Epoch 134/200\n",
            "160/160 [==============================] - 0s 2ms/step - loss: 1.1713 - accuracy: 0.5000 - val_loss: 1.1706 - val_accuracy: 0.5075\n",
            "Epoch 135/200\n",
            "160/160 [==============================] - 0s 2ms/step - loss: 1.1689 - accuracy: 0.5006 - val_loss: 1.1683 - val_accuracy: 0.5050\n",
            "Epoch 136/200\n",
            "160/160 [==============================] - 0s 2ms/step - loss: 1.1665 - accuracy: 0.5006 - val_loss: 1.1659 - val_accuracy: 0.5050\n",
            "Epoch 137/200\n",
            "160/160 [==============================] - 0s 2ms/step - loss: 1.1641 - accuracy: 0.5000 - val_loss: 1.1636 - val_accuracy: 0.5050\n",
            "Epoch 138/200\n",
            "160/160 [==============================] - 0s 2ms/step - loss: 1.1617 - accuracy: 0.5006 - val_loss: 1.1613 - val_accuracy: 0.5050\n",
            "Epoch 139/200\n",
            "160/160 [==============================] - 0s 2ms/step - loss: 1.1593 - accuracy: 0.5031 - val_loss: 1.1589 - val_accuracy: 0.5050\n",
            "Epoch 140/200\n",
            "160/160 [==============================] - 0s 2ms/step - loss: 1.1569 - accuracy: 0.5031 - val_loss: 1.1566 - val_accuracy: 0.5050\n",
            "Epoch 141/200\n",
            "160/160 [==============================] - 0s 2ms/step - loss: 1.1544 - accuracy: 0.5044 - val_loss: 1.1542 - val_accuracy: 0.5050\n",
            "Epoch 142/200\n",
            "160/160 [==============================] - 0s 2ms/step - loss: 1.1520 - accuracy: 0.5044 - val_loss: 1.1519 - val_accuracy: 0.5050\n",
            "Epoch 143/200\n",
            "160/160 [==============================] - 0s 2ms/step - loss: 1.1495 - accuracy: 0.5069 - val_loss: 1.1495 - val_accuracy: 0.5050\n",
            "Epoch 144/200\n",
            "160/160 [==============================] - 0s 2ms/step - loss: 1.1471 - accuracy: 0.5069 - val_loss: 1.1472 - val_accuracy: 0.5050\n",
            "Epoch 145/200\n",
            "160/160 [==============================] - 0s 2ms/step - loss: 1.1447 - accuracy: 0.5075 - val_loss: 1.1449 - val_accuracy: 0.5075\n",
            "Epoch 146/200\n",
            "160/160 [==============================] - 0s 2ms/step - loss: 1.1423 - accuracy: 0.5094 - val_loss: 1.1426 - val_accuracy: 0.5075\n",
            "Epoch 147/200\n",
            "160/160 [==============================] - 0s 2ms/step - loss: 1.1399 - accuracy: 0.5100 - val_loss: 1.1403 - val_accuracy: 0.5075\n",
            "Epoch 148/200\n",
            "160/160 [==============================] - 0s 2ms/step - loss: 1.1375 - accuracy: 0.5113 - val_loss: 1.1380 - val_accuracy: 0.5050\n",
            "Epoch 149/200\n",
            "160/160 [==============================] - 0s 2ms/step - loss: 1.1351 - accuracy: 0.5125 - val_loss: 1.1357 - val_accuracy: 0.5075\n",
            "Epoch 150/200\n",
            "160/160 [==============================] - 0s 2ms/step - loss: 1.1327 - accuracy: 0.5144 - val_loss: 1.1334 - val_accuracy: 0.5075\n",
            "Epoch 151/200\n",
            "160/160 [==============================] - 0s 2ms/step - loss: 1.1303 - accuracy: 0.5144 - val_loss: 1.1311 - val_accuracy: 0.5125\n",
            "Epoch 152/200\n",
            "160/160 [==============================] - 0s 2ms/step - loss: 1.1279 - accuracy: 0.5144 - val_loss: 1.1288 - val_accuracy: 0.5125\n",
            "Epoch 153/200\n",
            "160/160 [==============================] - 0s 2ms/step - loss: 1.1255 - accuracy: 0.5156 - val_loss: 1.1265 - val_accuracy: 0.5125\n",
            "Epoch 154/200\n",
            "160/160 [==============================] - 0s 2ms/step - loss: 1.1232 - accuracy: 0.5169 - val_loss: 1.1243 - val_accuracy: 0.5150\n",
            "Epoch 155/200\n",
            "160/160 [==============================] - 0s 2ms/step - loss: 1.1208 - accuracy: 0.5194 - val_loss: 1.1220 - val_accuracy: 0.5175\n",
            "Epoch 156/200\n",
            "160/160 [==============================] - 0s 2ms/step - loss: 1.1185 - accuracy: 0.5200 - val_loss: 1.1197 - val_accuracy: 0.5175\n",
            "Epoch 157/200\n",
            "160/160 [==============================] - 0s 2ms/step - loss: 1.1161 - accuracy: 0.5219 - val_loss: 1.1175 - val_accuracy: 0.5175\n",
            "Epoch 158/200\n",
            "160/160 [==============================] - 0s 2ms/step - loss: 1.1137 - accuracy: 0.5238 - val_loss: 1.1152 - val_accuracy: 0.5200\n",
            "Epoch 159/200\n",
            "160/160 [==============================] - 0s 2ms/step - loss: 1.1114 - accuracy: 0.5256 - val_loss: 1.1130 - val_accuracy: 0.5200\n",
            "Epoch 160/200\n",
            "160/160 [==============================] - 0s 2ms/step - loss: 1.1090 - accuracy: 0.5256 - val_loss: 1.1107 - val_accuracy: 0.5225\n",
            "Epoch 161/200\n",
            "160/160 [==============================] - 0s 2ms/step - loss: 1.1066 - accuracy: 0.5288 - val_loss: 1.1084 - val_accuracy: 0.5225\n",
            "Epoch 162/200\n",
            "160/160 [==============================] - 0s 2ms/step - loss: 1.1043 - accuracy: 0.5288 - val_loss: 1.1062 - val_accuracy: 0.5225\n",
            "Epoch 163/200\n",
            "160/160 [==============================] - 0s 2ms/step - loss: 1.1019 - accuracy: 0.5275 - val_loss: 1.1039 - val_accuracy: 0.5250\n",
            "Epoch 164/200\n",
            "160/160 [==============================] - 0s 2ms/step - loss: 1.0996 - accuracy: 0.5294 - val_loss: 1.1016 - val_accuracy: 0.5250\n",
            "Epoch 165/200\n",
            "160/160 [==============================] - 0s 2ms/step - loss: 1.0972 - accuracy: 0.5300 - val_loss: 1.0993 - val_accuracy: 0.5250\n",
            "Epoch 166/200\n",
            "160/160 [==============================] - 0s 2ms/step - loss: 1.0949 - accuracy: 0.5319 - val_loss: 1.0971 - val_accuracy: 0.5275\n",
            "Epoch 167/200\n",
            "160/160 [==============================] - 0s 2ms/step - loss: 1.0926 - accuracy: 0.5337 - val_loss: 1.0948 - val_accuracy: 0.5300\n",
            "Epoch 168/200\n",
            "160/160 [==============================] - 0s 2ms/step - loss: 1.0903 - accuracy: 0.5350 - val_loss: 1.0926 - val_accuracy: 0.5300\n",
            "Epoch 169/200\n",
            "160/160 [==============================] - 0s 2ms/step - loss: 1.0879 - accuracy: 0.5369 - val_loss: 1.0903 - val_accuracy: 0.5300\n",
            "Epoch 170/200\n",
            "160/160 [==============================] - 0s 2ms/step - loss: 1.0856 - accuracy: 0.5375 - val_loss: 1.0881 - val_accuracy: 0.5300\n",
            "Epoch 171/200\n",
            "160/160 [==============================] - 0s 2ms/step - loss: 1.0833 - accuracy: 0.5381 - val_loss: 1.0859 - val_accuracy: 0.5300\n",
            "Epoch 172/200\n",
            "160/160 [==============================] - 0s 2ms/step - loss: 1.0810 - accuracy: 0.5369 - val_loss: 1.0837 - val_accuracy: 0.5300\n",
            "Epoch 173/200\n",
            "160/160 [==============================] - 0s 2ms/step - loss: 1.0788 - accuracy: 0.5394 - val_loss: 1.0815 - val_accuracy: 0.5300\n",
            "Epoch 174/200\n",
            "160/160 [==============================] - 0s 2ms/step - loss: 1.0765 - accuracy: 0.5387 - val_loss: 1.0793 - val_accuracy: 0.5300\n",
            "Epoch 175/200\n",
            "160/160 [==============================] - 0s 2ms/step - loss: 1.0742 - accuracy: 0.5394 - val_loss: 1.0771 - val_accuracy: 0.5300\n",
            "Epoch 176/200\n",
            "160/160 [==============================] - 0s 2ms/step - loss: 1.0720 - accuracy: 0.5394 - val_loss: 1.0749 - val_accuracy: 0.5300\n",
            "Epoch 177/200\n",
            "160/160 [==============================] - 0s 2ms/step - loss: 1.0697 - accuracy: 0.5406 - val_loss: 1.0728 - val_accuracy: 0.5300\n",
            "Epoch 178/200\n",
            "160/160 [==============================] - 0s 2ms/step - loss: 1.0675 - accuracy: 0.5412 - val_loss: 1.0706 - val_accuracy: 0.5300\n",
            "Epoch 179/200\n",
            "160/160 [==============================] - 0s 2ms/step - loss: 1.0653 - accuracy: 0.5412 - val_loss: 1.0685 - val_accuracy: 0.5300\n",
            "Epoch 180/200\n",
            "160/160 [==============================] - 0s 2ms/step - loss: 1.0630 - accuracy: 0.5431 - val_loss: 1.0663 - val_accuracy: 0.5300\n",
            "Epoch 181/200\n",
            "160/160 [==============================] - 0s 2ms/step - loss: 1.0608 - accuracy: 0.5431 - val_loss: 1.0642 - val_accuracy: 0.5300\n",
            "Epoch 182/200\n",
            "160/160 [==============================] - 0s 2ms/step - loss: 1.0586 - accuracy: 0.5444 - val_loss: 1.0621 - val_accuracy: 0.5350\n",
            "Epoch 183/200\n",
            "160/160 [==============================] - 0s 2ms/step - loss: 1.0564 - accuracy: 0.5456 - val_loss: 1.0599 - val_accuracy: 0.5350\n",
            "Epoch 184/200\n",
            "160/160 [==============================] - 0s 2ms/step - loss: 1.0542 - accuracy: 0.5456 - val_loss: 1.0578 - val_accuracy: 0.5350\n",
            "Epoch 185/200\n",
            "160/160 [==============================] - 0s 2ms/step - loss: 1.0520 - accuracy: 0.5456 - val_loss: 1.0557 - val_accuracy: 0.5350\n",
            "Epoch 186/200\n",
            "160/160 [==============================] - 0s 2ms/step - loss: 1.0498 - accuracy: 0.5450 - val_loss: 1.0536 - val_accuracy: 0.5350\n",
            "Epoch 187/200\n",
            "160/160 [==============================] - 0s 2ms/step - loss: 1.0476 - accuracy: 0.5456 - val_loss: 1.0515 - val_accuracy: 0.5350\n",
            "Epoch 188/200\n",
            "160/160 [==============================] - 0s 2ms/step - loss: 1.0454 - accuracy: 0.5456 - val_loss: 1.0494 - val_accuracy: 0.5350\n",
            "Epoch 189/200\n",
            "160/160 [==============================] - 0s 2ms/step - loss: 1.0432 - accuracy: 0.5456 - val_loss: 1.0473 - val_accuracy: 0.5350\n",
            "Epoch 190/200\n",
            "160/160 [==============================] - 0s 2ms/step - loss: 1.0410 - accuracy: 0.5462 - val_loss: 1.0452 - val_accuracy: 0.5350\n",
            "Epoch 191/200\n",
            "160/160 [==============================] - 0s 2ms/step - loss: 1.0388 - accuracy: 0.5475 - val_loss: 1.0432 - val_accuracy: 0.5350\n",
            "Epoch 192/200\n",
            "160/160 [==============================] - 0s 2ms/step - loss: 1.0367 - accuracy: 0.5500 - val_loss: 1.0411 - val_accuracy: 0.5350\n",
            "Epoch 193/200\n",
            "160/160 [==============================] - 0s 2ms/step - loss: 1.0345 - accuracy: 0.5512 - val_loss: 1.0391 - val_accuracy: 0.5350\n",
            "Epoch 194/200\n",
            "160/160 [==============================] - 0s 2ms/step - loss: 1.0324 - accuracy: 0.5506 - val_loss: 1.0370 - val_accuracy: 0.5350\n",
            "Epoch 195/200\n",
            "160/160 [==============================] - 0s 2ms/step - loss: 1.0302 - accuracy: 0.5519 - val_loss: 1.0350 - val_accuracy: 0.5350\n",
            "Epoch 196/200\n",
            "160/160 [==============================] - 0s 2ms/step - loss: 1.0281 - accuracy: 0.5519 - val_loss: 1.0330 - val_accuracy: 0.5400\n",
            "Epoch 197/200\n",
            "160/160 [==============================] - 0s 2ms/step - loss: 1.0259 - accuracy: 0.5531 - val_loss: 1.0309 - val_accuracy: 0.5400\n",
            "Epoch 198/200\n",
            "160/160 [==============================] - 0s 2ms/step - loss: 1.0238 - accuracy: 0.5544 - val_loss: 1.0289 - val_accuracy: 0.5400\n",
            "Epoch 199/200\n",
            "160/160 [==============================] - 0s 2ms/step - loss: 1.0217 - accuracy: 0.5544 - val_loss: 1.0269 - val_accuracy: 0.5425\n",
            "Epoch 200/200\n",
            "160/160 [==============================] - 0s 2ms/step - loss: 1.0195 - accuracy: 0.5550 - val_loss: 1.0248 - val_accuracy: 0.5425\n"
          ]
        }
      ]
    },
    {
      "cell_type": "markdown",
      "source": [
        "Plot accuracy for various optimizers"
      ],
      "metadata": {
        "id": "Q8FExXiIMFaI"
      }
    },
    {
      "cell_type": "code",
      "source": [
        "import matplotlib.pyplot as plt\n",
        "fig, axs = plt.subplots(2, 2)\n",
        "axs[0, 0].plot(history_1.history['accuracy'],label='train_accuracy')\n",
        "axs[0, 0].plot(history_1.history['val_accuracy'],label='test_accuracy')\n",
        "axs[0, 0].set_title('SGD')\n",
        "axs[0, 1].plot(history_2.history['accuracy'],label='train_accuracy')\n",
        "axs[0, 1].plot(history_2.history['val_accuracy'],label='test_accuracy')\n",
        "axs[0, 1].set_title('RMSprop')\n",
        "axs[1, 0].plot(history_3.history['accuracy'],label='train_accuracy')\n",
        "axs[1, 0].plot(history_3.history['val_accuracy'],label='test_accuracy')\n",
        "axs[1, 0].set_title('Adam')\n",
        "axs[1, 1].plot(history_4.history['accuracy'],label='train_accuracy')\n",
        "axs[1, 1].plot(history_4.history['val_accuracy'],label='test_accuracy')\n",
        "axs[1, 1].set_title('Adagrad')\n",
        "plt.legend()\n",
        "\n",
        "for ax in axs.flat:\n",
        "    ax.set(xlabel='epoch', ylabel='accuracy')\n",
        "\n",
        "# Hide x labels and tick labels for top plots and y ticks for right plots.\n",
        "for ax in axs.flat:\n",
        "    ax.label_outer()"
      ],
      "metadata": {
        "colab": {
          "base_uri": "https://localhost:8080/",
          "height": 295
        },
        "id": "ME7tPRBY4ttd",
        "outputId": "c3841541-6ea7-40dc-f128-be5995af93bf"
      },
      "execution_count": null,
      "outputs": [
        {
          "output_type": "display_data",
          "data": {
            "text/plain": [
              "<Figure size 432x288 with 4 Axes>"
            ],
            "image/png": "[encoded data removed]"
          },
          "metadata": {
            "needs_background": "light"
          }
        }
      ]
    },
    {
      "cell_type": "markdown",
      "source": [
        "Plot the loss for various optimizers"
      ],
      "metadata": {
        "id": "f3EIZyeUOEBy"
      }
    },
    {
      "cell_type": "code",
      "source": [
        "fig, axs = plt.subplots(2, 2)\n",
        "axs[0, 0].plot(history_1.history['loss'],label='train_loss')\n",
        "axs[0, 0].plot(history_1.history['val_loss'],label='test_loss')\n",
        "axs[0, 0].set_title('SGD')\n",
        "axs[0, 1].plot(history_2.history['loss'],label='train_loss')\n",
        "axs[0, 1].plot(history_2.history['val_loss'],label='test_loss')\n",
        "axs[0, 1].set_title('RMSprop')\n",
        "axs[1, 0].plot(history_3.history['loss'],label='train_loss')\n",
        "axs[1, 0].plot(history_3.history['val_loss'],label='test_loss')\n",
        "axs[1, 0].set_title('Adam')\n",
        "axs[1, 1].plot(history_4.history['loss'],label='train_loss')\n",
        "axs[1, 1].plot(history_4.history['val_loss'],label='test_loss')\n",
        "axs[1, 1].set_title('Adagrad')\n",
        "plt.legend()\n",
        "\n",
        "for ax in axs.flat:\n",
        "    ax.set(xlabel='epoch', ylabel='loss')\n",
        "\n",
        "# Hide x labels and tick labels for top plots and y ticks for right plots.\n",
        "for ax in axs.flat:\n",
        "    ax.label_outer()"
      ],
      "metadata": {
        "colab": {
          "base_uri": "https://localhost:8080/",
          "height": 295
        },
        "id": "tJoHJC8qMJKy",
        "outputId": "e7f677a8-b559-4698-c34d-3c839a522d3a"
      },
      "execution_count": null,
      "outputs": [
        {
          "output_type": "display_data",
          "data": {
            "text/plain": [
              "<Figure size 432x288 with 4 Axes>"
            ],
            "image/png": "[encoded data removed]"
          },
          "metadata": {
            "needs_background": "light"
          }
        }
      ]
    },
    {
      "cell_type": "markdown",
      "source": [
        "Varying the activation functions for \"Adam\"optimizer"
      ],
      "metadata": {
        "id": "Wj9C325TXqq5"
      }
    },
    {
      "cell_type": "code",
      "source": [
        "model_adam_tanh= keras.Sequential()\n",
        "model_adam_tanh.add(tf.keras.layers.Dense(units=17,input_shape=(20,),activation='tanh'))\n",
        "model_adam_tanh.add(tf.keras.layers.Dense(units=12,activation='tanh'))\n",
        "model_adam_tanh.add(tf.keras.layers.Dense(units=7,activation='tanh'))\n",
        "model_adam_tanh.add(tf.keras.layers.Dense(units=4,activation='softmax'))\n",
        "model_adam_tanh.compile(loss='categorical_crossentropy',\n",
        "              optimizer=tf.keras.optimizers.Adam(learning_rate=1e-3),\n",
        "              metrics=['accuracy'])\n",
        "print(model_adam_tanh.summary())"
      ],
      "metadata": {
        "colab": {
          "base_uri": "https://localhost:8080/"
        },
        "id": "9OIh2dt5XqVV",
        "outputId": "24acfa0e-9940-477e-8471-45993d9c134d"
      },
      "execution_count": null,
      "outputs": [
        {
          "output_type": "stream",
          "name": "stdout",
          "text": [
            "Model: \"sequential_9\"\n",
            "_________________________________________________________________\n",
            " Layer (type)                Output Shape              Param #   \n",
            "=================================================================\n",
            " dense_32 (Dense)            (None, 17)                357       \n",
            "                                                                 \n",
            " dense_33 (Dense)            (None, 12)                216       \n",
            "                                                                 \n",
            " dense_34 (Dense)            (None, 7)                 91        \n",
            "                                                                 \n",
            " dense_35 (Dense)            (None, 4)                 32        \n",
            "                                                                 \n",
            "=================================================================\n",
            "Total params: 696\n",
            "Trainable params: 696\n",
            "Non-trainable params: 0\n",
            "_________________________________________________________________\n",
            "None\n"
          ]
        }
      ]
    },
    {
      "cell_type": "code",
      "source": [
        "history_adam_tanh=model_adam_tanh.fit(norm_train_data,Y_train,epochs=100,batch_size=10,validation_data=(norm_test_data_arr,Y_test),callbacks=[callback])"
      ],
      "metadata": {
        "colab": {
          "base_uri": "https://localhost:8080/"
        },
        "id": "BkVRwe9fYroR",
        "outputId": "aed3831d-33a5-4723-c3b9-50ffd46ee9db"
      },
      "execution_count": null,
      "outputs": [
        {
          "output_type": "stream",
          "name": "stdout",
          "text": [
            "Epoch 1/100\n",
            "160/160 [==============================] - 1s 3ms/step - loss: 1.3781 - accuracy: 0.3063 - val_loss: 1.2885 - val_accuracy: 0.3275\n",
            "Epoch 2/100\n",
            "160/160 [==============================] - 0s 2ms/step - loss: 1.1034 - accuracy: 0.4913 - val_loss: 0.9618 - val_accuracy: 0.5775\n",
            "Epoch 3/100\n",
            "160/160 [==============================] - 0s 2ms/step - loss: 0.7949 - accuracy: 0.6581 - val_loss: 0.7489 - val_accuracy: 0.6600\n",
            "Epoch 4/100\n",
            "160/160 [==============================] - 0s 2ms/step - loss: 0.6450 - accuracy: 0.7588 - val_loss: 0.6192 - val_accuracy: 0.7825\n",
            "Epoch 5/100\n",
            "160/160 [==============================] - 0s 2ms/step - loss: 0.5369 - accuracy: 0.8469 - val_loss: 0.5102 - val_accuracy: 0.8475\n",
            "Epoch 6/100\n",
            "160/160 [==============================] - 0s 2ms/step - loss: 0.4462 - accuracy: 0.8819 - val_loss: 0.4312 - val_accuracy: 0.8800\n",
            "Epoch 7/100\n",
            "160/160 [==============================] - 0s 2ms/step - loss: 0.3727 - accuracy: 0.9106 - val_loss: 0.3639 - val_accuracy: 0.8900\n",
            "Epoch 8/100\n",
            "160/160 [==============================] - 0s 2ms/step - loss: 0.3145 - accuracy: 0.9250 - val_loss: 0.3146 - val_accuracy: 0.9000\n",
            "Epoch 9/100\n",
            "160/160 [==============================] - 0s 2ms/step - loss: 0.2701 - accuracy: 0.9356 - val_loss: 0.2775 - val_accuracy: 0.9250\n",
            "Epoch 10/100\n",
            "160/160 [==============================] - 0s 2ms/step - loss: 0.2290 - accuracy: 0.9463 - val_loss: 0.2611 - val_accuracy: 0.8975\n",
            "Epoch 11/100\n",
            "160/160 [==============================] - 0s 2ms/step - loss: 0.2006 - accuracy: 0.9469 - val_loss: 0.2278 - val_accuracy: 0.9300\n",
            "Epoch 12/100\n",
            "160/160 [==============================] - 0s 2ms/step - loss: 0.1757 - accuracy: 0.9569 - val_loss: 0.2025 - val_accuracy: 0.9275\n",
            "Epoch 13/100\n",
            "160/160 [==============================] - 0s 2ms/step - loss: 0.1537 - accuracy: 0.9650 - val_loss: 0.2059 - val_accuracy: 0.9125\n",
            "Epoch 14/100\n",
            "160/160 [==============================] - 0s 2ms/step - loss: 0.1366 - accuracy: 0.9688 - val_loss: 0.1863 - val_accuracy: 0.9300\n",
            "Epoch 15/100\n",
            "160/160 [==============================] - 0s 2ms/step - loss: 0.1246 - accuracy: 0.9744 - val_loss: 0.1832 - val_accuracy: 0.9275\n",
            "Epoch 16/100\n",
            "160/160 [==============================] - 0s 2ms/step - loss: 0.1101 - accuracy: 0.9756 - val_loss: 0.1606 - val_accuracy: 0.9350\n",
            "Epoch 17/100\n",
            "160/160 [==============================] - 0s 2ms/step - loss: 0.0986 - accuracy: 0.9744 - val_loss: 0.1855 - val_accuracy: 0.9125\n",
            "Epoch 18/100\n",
            "160/160 [==============================] - 0s 2ms/step - loss: 0.0893 - accuracy: 0.9806 - val_loss: 0.1656 - val_accuracy: 0.9325\n",
            "Epoch 19/100\n",
            "160/160 [==============================] - 0s 2ms/step - loss: 0.0820 - accuracy: 0.9825 - val_loss: 0.1710 - val_accuracy: 0.9275\n",
            "Epoch 20/100\n",
            "160/160 [==============================] - 0s 2ms/step - loss: 0.0747 - accuracy: 0.9819 - val_loss: 0.1676 - val_accuracy: 0.9175\n",
            "Epoch 21/100\n",
            "160/160 [==============================] - 0s 2ms/step - loss: 0.0655 - accuracy: 0.9881 - val_loss: 0.1618 - val_accuracy: 0.9250\n",
            "Epoch 22/100\n",
            "160/160 [==============================] - 0s 2ms/step - loss: 0.0558 - accuracy: 0.9900 - val_loss: 0.1825 - val_accuracy: 0.9300\n",
            "Epoch 23/100\n",
            "160/160 [==============================] - 0s 2ms/step - loss: 0.0563 - accuracy: 0.9869 - val_loss: 0.1569 - val_accuracy: 0.9350\n",
            "Epoch 24/100\n",
            "160/160 [==============================] - 0s 2ms/step - loss: 0.0501 - accuracy: 0.9906 - val_loss: 0.1697 - val_accuracy: 0.9350\n",
            "Epoch 25/100\n",
            "160/160 [==============================] - 0s 2ms/step - loss: 0.0451 - accuracy: 0.9919 - val_loss: 0.1833 - val_accuracy: 0.9275\n",
            "Epoch 26/100\n",
            "160/160 [==============================] - 0s 2ms/step - loss: 0.0407 - accuracy: 0.9925 - val_loss: 0.1701 - val_accuracy: 0.9300\n",
            "Epoch 27/100\n",
            "160/160 [==============================] - 0s 2ms/step - loss: 0.0368 - accuracy: 0.9944 - val_loss: 0.1647 - val_accuracy: 0.9325\n",
            "Epoch 28/100\n",
            "160/160 [==============================] - 0s 2ms/step - loss: 0.0327 - accuracy: 0.9956 - val_loss: 0.1790 - val_accuracy: 0.9300\n",
            "Epoch 29/100\n",
            "160/160 [==============================] - 0s 2ms/step - loss: 0.0315 - accuracy: 0.9969 - val_loss: 0.1557 - val_accuracy: 0.9350\n",
            "Epoch 30/100\n",
            "160/160 [==============================] - 0s 2ms/step - loss: 0.0290 - accuracy: 0.9944 - val_loss: 0.1823 - val_accuracy: 0.9300\n",
            "Epoch 31/100\n",
            "160/160 [==============================] - 0s 2ms/step - loss: 0.0252 - accuracy: 0.9962 - val_loss: 0.1808 - val_accuracy: 0.9325\n"
          ]
        }
      ]
    },
    {
      "cell_type": "code",
      "source": [
        "model_adam_elu= keras.Sequential()\n",
        "model_adam_elu.add(tf.keras.layers.Dense(units=17,input_shape=(20,),activation='elu'))\n",
        "model_adam_elu.add(tf.keras.layers.Dense(units=12,activation='elu'))\n",
        "model_adam_elu.add(tf.keras.layers.Dense(units=7,activation='elu'))\n",
        "model_adam_elu.add(tf.keras.layers.Dense(units=4,activation='softmax'))\n",
        "model_adam_elu.compile(loss='categorical_crossentropy',\n",
        "              optimizer=tf.keras.optimizers.Adam(learning_rate=1e-3),\n",
        "              metrics=['accuracy'])\n",
        "print(model_adam_elu.summary())"
      ],
      "metadata": {
        "colab": {
          "base_uri": "https://localhost:8080/"
        },
        "id": "GWQ4UmgNZg-c",
        "outputId": "b72dd33f-6428-4752-c093-6e69a4ebc09f"
      },
      "execution_count": null,
      "outputs": [
        {
          "output_type": "stream",
          "name": "stdout",
          "text": [
            "Model: \"sequential_10\"\n",
            "_________________________________________________________________\n",
            " Layer (type)                Output Shape              Param #   \n",
            "=================================================================\n",
            " dense_36 (Dense)            (None, 17)                357       \n",
            "                                                                 \n",
            " dense_37 (Dense)            (None, 12)                216       \n",
            "                                                                 \n",
            " dense_38 (Dense)            (None, 7)                 91        \n",
            "                                                                 \n",
            " dense_39 (Dense)            (None, 4)                 32        \n",
            "                                                                 \n",
            "=================================================================\n",
            "Total params: 696\n",
            "Trainable params: 696\n",
            "Non-trainable params: 0\n",
            "_________________________________________________________________\n",
            "None\n"
          ]
        }
      ]
    },
    {
      "cell_type": "code",
      "source": [
        "history_adam_elu=model_adam_elu.fit(norm_train_data,Y_train,epochs=100,batch_size=10,validation_data=(norm_test_data_arr,Y_test),callbacks=[callback])"
      ],
      "metadata": {
        "colab": {
          "base_uri": "https://localhost:8080/"
        },
        "id": "k1l1bj8KaKfs",
        "outputId": "50571a0e-7b1a-49fa-fb16-f8c532d06c0e"
      },
      "execution_count": null,
      "outputs": [
        {
          "output_type": "stream",
          "name": "stdout",
          "text": [
            "Epoch 1/100\n",
            "160/160 [==============================] - 1s 5ms/step - loss: 0.0014 - accuracy: 1.0000 - val_loss: 0.2212 - val_accuracy: 0.9425\n",
            "Epoch 2/100\n",
            "160/160 [==============================] - 1s 4ms/step - loss: 0.0017 - accuracy: 1.0000 - val_loss: 0.2323 - val_accuracy: 0.9350\n",
            "Epoch 3/100\n",
            "160/160 [==============================] - 1s 8ms/step - loss: 0.0014 - accuracy: 1.0000 - val_loss: 0.2294 - val_accuracy: 0.9400\n",
            "Epoch 4/100\n",
            "160/160 [==============================] - 1s 6ms/step - loss: 0.0017 - accuracy: 1.0000 - val_loss: 0.2291 - val_accuracy: 0.9425\n",
            "Epoch 5/100\n",
            "160/160 [==============================] - 0s 2ms/step - loss: 0.0022 - accuracy: 1.0000 - val_loss: 0.2291 - val_accuracy: 0.9375\n",
            "Epoch 6/100\n",
            "160/160 [==============================] - 0s 2ms/step - loss: 0.0031 - accuracy: 1.0000 - val_loss: 0.2530 - val_accuracy: 0.9450\n",
            "Epoch 7/100\n",
            "160/160 [==============================] - 0s 2ms/step - loss: 0.0088 - accuracy: 0.9981 - val_loss: 0.2227 - val_accuracy: 0.9350\n",
            "Epoch 8/100\n",
            "160/160 [==============================] - 0s 2ms/step - loss: 0.0582 - accuracy: 0.9781 - val_loss: 0.3125 - val_accuracy: 0.9375\n",
            "Epoch 9/100\n",
            "160/160 [==============================] - 0s 2ms/step - loss: 0.0249 - accuracy: 0.9900 - val_loss: 0.2219 - val_accuracy: 0.9350\n",
            "Epoch 10/100\n",
            "160/160 [==============================] - 0s 2ms/step - loss: 0.0061 - accuracy: 0.9994 - val_loss: 0.2774 - val_accuracy: 0.9325\n",
            "Epoch 11/100\n",
            "160/160 [==============================] - 0s 2ms/step - loss: 0.0017 - accuracy: 1.0000 - val_loss: 0.2522 - val_accuracy: 0.9350\n",
            "Epoch 12/100\n",
            "160/160 [==============================] - 0s 2ms/step - loss: 0.0012 - accuracy: 1.0000 - val_loss: 0.2510 - val_accuracy: 0.9350\n",
            "Epoch 13/100\n",
            "160/160 [==============================] - 0s 2ms/step - loss: 0.0011 - accuracy: 1.0000 - val_loss: 0.2513 - val_accuracy: 0.9375\n",
            "Epoch 14/100\n",
            "160/160 [==============================] - 0s 2ms/step - loss: 0.0011 - accuracy: 1.0000 - val_loss: 0.2439 - val_accuracy: 0.9400\n",
            "Epoch 15/100\n",
            "160/160 [==============================] - 0s 2ms/step - loss: 9.7691e-04 - accuracy: 1.0000 - val_loss: 0.2390 - val_accuracy: 0.9400\n",
            "Epoch 16/100\n",
            "160/160 [==============================] - 0s 2ms/step - loss: 9.5634e-04 - accuracy: 1.0000 - val_loss: 0.2434 - val_accuracy: 0.9375\n",
            "Epoch 17/100\n",
            "160/160 [==============================] - 0s 2ms/step - loss: 9.4254e-04 - accuracy: 1.0000 - val_loss: 0.2432 - val_accuracy: 0.9375\n",
            "Epoch 18/100\n",
            "160/160 [==============================] - 0s 2ms/step - loss: 0.0010 - accuracy: 1.0000 - val_loss: 0.2465 - val_accuracy: 0.9400\n",
            "Epoch 19/100\n",
            "160/160 [==============================] - 0s 2ms/step - loss: 8.7796e-04 - accuracy: 1.0000 - val_loss: 0.2490 - val_accuracy: 0.9375\n",
            "Epoch 20/100\n",
            "160/160 [==============================] - 0s 2ms/step - loss: 8.2736e-04 - accuracy: 1.0000 - val_loss: 0.2419 - val_accuracy: 0.9400\n",
            "Epoch 21/100\n",
            "160/160 [==============================] - 0s 2ms/step - loss: 7.8201e-04 - accuracy: 1.0000 - val_loss: 0.2538 - val_accuracy: 0.9350\n"
          ]
        }
      ]
    },
    {
      "cell_type": "code",
      "source": [
        "model_adam_softplus= keras.Sequential()\n",
        "model_adam_softplus.add(tf.keras.layers.Dense(units=17,input_shape=(20,),activation='softplus'))\n",
        "model_adam_softplus.add(tf.keras.layers.Dense(units=12,activation='softplus'))\n",
        "model_adam_softplus.add(tf.keras.layers.Dense(units=7,activation='softplus'))\n",
        "model_adam_softplus.add(tf.keras.layers.Dense(units=4,activation='softmax'))\n",
        "model_adam_softplus.compile(loss='categorical_crossentropy',\n",
        "              optimizer=tf.keras.optimizers.Adam(learning_rate=1e-3),\n",
        "              metrics=['accuracy'])\n",
        "print(model_adam_softplus.summary())"
      ],
      "metadata": {
        "colab": {
          "base_uri": "https://localhost:8080/"
        },
        "id": "iXsm06-YFbvw",
        "outputId": "46d82428-8993-4739-dc5e-47928f8637bf"
      },
      "execution_count": null,
      "outputs": [
        {
          "output_type": "stream",
          "name": "stdout",
          "text": [
            "Model: \"sequential_11\"\n",
            "_________________________________________________________________\n",
            " Layer (type)                Output Shape              Param #   \n",
            "=================================================================\n",
            " dense_40 (Dense)            (None, 17)                357       \n",
            "                                                                 \n",
            " dense_41 (Dense)            (None, 12)                216       \n",
            "                                                                 \n",
            " dense_42 (Dense)            (None, 7)                 91        \n",
            "                                                                 \n",
            " dense_43 (Dense)            (None, 4)                 32        \n",
            "                                                                 \n",
            "=================================================================\n",
            "Total params: 696\n",
            "Trainable params: 696\n",
            "Non-trainable params: 0\n",
            "_________________________________________________________________\n",
            "None\n"
          ]
        }
      ]
    },
    {
      "cell_type": "code",
      "source": [
        "history_adam_softplus=model_adam_softplus.fit(norm_train_data,Y_train,epochs=100,batch_size=10,validation_data=(norm_test_data_arr,Y_test),callbacks=[callback])"
      ],
      "metadata": {
        "colab": {
          "base_uri": "https://localhost:8080/"
        },
        "id": "HCRyQRHnGT_J",
        "outputId": "8da78f04-8a26-449a-a914-84e21dd66801"
      },
      "execution_count": null,
      "outputs": [
        {
          "output_type": "stream",
          "name": "stdout",
          "text": [
            "Epoch 1/100\n",
            "160/160 [==============================] - 0s 2ms/step - loss: 0.0083 - accuracy: 0.9994 - val_loss: 0.1806 - val_accuracy: 0.9600\n",
            "Epoch 2/100\n",
            "160/160 [==============================] - 0s 2ms/step - loss: 0.0097 - accuracy: 0.9975 - val_loss: 0.1787 - val_accuracy: 0.9575\n",
            "Epoch 3/100\n",
            "160/160 [==============================] - 0s 2ms/step - loss: 0.0089 - accuracy: 0.9987 - val_loss: 0.1849 - val_accuracy: 0.9575\n",
            "Epoch 4/100\n",
            "160/160 [==============================] - 0s 2ms/step - loss: 0.0165 - accuracy: 0.9944 - val_loss: 0.1847 - val_accuracy: 0.9500\n",
            "Epoch 5/100\n",
            "160/160 [==============================] - 0s 2ms/step - loss: 0.0134 - accuracy: 0.9969 - val_loss: 0.2445 - val_accuracy: 0.9425\n",
            "Epoch 6/100\n",
            "160/160 [==============================] - 0s 2ms/step - loss: 0.0136 - accuracy: 0.9944 - val_loss: 0.2156 - val_accuracy: 0.9500\n",
            "Epoch 7/100\n",
            "160/160 [==============================] - 0s 2ms/step - loss: 0.0095 - accuracy: 0.9987 - val_loss: 0.2295 - val_accuracy: 0.9525\n",
            "Epoch 8/100\n",
            "160/160 [==============================] - 0s 2ms/step - loss: 0.0097 - accuracy: 0.9969 - val_loss: 0.2116 - val_accuracy: 0.9525\n",
            "Epoch 9/100\n",
            "160/160 [==============================] - 0s 2ms/step - loss: 0.0104 - accuracy: 0.9981 - val_loss: 0.2149 - val_accuracy: 0.9550\n",
            "Epoch 10/100\n",
            "160/160 [==============================] - 0s 2ms/step - loss: 0.0092 - accuracy: 0.9981 - val_loss: 0.1902 - val_accuracy: 0.9550\n",
            "Epoch 11/100\n",
            "160/160 [==============================] - 0s 2ms/step - loss: 0.0073 - accuracy: 0.9981 - val_loss: 0.2144 - val_accuracy: 0.9475\n",
            "Epoch 12/100\n",
            "160/160 [==============================] - 0s 2ms/step - loss: 0.0102 - accuracy: 0.9981 - val_loss: 0.2311 - val_accuracy: 0.9525\n",
            "Epoch 13/100\n",
            "160/160 [==============================] - 0s 2ms/step - loss: 0.0078 - accuracy: 0.9987 - val_loss: 0.2244 - val_accuracy: 0.9525\n",
            "Epoch 14/100\n",
            "160/160 [==============================] - 0s 2ms/step - loss: 0.0153 - accuracy: 0.9950 - val_loss: 0.2090 - val_accuracy: 0.9475\n",
            "Epoch 15/100\n",
            "160/160 [==============================] - 0s 2ms/step - loss: 0.0282 - accuracy: 0.9869 - val_loss: 0.2369 - val_accuracy: 0.9500\n",
            "Epoch 16/100\n",
            "160/160 [==============================] - 0s 2ms/step - loss: 0.0058 - accuracy: 0.9994 - val_loss: 0.2247 - val_accuracy: 0.9525\n"
          ]
        }
      ]
    },
    {
      "cell_type": "code",
      "source": [
        "model_adam_sigmoid= keras.Sequential()\n",
        "model_adam_sigmoid.add(tf.keras.layers.Dense(units=17,input_shape=(20,),activation='sigmoid'))\n",
        "model_adam_sigmoid.add(tf.keras.layers.Dense(units=12,activation='sigmoid'))\n",
        "model_adam_sigmoid.add(tf.keras.layers.Dense(units=7,activation='sigmoid'))\n",
        "model_adam_sigmoid.add(tf.keras.layers.Dense(units=4,activation='softmax'))\n",
        "model_adam_sigmoid.compile(loss='categorical_crossentropy',\n",
        "              optimizer=tf.keras.optimizers.Adam(learning_rate=1e-3),\n",
        "              metrics=['accuracy'])\n",
        "print(model_adam_sigmoid.summary())"
      ],
      "metadata": {
        "colab": {
          "base_uri": "https://localhost:8080/"
        },
        "id": "X4k4R3nAIbbR",
        "outputId": "924d6ecc-7079-4c1f-d1bc-be8203226548"
      },
      "execution_count": null,
      "outputs": [
        {
          "output_type": "stream",
          "name": "stdout",
          "text": [
            "Model: \"sequential_12\"\n",
            "_________________________________________________________________\n",
            " Layer (type)                Output Shape              Param #   \n",
            "=================================================================\n",
            " dense_44 (Dense)            (None, 17)                357       \n",
            "                                                                 \n",
            " dense_45 (Dense)            (None, 12)                216       \n",
            "                                                                 \n",
            " dense_46 (Dense)            (None, 7)                 91        \n",
            "                                                                 \n",
            " dense_47 (Dense)            (None, 4)                 32        \n",
            "                                                                 \n",
            "=================================================================\n",
            "Total params: 696\n",
            "Trainable params: 696\n",
            "Non-trainable params: 0\n",
            "_________________________________________________________________\n",
            "None\n"
          ]
        }
      ]
    },
    {
      "cell_type": "code",
      "source": [
        "history_adam_sigmoid=model_adam_sigmoid.fit(norm_train_data,Y_train,epochs=100,batch_size=10,validation_data=(norm_test_data_arr,Y_test),callbacks=[callback])"
      ],
      "metadata": {
        "colab": {
          "base_uri": "https://localhost:8080/"
        },
        "id": "_Dp229yqIphY",
        "outputId": "8ca1a835-6058-4df8-bc31-99fb013e79c0"
      },
      "execution_count": null,
      "outputs": [
        {
          "output_type": "stream",
          "name": "stdout",
          "text": [
            "Epoch 1/100\n",
            "160/160 [==============================] - 2s 6ms/step - loss: 1.4654 - accuracy: 0.2406 - val_loss: 1.3983 - val_accuracy: 0.2275\n",
            "Epoch 2/100\n",
            "160/160 [==============================] - 0s 2ms/step - loss: 1.3915 - accuracy: 0.2556 - val_loss: 1.3860 - val_accuracy: 0.2275\n",
            "Epoch 3/100\n",
            "160/160 [==============================] - 0s 2ms/step - loss: 1.3800 - accuracy: 0.2556 - val_loss: 1.3805 - val_accuracy: 0.2275\n",
            "Epoch 4/100\n",
            "160/160 [==============================] - 0s 2ms/step - loss: 1.3707 - accuracy: 0.1806 - val_loss: 1.3678 - val_accuracy: 0.2200\n",
            "Epoch 5/100\n",
            "160/160 [==============================] - 0s 2ms/step - loss: 1.3457 - accuracy: 0.3137 - val_loss: 1.3313 - val_accuracy: 0.2600\n",
            "Epoch 6/100\n",
            "160/160 [==============================] - 0s 2ms/step - loss: 1.2774 - accuracy: 0.4087 - val_loss: 1.2329 - val_accuracy: 0.3850\n",
            "Epoch 7/100\n",
            "160/160 [==============================] - 0s 2ms/step - loss: 1.1367 - accuracy: 0.5094 - val_loss: 1.0690 - val_accuracy: 0.4800\n",
            "Epoch 8/100\n",
            "160/160 [==============================] - 0s 2ms/step - loss: 0.9753 - accuracy: 0.5856 - val_loss: 0.9332 - val_accuracy: 0.5525\n",
            "Epoch 9/100\n",
            "160/160 [==============================] - 0s 2ms/step - loss: 0.8642 - accuracy: 0.6175 - val_loss: 0.8444 - val_accuracy: 0.6175\n",
            "Epoch 10/100\n",
            "160/160 [==============================] - 0s 2ms/step - loss: 0.7912 - accuracy: 0.7131 - val_loss: 0.7761 - val_accuracy: 0.6700\n",
            "Epoch 11/100\n",
            "160/160 [==============================] - 0s 2ms/step - loss: 0.7338 - accuracy: 0.7400 - val_loss: 0.7190 - val_accuracy: 0.7375\n",
            "Epoch 12/100\n",
            "160/160 [==============================] - 0s 2ms/step - loss: 0.6834 - accuracy: 0.7950 - val_loss: 0.6715 - val_accuracy: 0.8250\n",
            "Epoch 13/100\n",
            "160/160 [==============================] - 0s 2ms/step - loss: 0.6385 - accuracy: 0.8450 - val_loss: 0.6216 - val_accuracy: 0.8275\n",
            "Epoch 14/100\n",
            "160/160 [==============================] - 0s 2ms/step - loss: 0.5955 - accuracy: 0.8562 - val_loss: 0.5848 - val_accuracy: 0.8225\n",
            "Epoch 15/100\n",
            "160/160 [==============================] - 0s 2ms/step - loss: 0.5553 - accuracy: 0.8694 - val_loss: 0.5412 - val_accuracy: 0.8825\n",
            "Epoch 16/100\n",
            "160/160 [==============================] - 0s 2ms/step - loss: 0.5164 - accuracy: 0.8850 - val_loss: 0.5000 - val_accuracy: 0.9100\n",
            "Epoch 17/100\n",
            "160/160 [==============================] - 0s 2ms/step - loss: 0.4804 - accuracy: 0.9056 - val_loss: 0.4655 - val_accuracy: 0.9050\n",
            "Epoch 18/100\n",
            "160/160 [==============================] - 0s 2ms/step - loss: 0.4464 - accuracy: 0.9162 - val_loss: 0.4351 - val_accuracy: 0.9150\n",
            "Epoch 19/100\n",
            "160/160 [==============================] - 0s 2ms/step - loss: 0.4135 - accuracy: 0.9262 - val_loss: 0.4010 - val_accuracy: 0.9125\n",
            "Epoch 20/100\n",
            "160/160 [==============================] - 0s 2ms/step - loss: 0.3823 - accuracy: 0.9269 - val_loss: 0.3728 - val_accuracy: 0.9525\n",
            "Epoch 21/100\n",
            "160/160 [==============================] - 0s 2ms/step - loss: 0.3534 - accuracy: 0.9475 - val_loss: 0.3461 - val_accuracy: 0.9475\n",
            "Epoch 22/100\n",
            "160/160 [==============================] - 0s 2ms/step - loss: 0.3266 - accuracy: 0.9494 - val_loss: 0.3164 - val_accuracy: 0.9625\n",
            "Epoch 23/100\n",
            "160/160 [==============================] - 0s 2ms/step - loss: 0.3021 - accuracy: 0.9556 - val_loss: 0.2948 - val_accuracy: 0.9450\n",
            "Epoch 24/100\n",
            "160/160 [==============================] - 0s 2ms/step - loss: 0.2783 - accuracy: 0.9663 - val_loss: 0.2743 - val_accuracy: 0.9500\n",
            "Epoch 25/100\n",
            "160/160 [==============================] - 0s 2ms/step - loss: 0.2584 - accuracy: 0.9656 - val_loss: 0.2519 - val_accuracy: 0.9650\n",
            "Epoch 26/100\n",
            "160/160 [==============================] - 0s 2ms/step - loss: 0.2398 - accuracy: 0.9669 - val_loss: 0.2335 - val_accuracy: 0.9675\n",
            "Epoch 27/100\n",
            "160/160 [==============================] - 0s 2ms/step - loss: 0.2220 - accuracy: 0.9694 - val_loss: 0.2259 - val_accuracy: 0.9625\n",
            "Epoch 28/100\n",
            "160/160 [==============================] - 0s 2ms/step - loss: 0.2057 - accuracy: 0.9712 - val_loss: 0.2111 - val_accuracy: 0.9575\n",
            "Epoch 29/100\n",
            "160/160 [==============================] - 0s 2ms/step - loss: 0.1918 - accuracy: 0.9762 - val_loss: 0.1989 - val_accuracy: 0.9675\n",
            "Epoch 30/100\n",
            "160/160 [==============================] - 0s 2ms/step - loss: 0.1795 - accuracy: 0.9737 - val_loss: 0.1821 - val_accuracy: 0.9650\n",
            "Epoch 31/100\n",
            "160/160 [==============================] - 0s 2ms/step - loss: 0.1667 - accuracy: 0.9769 - val_loss: 0.1718 - val_accuracy: 0.9675\n",
            "Epoch 32/100\n",
            "160/160 [==============================] - 0s 2ms/step - loss: 0.1581 - accuracy: 0.9750 - val_loss: 0.1570 - val_accuracy: 0.9750\n",
            "Epoch 33/100\n",
            "160/160 [==============================] - 0s 2ms/step - loss: 0.1481 - accuracy: 0.9762 - val_loss: 0.1517 - val_accuracy: 0.9650\n",
            "Epoch 34/100\n",
            "160/160 [==============================] - 0s 2ms/step - loss: 0.1393 - accuracy: 0.9812 - val_loss: 0.1481 - val_accuracy: 0.9625\n",
            "Epoch 35/100\n",
            "160/160 [==============================] - 0s 2ms/step - loss: 0.1315 - accuracy: 0.9806 - val_loss: 0.1323 - val_accuracy: 0.9725\n",
            "Epoch 36/100\n",
            "160/160 [==============================] - 0s 2ms/step - loss: 0.1252 - accuracy: 0.9794 - val_loss: 0.1272 - val_accuracy: 0.9700\n",
            "Epoch 37/100\n",
            "160/160 [==============================] - 0s 2ms/step - loss: 0.1187 - accuracy: 0.9837 - val_loss: 0.1243 - val_accuracy: 0.9675\n",
            "Epoch 38/100\n",
            "160/160 [==============================] - 0s 2ms/step - loss: 0.1106 - accuracy: 0.9844 - val_loss: 0.1352 - val_accuracy: 0.9575\n",
            "Epoch 39/100\n",
            "160/160 [==============================] - 0s 2ms/step - loss: 0.1066 - accuracy: 0.9825 - val_loss: 0.1202 - val_accuracy: 0.9675\n",
            "Epoch 40/100\n",
            "160/160 [==============================] - 0s 2ms/step - loss: 0.1001 - accuracy: 0.9831 - val_loss: 0.1138 - val_accuracy: 0.9700\n",
            "Epoch 41/100\n",
            "160/160 [==============================] - 0s 2ms/step - loss: 0.0973 - accuracy: 0.9862 - val_loss: 0.1112 - val_accuracy: 0.9675\n",
            "Epoch 42/100\n",
            "160/160 [==============================] - 0s 2ms/step - loss: 0.0922 - accuracy: 0.9844 - val_loss: 0.1114 - val_accuracy: 0.9675\n",
            "Epoch 43/100\n",
            "160/160 [==============================] - 0s 2ms/step - loss: 0.0886 - accuracy: 0.9875 - val_loss: 0.1148 - val_accuracy: 0.9575\n",
            "Epoch 44/100\n",
            "160/160 [==============================] - 0s 2ms/step - loss: 0.0838 - accuracy: 0.9831 - val_loss: 0.1045 - val_accuracy: 0.9625\n",
            "Epoch 45/100\n",
            "160/160 [==============================] - 0s 2ms/step - loss: 0.0807 - accuracy: 0.9869 - val_loss: 0.1069 - val_accuracy: 0.9650\n",
            "Epoch 46/100\n",
            "160/160 [==============================] - 0s 2ms/step - loss: 0.0770 - accuracy: 0.9862 - val_loss: 0.0950 - val_accuracy: 0.9700\n",
            "Epoch 47/100\n",
            "160/160 [==============================] - 0s 2ms/step - loss: 0.0746 - accuracy: 0.9875 - val_loss: 0.0902 - val_accuracy: 0.9675\n"
          ]
        }
      ]
    },
    {
      "cell_type": "code",
      "source": [
        "model_adam_softsign= keras.Sequential()\n",
        "model_adam_softsign.add(tf.keras.layers.Dense(units=17,input_shape=(20,),activation='softsign'))\n",
        "model_adam_softsign.add(tf.keras.layers.Dense(units=12,activation='softsign'))\n",
        "model_adam_softsign.add(tf.keras.layers.Dense(units=7,activation='softsign'))\n",
        "model_adam_softsign.add(tf.keras.layers.Dense(units=4,activation='softmax'))\n",
        "model_adam_softsign.compile(loss='categorical_crossentropy',\n",
        "              optimizer=tf.keras.optimizers.Adam(learning_rate=1e-3),\n",
        "              metrics=['accuracy'])\n",
        "print(model_adam_softsign.summary())"
      ],
      "metadata": {
        "colab": {
          "base_uri": "https://localhost:8080/"
        },
        "id": "qGgGTonwJC2k",
        "outputId": "922a0027-21de-4dd5-f896-9cefd2a424d2"
      },
      "execution_count": null,
      "outputs": [
        {
          "output_type": "stream",
          "name": "stdout",
          "text": [
            "Model: \"sequential_13\"\n",
            "_________________________________________________________________\n",
            " Layer (type)                Output Shape              Param #   \n",
            "=================================================================\n",
            " dense_48 (Dense)            (None, 17)                357       \n",
            "                                                                 \n",
            " dense_49 (Dense)            (None, 12)                216       \n",
            "                                                                 \n",
            " dense_50 (Dense)            (None, 7)                 91        \n",
            "                                                                 \n",
            " dense_51 (Dense)            (None, 4)                 32        \n",
            "                                                                 \n",
            "=================================================================\n",
            "Total params: 696\n",
            "Trainable params: 696\n",
            "Non-trainable params: 0\n",
            "_________________________________________________________________\n",
            "None\n"
          ]
        }
      ]
    },
    {
      "cell_type": "code",
      "source": [
        "history_adam_softsign=model_adam_softsign.fit(norm_train_data,Y_train,epochs=100,batch_size=10,validation_data=(norm_test_data_arr,Y_test),callbacks=[callback])"
      ],
      "metadata": {
        "colab": {
          "base_uri": "https://localhost:8080/"
        },
        "id": "eYGpAgDnJWds",
        "outputId": "6706969d-f756-4bf6-c025-c4294512364a"
      },
      "execution_count": null,
      "outputs": [
        {
          "output_type": "stream",
          "name": "stdout",
          "text": [
            "Epoch 1/100\n",
            "160/160 [==============================] - 1s 3ms/step - loss: 1.2392 - accuracy: 0.4644 - val_loss: 1.0832 - val_accuracy: 0.5125\n",
            "Epoch 2/100\n",
            "160/160 [==============================] - 0s 2ms/step - loss: 0.9244 - accuracy: 0.5581 - val_loss: 0.8399 - val_accuracy: 0.5475\n",
            "Epoch 3/100\n",
            "160/160 [==============================] - 0s 2ms/step - loss: 0.7556 - accuracy: 0.6269 - val_loss: 0.7279 - val_accuracy: 0.6625\n",
            "Epoch 4/100\n",
            "160/160 [==============================] - 0s 2ms/step - loss: 0.6490 - accuracy: 0.7750 - val_loss: 0.6281 - val_accuracy: 0.7775\n",
            "Epoch 5/100\n",
            "160/160 [==============================] - 0s 2ms/step - loss: 0.5480 - accuracy: 0.8625 - val_loss: 0.5220 - val_accuracy: 0.8525\n",
            "Epoch 6/100\n",
            "160/160 [==============================] - 0s 2ms/step - loss: 0.4517 - accuracy: 0.9025 - val_loss: 0.4377 - val_accuracy: 0.8825\n",
            "Epoch 7/100\n",
            "160/160 [==============================] - 0s 2ms/step - loss: 0.3748 - accuracy: 0.9200 - val_loss: 0.3640 - val_accuracy: 0.9075\n",
            "Epoch 8/100\n",
            "160/160 [==============================] - 0s 2ms/step - loss: 0.3155 - accuracy: 0.9325 - val_loss: 0.3218 - val_accuracy: 0.9150\n",
            "Epoch 9/100\n",
            "160/160 [==============================] - 0s 2ms/step - loss: 0.2670 - accuracy: 0.9488 - val_loss: 0.2861 - val_accuracy: 0.9100\n",
            "Epoch 10/100\n",
            "160/160 [==============================] - 0s 2ms/step - loss: 0.2259 - accuracy: 0.9600 - val_loss: 0.2604 - val_accuracy: 0.9175\n",
            "Epoch 11/100\n",
            "160/160 [==============================] - 0s 2ms/step - loss: 0.2001 - accuracy: 0.9606 - val_loss: 0.2440 - val_accuracy: 0.9075\n",
            "Epoch 12/100\n",
            "160/160 [==============================] - 0s 2ms/step - loss: 0.1751 - accuracy: 0.9669 - val_loss: 0.2127 - val_accuracy: 0.9325\n",
            "Epoch 13/100\n",
            "160/160 [==============================] - 0s 2ms/step - loss: 0.1532 - accuracy: 0.9725 - val_loss: 0.1985 - val_accuracy: 0.9325\n",
            "Epoch 14/100\n",
            "160/160 [==============================] - 0s 2ms/step - loss: 0.1342 - accuracy: 0.9731 - val_loss: 0.1911 - val_accuracy: 0.9325\n",
            "Epoch 15/100\n",
            "160/160 [==============================] - 0s 2ms/step - loss: 0.1247 - accuracy: 0.9769 - val_loss: 0.1799 - val_accuracy: 0.9325\n",
            "Epoch 16/100\n",
            "160/160 [==============================] - 0s 2ms/step - loss: 0.1081 - accuracy: 0.9806 - val_loss: 0.1579 - val_accuracy: 0.9500\n",
            "Epoch 17/100\n",
            "160/160 [==============================] - 0s 2ms/step - loss: 0.0974 - accuracy: 0.9837 - val_loss: 0.1600 - val_accuracy: 0.9425\n",
            "Epoch 18/100\n",
            "160/160 [==============================] - 0s 2ms/step - loss: 0.0878 - accuracy: 0.9831 - val_loss: 0.1560 - val_accuracy: 0.9375\n",
            "Epoch 19/100\n",
            "160/160 [==============================] - 0s 2ms/step - loss: 0.0811 - accuracy: 0.9844 - val_loss: 0.1567 - val_accuracy: 0.9450\n",
            "Epoch 20/100\n",
            "160/160 [==============================] - 0s 2ms/step - loss: 0.0691 - accuracy: 0.9919 - val_loss: 0.1520 - val_accuracy: 0.9325\n",
            "Epoch 21/100\n",
            "160/160 [==============================] - 0s 2ms/step - loss: 0.0641 - accuracy: 0.9894 - val_loss: 0.1602 - val_accuracy: 0.9375\n",
            "Epoch 22/100\n",
            "160/160 [==============================] - 0s 2ms/step - loss: 0.0577 - accuracy: 0.9912 - val_loss: 0.1555 - val_accuracy: 0.9350\n",
            "Epoch 23/100\n",
            "160/160 [==============================] - 0s 2ms/step - loss: 0.0566 - accuracy: 0.9912 - val_loss: 0.1576 - val_accuracy: 0.9400\n",
            "Epoch 24/100\n",
            "160/160 [==============================] - 0s 2ms/step - loss: 0.0482 - accuracy: 0.9931 - val_loss: 0.1498 - val_accuracy: 0.9425\n",
            "Epoch 25/100\n",
            "160/160 [==============================] - 0s 2ms/step - loss: 0.0417 - accuracy: 0.9962 - val_loss: 0.1510 - val_accuracy: 0.9325\n",
            "Epoch 26/100\n",
            "160/160 [==============================] - 0s 2ms/step - loss: 0.0397 - accuracy: 0.9925 - val_loss: 0.1550 - val_accuracy: 0.9375\n",
            "Epoch 27/100\n",
            "160/160 [==============================] - 0s 2ms/step - loss: 0.0385 - accuracy: 0.9956 - val_loss: 0.1584 - val_accuracy: 0.9350\n",
            "Epoch 28/100\n",
            "160/160 [==============================] - 0s 2ms/step - loss: 0.0358 - accuracy: 0.9956 - val_loss: 0.1708 - val_accuracy: 0.9325\n",
            "Epoch 29/100\n",
            "160/160 [==============================] - 0s 2ms/step - loss: 0.0330 - accuracy: 0.9950 - val_loss: 0.1621 - val_accuracy: 0.9350\n",
            "Epoch 30/100\n",
            "160/160 [==============================] - 0s 2ms/step - loss: 0.0265 - accuracy: 0.9981 - val_loss: 0.1376 - val_accuracy: 0.9425\n",
            "Epoch 31/100\n",
            "160/160 [==============================] - 0s 2ms/step - loss: 0.0230 - accuracy: 0.9994 - val_loss: 0.1558 - val_accuracy: 0.9300\n"
          ]
        }
      ]
    },
    {
      "cell_type": "markdown",
      "source": [
        "Plot the graph for varying activation functions with \"Adam\" optimizer"
      ],
      "metadata": {
        "id": "shP3BEuVGpqU"
      }
    },
    {
      "cell_type": "code",
      "source": [
        "import matplotlib.pyplot as plt\n",
        "fig, axs = plt.subplots(2, 3)\n",
        "axs[0, 0].plot(history_3.history['accuracy'],label='train_accuracy')\n",
        "axs[0, 0].plot(history_3.history['val_accuracy'],label='test_accuracy')\n",
        "axs[0, 0].set_title('relu')\n",
        "axs[0, 1].plot(history_adam_tanh.history['accuracy'],label='train_accuracy')\n",
        "axs[0, 1].plot(history_adam_tanh.history['val_accuracy'],label='test_accuracy')\n",
        "axs[0, 1].set_title('tanh')\n",
        "axs[0, 2].plot(history_adam_sigmoid.history['accuracy'],label='train_accuracy')\n",
        "axs[0, 2].plot(history_adam_sigmoid.history['val_accuracy'],label='test_accuracy')\n",
        "axs[0, 2].set_title('sigmoid')\n",
        "axs[1, 0].plot(history_adam_elu.history['accuracy'],label='train_accuracy')\n",
        "axs[1, 0].plot(history_adam_elu.history['val_accuracy'],label='test_accuracy')\n",
        "axs[1, 0].set_title('elu')\n",
        "axs[1, 1].plot(history_adam_softplus.history['accuracy'],label='train_accuracy')\n",
        "axs[1, 1].plot(history_adam_softplus.history['val_accuracy'],label='test_accuracy')\n",
        "axs[1, 1].set_title('softplus')\n",
        "axs[1, 2].plot(history_adam_softsign.history['accuracy'],label='train_accuracy')\n",
        "axs[1, 2].plot(history_adam_softsign.history['val_accuracy'],label='test_accuracy')\n",
        "axs[1, 2].set_title('softsign')\n",
        "plt.legend()\n",
        "\n",
        "for ax in axs.flat:\n",
        "    ax.set(xlabel='epoch', ylabel='accuracy')\n",
        "\n",
        "# Hide x labels and tick labels for top plots and y ticks for right plots.\n",
        "for ax in axs.flat:\n",
        "    ax.label_outer()"
      ],
      "metadata": {
        "colab": {
          "base_uri": "https://localhost:8080/",
          "height": 295
        },
        "id": "NhPy68lIG47m",
        "outputId": "8a1ad51c-6068-4e27-f173-c14da37b66c5"
      },
      "execution_count": null,
      "outputs": [
        {
          "output_type": "display_data",
          "data": {
            "text/plain": [
              "<Figure size 432x288 with 6 Axes>"
            ],
            "image/png": "[encoded data removed]"
          },
          "metadata": {
            "needs_background": "light"
          }
        }
      ]
    },
    {
      "cell_type": "markdown",
      "source": [
        "Plot the loss for various activation functions with \"Adam\" optimizer"
      ],
      "metadata": {
        "id": "fYcRNTt1OOik"
      }
    },
    {
      "cell_type": "code",
      "source": [
        "fig, axs = plt.subplots(2, 3)\n",
        "axs[0, 0].plot(history_3.history['loss'],label='train_loss')\n",
        "axs[0, 0].plot(history_3.history['val_loss'],label='test_loss')\n",
        "axs[0, 0].set_title('relu')\n",
        "axs[0, 1].plot(history_adam_tanh.history['loss'],label='train_loss')\n",
        "axs[0, 1].plot(history_adam_tanh.history['val_loss'],label='test_loss')\n",
        "axs[0, 1].set_title('tanh')\n",
        "axs[0, 2].plot(history_adam_sigmoid.history['loss'],label='train_loss')\n",
        "axs[0, 2].plot(history_adam_sigmoid.history['val_loss'],label='test_loss')\n",
        "axs[0, 2].set_title('sigmoid')\n",
        "axs[1, 0].plot(history_adam_elu.history['loss'],label='train_loss')\n",
        "axs[1, 0].plot(history_adam_elu.history['val_loss'],label='test_loss')\n",
        "axs[1, 0].set_title('elu')\n",
        "axs[1, 1].plot(history_adam_softplus.history['loss'],label='train_loss')\n",
        "axs[1, 1].plot(history_adam_softplus.history['val_loss'],label='test_loss')\n",
        "axs[1, 1].set_title('softplus')\n",
        "axs[1, 2].plot(history_adam_softsign.history['loss'],label='train_loss')\n",
        "axs[1, 2].plot(history_adam_softsign.history['val_loss'],label='test_loss')\n",
        "axs[1, 2].set_title('softsign')\n",
        "plt.legend()\n",
        "\n",
        "for ax in axs.flat:\n",
        "    ax.set(xlabel='epoch', ylabel='loss')\n",
        "\n",
        "# Hide x labels and tick labels for top plots and y ticks for right plots.\n",
        "for ax in axs.flat:\n",
        "    ax.label_outer()"
      ],
      "metadata": {
        "colab": {
          "base_uri": "https://localhost:8080/",
          "height": 295
        },
        "id": "bhDhveVVN7Rf",
        "outputId": "8976554f-fa18-4bb8-bdcb-6df26c96e819"
      },
      "execution_count": null,
      "outputs": [
        {
          "output_type": "display_data",
          "data": {
            "text/plain": [
              "<Figure size 432x288 with 6 Axes>"
            ],
            "image/png": "[encoded data removed]"
          },
          "metadata": {
            "needs_background": "light"
          }
        }
      ]
    },
    {
      "cell_type": "markdown",
      "source": [
        "Sparse categorical cross entropy as loss function"
      ],
      "metadata": {
        "id": "45b9leXwihrn"
      }
    },
    {
      "cell_type": "code",
      "source": [
        "model_5= keras.Sequential()\n",
        "model_5.add(tf.keras.layers.Dense(units=17,input_shape=(20,),activation='relu'))\n",
        "model_5.add(tf.keras.layers.Dense(units=12,activation='relu'))\n",
        "model_5.add(tf.keras.layers.Dense(units=7,activation='relu'))\n",
        "model_5.add(tf.keras.layers.Dense(units=4,activation='softmax'))\n",
        "model_5.compile(loss='sparse_categorical_crossentropy',\n",
        "              optimizer=tf.keras.optimizers.Adam(learning_rate=1e-3),\n",
        "              metrics=['accuracy'])\n",
        "print(model_5.summary())"
      ],
      "metadata": {
        "colab": {
          "base_uri": "https://localhost:8080/"
        },
        "id": "zR5A2Lc8ipKQ",
        "outputId": "c6da5e01-f13b-4e4d-c915-95aab0feadde"
      },
      "execution_count": null,
      "outputs": [
        {
          "output_type": "stream",
          "name": "stdout",
          "text": [
            "Model: \"sequential_9\"\n",
            "_________________________________________________________________\n",
            " Layer (type)                Output Shape              Param #   \n",
            "=================================================================\n",
            " dense_36 (Dense)            (None, 17)                357       \n",
            "                                                                 \n",
            " dense_37 (Dense)            (None, 12)                216       \n",
            "                                                                 \n",
            " dense_38 (Dense)            (None, 7)                 91        \n",
            "                                                                 \n",
            " dense_39 (Dense)            (None, 4)                 32        \n",
            "                                                                 \n",
            "=================================================================\n",
            "Total params: 696\n",
            "Trainable params: 696\n",
            "Non-trainable params: 0\n",
            "_________________________________________________________________\n",
            "None\n"
          ]
        }
      ]
    },
    {
      "cell_type": "code",
      "source": [
        "history_5=model_5.fit(norm_train_data,train_label,epochs=100,batch_size=10,validation_data=(norm_test_data_arr,test_label))"
      ],
      "metadata": {
        "colab": {
          "base_uri": "https://localhost:8080/"
        },
        "id": "XPlVrIp6jAjb",
        "outputId": "a6de7e74-fb88-4d80-b321-6aa752680552"
      },
      "execution_count": null,
      "outputs": [
        {
          "output_type": "stream",
          "name": "stdout",
          "text": [
            "Epoch 1/100\n",
            "160/160 [==============================] - 1s 3ms/step - loss: 1.2923 - accuracy: 0.3881 - val_loss: 1.2179 - val_accuracy: 0.4325\n",
            "Epoch 2/100\n",
            "160/160 [==============================] - 0s 2ms/step - loss: 1.0463 - accuracy: 0.5469 - val_loss: 0.9133 - val_accuracy: 0.5975\n",
            "Epoch 3/100\n",
            "160/160 [==============================] - 0s 2ms/step - loss: 0.7288 - accuracy: 0.7194 - val_loss: 0.6178 - val_accuracy: 0.7725\n",
            "Epoch 4/100\n",
            "160/160 [==============================] - 0s 2ms/step - loss: 0.5002 - accuracy: 0.8269 - val_loss: 0.4570 - val_accuracy: 0.8150\n",
            "Epoch 5/100\n",
            "160/160 [==============================] - 0s 2ms/step - loss: 0.3703 - accuracy: 0.8775 - val_loss: 0.3891 - val_accuracy: 0.8175\n",
            "Epoch 6/100\n",
            "160/160 [==============================] - 0s 2ms/step - loss: 0.2938 - accuracy: 0.8988 - val_loss: 0.3438 - val_accuracy: 0.8375\n",
            "Epoch 7/100\n",
            "160/160 [==============================] - 0s 2ms/step - loss: 0.2433 - accuracy: 0.9162 - val_loss: 0.3086 - val_accuracy: 0.8575\n",
            "Epoch 8/100\n",
            "160/160 [==============================] - 0s 2ms/step - loss: 0.2109 - accuracy: 0.9256 - val_loss: 0.2950 - val_accuracy: 0.8700\n",
            "Epoch 9/100\n",
            "160/160 [==============================] - 0s 2ms/step - loss: 0.1840 - accuracy: 0.9325 - val_loss: 0.2816 - val_accuracy: 0.8750\n",
            "Epoch 10/100\n",
            "160/160 [==============================] - 0s 2ms/step - loss: 0.1664 - accuracy: 0.9419 - val_loss: 0.2821 - val_accuracy: 0.8725\n",
            "Epoch 11/100\n",
            "160/160 [==============================] - 0s 2ms/step - loss: 0.1513 - accuracy: 0.9469 - val_loss: 0.2939 - val_accuracy: 0.8875\n",
            "Epoch 12/100\n",
            "160/160 [==============================] - 0s 2ms/step - loss: 0.1394 - accuracy: 0.9500 - val_loss: 0.2698 - val_accuracy: 0.8900\n",
            "Epoch 13/100\n",
            "160/160 [==============================] - 0s 2ms/step - loss: 0.1280 - accuracy: 0.9538 - val_loss: 0.2805 - val_accuracy: 0.8775\n",
            "Epoch 14/100\n",
            "160/160 [==============================] - 0s 2ms/step - loss: 0.1170 - accuracy: 0.9625 - val_loss: 0.2742 - val_accuracy: 0.8975\n",
            "Epoch 15/100\n",
            "160/160 [==============================] - 0s 2ms/step - loss: 0.1084 - accuracy: 0.9644 - val_loss: 0.2821 - val_accuracy: 0.8800\n",
            "Epoch 16/100\n",
            "160/160 [==============================] - 0s 2ms/step - loss: 0.1035 - accuracy: 0.9656 - val_loss: 0.2674 - val_accuracy: 0.8875\n",
            "Epoch 17/100\n",
            "160/160 [==============================] - 0s 2ms/step - loss: 0.1002 - accuracy: 0.9694 - val_loss: 0.2441 - val_accuracy: 0.8925\n",
            "Epoch 18/100\n",
            "160/160 [==============================] - 0s 2ms/step - loss: 0.0900 - accuracy: 0.9706 - val_loss: 0.2599 - val_accuracy: 0.8850\n",
            "Epoch 19/100\n",
            "160/160 [==============================] - 0s 2ms/step - loss: 0.0873 - accuracy: 0.9756 - val_loss: 0.2821 - val_accuracy: 0.8900\n",
            "Epoch 20/100\n",
            "160/160 [==============================] - 0s 2ms/step - loss: 0.0825 - accuracy: 0.9744 - val_loss: 0.2746 - val_accuracy: 0.8950\n",
            "Epoch 21/100\n",
            "160/160 [==============================] - 0s 2ms/step - loss: 0.0764 - accuracy: 0.9762 - val_loss: 0.2720 - val_accuracy: 0.8950\n",
            "Epoch 22/100\n",
            "160/160 [==============================] - 0s 2ms/step - loss: 0.0700 - accuracy: 0.9781 - val_loss: 0.2487 - val_accuracy: 0.9075\n",
            "Epoch 23/100\n",
            "160/160 [==============================] - 0s 2ms/step - loss: 0.0662 - accuracy: 0.9819 - val_loss: 0.2472 - val_accuracy: 0.9075\n",
            "Epoch 24/100\n",
            "160/160 [==============================] - 0s 2ms/step - loss: 0.0627 - accuracy: 0.9812 - val_loss: 0.2875 - val_accuracy: 0.8900\n",
            "Epoch 25/100\n",
            "160/160 [==============================] - 0s 2ms/step - loss: 0.0626 - accuracy: 0.9787 - val_loss: 0.2908 - val_accuracy: 0.9000\n",
            "Epoch 26/100\n",
            "160/160 [==============================] - 0s 2ms/step - loss: 0.0545 - accuracy: 0.9850 - val_loss: 0.2819 - val_accuracy: 0.9025\n",
            "Epoch 27/100\n",
            "160/160 [==============================] - 0s 2ms/step - loss: 0.0520 - accuracy: 0.9856 - val_loss: 0.2523 - val_accuracy: 0.9100\n",
            "Epoch 28/100\n",
            "160/160 [==============================] - 0s 2ms/step - loss: 0.0489 - accuracy: 0.9875 - val_loss: 0.2596 - val_accuracy: 0.9050\n",
            "Epoch 29/100\n",
            "160/160 [==============================] - 0s 2ms/step - loss: 0.0463 - accuracy: 0.9862 - val_loss: 0.2599 - val_accuracy: 0.9050\n",
            "Epoch 30/100\n",
            "160/160 [==============================] - 0s 2ms/step - loss: 0.0419 - accuracy: 0.9912 - val_loss: 0.2965 - val_accuracy: 0.8925\n",
            "Epoch 31/100\n",
            "160/160 [==============================] - 0s 2ms/step - loss: 0.0459 - accuracy: 0.9900 - val_loss: 0.3008 - val_accuracy: 0.8925\n",
            "Epoch 32/100\n",
            "160/160 [==============================] - 0s 2ms/step - loss: 0.0402 - accuracy: 0.9912 - val_loss: 0.2965 - val_accuracy: 0.8975\n",
            "Epoch 33/100\n",
            "160/160 [==============================] - 0s 2ms/step - loss: 0.0369 - accuracy: 0.9919 - val_loss: 0.2981 - val_accuracy: 0.9000\n",
            "Epoch 34/100\n",
            "160/160 [==============================] - 0s 2ms/step - loss: 0.0371 - accuracy: 0.9912 - val_loss: 0.2735 - val_accuracy: 0.9125\n",
            "Epoch 35/100\n",
            "160/160 [==============================] - 0s 2ms/step - loss: 0.0336 - accuracy: 0.9937 - val_loss: 0.3007 - val_accuracy: 0.9025\n",
            "Epoch 36/100\n",
            "160/160 [==============================] - 0s 2ms/step - loss: 0.0347 - accuracy: 0.9912 - val_loss: 0.2911 - val_accuracy: 0.9025\n",
            "Epoch 37/100\n",
            "160/160 [==============================] - 0s 2ms/step - loss: 0.0291 - accuracy: 0.9956 - val_loss: 0.2861 - val_accuracy: 0.9050\n",
            "Epoch 38/100\n",
            "160/160 [==============================] - 0s 2ms/step - loss: 0.0310 - accuracy: 0.9931 - val_loss: 0.3231 - val_accuracy: 0.8925\n",
            "Epoch 39/100\n",
            "160/160 [==============================] - 0s 2ms/step - loss: 0.0283 - accuracy: 0.9944 - val_loss: 0.3163 - val_accuracy: 0.8950\n",
            "Epoch 40/100\n",
            "160/160 [==============================] - 0s 2ms/step - loss: 0.0234 - accuracy: 0.9969 - val_loss: 0.3201 - val_accuracy: 0.8975\n",
            "Epoch 41/100\n",
            "160/160 [==============================] - 0s 2ms/step - loss: 0.0235 - accuracy: 0.9956 - val_loss: 0.3367 - val_accuracy: 0.8975\n",
            "Epoch 42/100\n",
            "160/160 [==============================] - 0s 2ms/step - loss: 0.0220 - accuracy: 0.9962 - val_loss: 0.3023 - val_accuracy: 0.9075\n",
            "Epoch 43/100\n",
            "160/160 [==============================] - 0s 2ms/step - loss: 0.0212 - accuracy: 0.9975 - val_loss: 0.2988 - val_accuracy: 0.9050\n",
            "Epoch 44/100\n",
            "160/160 [==============================] - 0s 2ms/step - loss: 0.0191 - accuracy: 0.9975 - val_loss: 0.2992 - val_accuracy: 0.9025\n",
            "Epoch 45/100\n",
            "160/160 [==============================] - 0s 3ms/step - loss: 0.0174 - accuracy: 0.9981 - val_loss: 0.3085 - val_accuracy: 0.9100\n",
            "Epoch 46/100\n",
            "160/160 [==============================] - 0s 2ms/step - loss: 0.0184 - accuracy: 0.9975 - val_loss: 0.2948 - val_accuracy: 0.9150\n",
            "Epoch 47/100\n",
            "160/160 [==============================] - 0s 2ms/step - loss: 0.0212 - accuracy: 0.9956 - val_loss: 0.3183 - val_accuracy: 0.9075\n",
            "Epoch 48/100\n",
            "160/160 [==============================] - 0s 2ms/step - loss: 0.0161 - accuracy: 0.9981 - val_loss: 0.3334 - val_accuracy: 0.9100\n",
            "Epoch 49/100\n",
            "160/160 [==============================] - 0s 2ms/step - loss: 0.0156 - accuracy: 0.9987 - val_loss: 0.3116 - val_accuracy: 0.9175\n",
            "Epoch 50/100\n",
            "160/160 [==============================] - 0s 2ms/step - loss: 0.0135 - accuracy: 0.9987 - val_loss: 0.3406 - val_accuracy: 0.9075\n",
            "Epoch 51/100\n",
            "160/160 [==============================] - 0s 2ms/step - loss: 0.0111 - accuracy: 0.9987 - val_loss: 0.3407 - val_accuracy: 0.9100\n",
            "Epoch 52/100\n",
            "160/160 [==============================] - 0s 2ms/step - loss: 0.0117 - accuracy: 0.9987 - val_loss: 0.3362 - val_accuracy: 0.9100\n",
            "Epoch 53/100\n",
            "160/160 [==============================] - 0s 2ms/step - loss: 0.0134 - accuracy: 0.9975 - val_loss: 0.3523 - val_accuracy: 0.9150\n",
            "Epoch 54/100\n",
            "160/160 [==============================] - 0s 2ms/step - loss: 0.0181 - accuracy: 0.9944 - val_loss: 0.3685 - val_accuracy: 0.9025\n",
            "Epoch 55/100\n",
            "160/160 [==============================] - 0s 2ms/step - loss: 0.0238 - accuracy: 0.9931 - val_loss: 0.3588 - val_accuracy: 0.9150\n",
            "Epoch 56/100\n",
            "160/160 [==============================] - 0s 2ms/step - loss: 0.0118 - accuracy: 0.9981 - val_loss: 0.3612 - val_accuracy: 0.9150\n",
            "Epoch 57/100\n",
            "160/160 [==============================] - 0s 2ms/step - loss: 0.0105 - accuracy: 0.9987 - val_loss: 0.3980 - val_accuracy: 0.9000\n",
            "Epoch 58/100\n",
            "160/160 [==============================] - 0s 2ms/step - loss: 0.0094 - accuracy: 1.0000 - val_loss: 0.3798 - val_accuracy: 0.9075\n",
            "Epoch 59/100\n",
            "160/160 [==============================] - 0s 2ms/step - loss: 0.0077 - accuracy: 0.9994 - val_loss: 0.3832 - val_accuracy: 0.9050\n",
            "Epoch 60/100\n",
            "160/160 [==============================] - 0s 2ms/step - loss: 0.0080 - accuracy: 0.9987 - val_loss: 0.3527 - val_accuracy: 0.9175\n",
            "Epoch 61/100\n",
            "160/160 [==============================] - 0s 2ms/step - loss: 0.0069 - accuracy: 1.0000 - val_loss: 0.4168 - val_accuracy: 0.9000\n",
            "Epoch 62/100\n",
            "160/160 [==============================] - 0s 2ms/step - loss: 0.0062 - accuracy: 1.0000 - val_loss: 0.4080 - val_accuracy: 0.9050\n",
            "Epoch 63/100\n",
            "160/160 [==============================] - 0s 2ms/step - loss: 0.0068 - accuracy: 0.9994 - val_loss: 0.3827 - val_accuracy: 0.9125\n",
            "Epoch 64/100\n",
            "160/160 [==============================] - 0s 2ms/step - loss: 0.0075 - accuracy: 1.0000 - val_loss: 0.4039 - val_accuracy: 0.9075\n",
            "Epoch 65/100\n",
            "160/160 [==============================] - 0s 2ms/step - loss: 0.0132 - accuracy: 0.9950 - val_loss: 0.4785 - val_accuracy: 0.8850\n",
            "Epoch 66/100\n",
            "160/160 [==============================] - 0s 2ms/step - loss: 0.0509 - accuracy: 0.9812 - val_loss: 0.4614 - val_accuracy: 0.9050\n",
            "Epoch 67/100\n",
            "160/160 [==============================] - 0s 2ms/step - loss: 0.0104 - accuracy: 0.9987 - val_loss: 0.4254 - val_accuracy: 0.9100\n",
            "Epoch 68/100\n",
            "160/160 [==============================] - 0s 2ms/step - loss: 0.0057 - accuracy: 1.0000 - val_loss: 0.4114 - val_accuracy: 0.9100\n",
            "Epoch 69/100\n",
            "160/160 [==============================] - 0s 2ms/step - loss: 0.0043 - accuracy: 1.0000 - val_loss: 0.4240 - val_accuracy: 0.9050\n",
            "Epoch 70/100\n",
            "160/160 [==============================] - 0s 2ms/step - loss: 0.0040 - accuracy: 1.0000 - val_loss: 0.4440 - val_accuracy: 0.9025\n",
            "Epoch 71/100\n",
            "160/160 [==============================] - 0s 2ms/step - loss: 0.0038 - accuracy: 1.0000 - val_loss: 0.4058 - val_accuracy: 0.9225\n",
            "Epoch 72/100\n",
            "160/160 [==============================] - 0s 2ms/step - loss: 0.0042 - accuracy: 1.0000 - val_loss: 0.4285 - val_accuracy: 0.9075\n",
            "Epoch 73/100\n",
            "160/160 [==============================] - 0s 2ms/step - loss: 0.0037 - accuracy: 1.0000 - val_loss: 0.4197 - val_accuracy: 0.9100\n",
            "Epoch 74/100\n",
            "160/160 [==============================] - 0s 2ms/step - loss: 0.0033 - accuracy: 1.0000 - val_loss: 0.4389 - val_accuracy: 0.9100\n",
            "Epoch 75/100\n",
            "160/160 [==============================] - 0s 2ms/step - loss: 0.0029 - accuracy: 1.0000 - val_loss: 0.4369 - val_accuracy: 0.9050\n",
            "Epoch 76/100\n",
            "160/160 [==============================] - 0s 2ms/step - loss: 0.0028 - accuracy: 1.0000 - val_loss: 0.4376 - val_accuracy: 0.9125\n",
            "Epoch 77/100\n",
            "160/160 [==============================] - 0s 2ms/step - loss: 0.0027 - accuracy: 1.0000 - val_loss: 0.4291 - val_accuracy: 0.9125\n",
            "Epoch 78/100\n",
            "160/160 [==============================] - 0s 2ms/step - loss: 0.0027 - accuracy: 1.0000 - val_loss: 0.4609 - val_accuracy: 0.9075\n",
            "Epoch 79/100\n",
            "160/160 [==============================] - 0s 2ms/step - loss: 0.0029 - accuracy: 1.0000 - val_loss: 0.4814 - val_accuracy: 0.9025\n",
            "Epoch 80/100\n",
            "160/160 [==============================] - 0s 2ms/step - loss: 0.0033 - accuracy: 0.9994 - val_loss: 0.4648 - val_accuracy: 0.9150\n",
            "Epoch 81/100\n",
            "160/160 [==============================] - 0s 2ms/step - loss: 0.0040 - accuracy: 1.0000 - val_loss: 0.4359 - val_accuracy: 0.9100\n",
            "Epoch 82/100\n",
            "160/160 [==============================] - 0s 2ms/step - loss: 0.0029 - accuracy: 1.0000 - val_loss: 0.4526 - val_accuracy: 0.9125\n",
            "Epoch 83/100\n",
            "160/160 [==============================] - 0s 2ms/step - loss: 0.0021 - accuracy: 1.0000 - val_loss: 0.4573 - val_accuracy: 0.9125\n",
            "Epoch 84/100\n",
            "160/160 [==============================] - 0s 2ms/step - loss: 0.0021 - accuracy: 1.0000 - val_loss: 0.4723 - val_accuracy: 0.9125\n",
            "Epoch 85/100\n",
            "160/160 [==============================] - 0s 2ms/step - loss: 0.0019 - accuracy: 1.0000 - val_loss: 0.4947 - val_accuracy: 0.9100\n",
            "Epoch 86/100\n",
            "160/160 [==============================] - 0s 2ms/step - loss: 0.0022 - accuracy: 1.0000 - val_loss: 0.5247 - val_accuracy: 0.9000\n",
            "Epoch 87/100\n",
            "160/160 [==============================] - 0s 2ms/step - loss: 0.0756 - accuracy: 0.9812 - val_loss: 0.5148 - val_accuracy: 0.9075\n",
            "Epoch 88/100\n",
            "160/160 [==============================] - 0s 2ms/step - loss: 0.0241 - accuracy: 0.9944 - val_loss: 0.4909 - val_accuracy: 0.9100\n",
            "Epoch 89/100\n",
            "160/160 [==============================] - 0s 2ms/step - loss: 0.0048 - accuracy: 1.0000 - val_loss: 0.4615 - val_accuracy: 0.9200\n",
            "Epoch 90/100\n",
            "160/160 [==============================] - 0s 2ms/step - loss: 0.0024 - accuracy: 1.0000 - val_loss: 0.4781 - val_accuracy: 0.9150\n",
            "Epoch 91/100\n",
            "160/160 [==============================] - 0s 2ms/step - loss: 0.0016 - accuracy: 1.0000 - val_loss: 0.4783 - val_accuracy: 0.9175\n",
            "Epoch 92/100\n",
            "160/160 [==============================] - 0s 2ms/step - loss: 0.0016 - accuracy: 1.0000 - val_loss: 0.4876 - val_accuracy: 0.9125\n",
            "Epoch 93/100\n",
            "160/160 [==============================] - 0s 2ms/step - loss: 0.0015 - accuracy: 1.0000 - val_loss: 0.4659 - val_accuracy: 0.9175\n",
            "Epoch 94/100\n",
            "160/160 [==============================] - 0s 2ms/step - loss: 0.0015 - accuracy: 1.0000 - val_loss: 0.4865 - val_accuracy: 0.9125\n",
            "Epoch 95/100\n",
            "160/160 [==============================] - 0s 2ms/step - loss: 0.0014 - accuracy: 1.0000 - val_loss: 0.4824 - val_accuracy: 0.9150\n",
            "Epoch 96/100\n",
            "160/160 [==============================] - 0s 2ms/step - loss: 0.0013 - accuracy: 1.0000 - val_loss: 0.4909 - val_accuracy: 0.9125\n",
            "Epoch 97/100\n",
            "160/160 [==============================] - 0s 2ms/step - loss: 0.0013 - accuracy: 1.0000 - val_loss: 0.4814 - val_accuracy: 0.9175\n",
            "Epoch 98/100\n",
            "160/160 [==============================] - 0s 2ms/step - loss: 0.0012 - accuracy: 1.0000 - val_loss: 0.4741 - val_accuracy: 0.9175\n",
            "Epoch 99/100\n",
            "160/160 [==============================] - 0s 2ms/step - loss: 0.0012 - accuracy: 1.0000 - val_loss: 0.4893 - val_accuracy: 0.9150\n",
            "Epoch 100/100\n",
            "160/160 [==============================] - 0s 2ms/step - loss: 0.0011 - accuracy: 1.0000 - val_loss: 0.5012 - val_accuracy: 0.9125\n"
          ]
        }
      ]
    },
    {
      "cell_type": "markdown",
      "source": [
        "Plot accuracy for Categorical vs Sparse Categorical_cross_entropy"
      ],
      "metadata": {
        "id": "Baja6nTzjzWg"
      }
    },
    {
      "cell_type": "code",
      "source": [
        "import matplotlib.pyplot as plt\n",
        "fig, axs = plt.subplots(1, 2)\n",
        "axs[0].plot(history_3.history['accuracy'],label='train_accuracy')\n",
        "axs[0].plot(history_3.history['val_accuracy'],label='test_accuracy')\n",
        "axs[0].set_title('Categorical_cross_entropy')\n",
        "axs[1].plot(history_5.history['accuracy'],label='train_accuracy')\n",
        "axs[1].plot(history_5.history['val_accuracy'],label='test_accuracy')\n",
        "axs[1].set_title('Sparse_Categorical_cross_entropy')\n",
        "\n",
        "plt.legend()\n",
        "\n",
        "for ax in axs.flat:\n",
        "    ax.set(xlabel='epoch', ylabel='accuracy')\n",
        "\n",
        "# Hide x labels and tick labels for top plots and y ticks for right plots.\n",
        "for ax in axs.flat:\n",
        "    ax.label_outer()"
      ],
      "metadata": {
        "colab": {
          "base_uri": "https://localhost:8080/",
          "height": 295
        },
        "id": "eO5neXxTj6Rn",
        "outputId": "521de98d-216f-4f45-81ed-74d6309a209d"
      },
      "execution_count": null,
      "outputs": [
        {
          "output_type": "display_data",
          "data": {
            "text/plain": [
              "<Figure size 432x288 with 2 Axes>"
            ],
            "image/png": "[encoded data removed]"
          },
          "metadata": {
            "needs_background": "light"
          }
        }
      ]
    },
    {
      "cell_type": "markdown",
      "source": [
        "Plot loss for Categorical vs Sparse Categorical_cross_entropy"
      ],
      "metadata": {
        "id": "V1UTwWjTklec"
      }
    },
    {
      "cell_type": "code",
      "source": [
        "import matplotlib.pyplot as plt\n",
        "fig, axs = plt.subplots(1, 2)\n",
        "axs[0].plot(history_3.history['loss'],label='train_loss')\n",
        "axs[0].plot(history_3.history['val_loss'],label='test_loss')\n",
        "axs[0].set_title('Categorical_cross_entropy')\n",
        "axs[1].plot(history_5.history['loss'],label='train_loss')\n",
        "axs[1].plot(history_5.history['val_loss'],label='test_loss')\n",
        "axs[1].set_title('Sparse_Categorical_cross_entropy')\n",
        "\n",
        "plt.legend()\n",
        "\n",
        "for ax in axs.flat:\n",
        "    ax.set(xlabel='epoch', ylabel='accuracy')\n",
        "\n",
        "# Hide x labels and tick labels for top plots and y ticks for right plots.\n",
        "for ax in axs.flat:\n",
        "    ax.label_outer()"
      ],
      "metadata": {
        "colab": {
          "base_uri": "https://localhost:8080/",
          "height": 295
        },
        "id": "bENVg8OVkZum",
        "outputId": "74987f91-f2ac-418e-a925-0ed2a913ee98"
      },
      "execution_count": null,
      "outputs": [
        {
          "output_type": "display_data",
          "data": {
            "text/plain": [
              "<Figure size 432x288 with 2 Axes>"
            ],
            "image/png": "[encoded data removed]"
          },
          "metadata": {
            "needs_background": "light"
          }
        }
      ]
    }
  ]
}